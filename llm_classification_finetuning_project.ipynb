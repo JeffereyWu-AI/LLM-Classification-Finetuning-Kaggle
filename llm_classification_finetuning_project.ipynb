{
  "cells": [
    {
      "cell_type": "markdown",
      "metadata": {},
      "source": [
        "## This notebook was run on Kaggle and Colab"
      ]
    },
    {
      "cell_type": "code",
      "execution_count": null,
      "metadata": {
        "_cell_guid": "b1076dfc-b9ad-4769-8c92-a6c4dae69d19",
        "_uuid": "8f2839f25d086af736a60e9eeb907d3b93b6e0e5",
        "colab": {
          "base_uri": "https://localhost:8080/"
        },
        "execution": {
          "iopub.execute_input": "2025-02-20T03:28:43.194488Z",
          "iopub.status.busy": "2025-02-20T03:28:43.194213Z",
          "iopub.status.idle": "2025-02-20T03:28:43.209928Z",
          "shell.execute_reply": "2025-02-20T03:28:43.208991Z",
          "shell.execute_reply.started": "2025-02-20T03:28:43.194467Z"
        },
        "id": "gTh3PxNokqLp",
        "outputId": "87f9915d-4f9e-4338-f03b-71aaceb1fdce",
        "trusted": true
      },
      "outputs": [
        {
          "name": "stdout",
          "output_type": "stream",
          "text": [
            "Cloning into 'LLM-Classification-Finetuning-Kaggle'...\n",
            "remote: Enumerating objects: 17, done.\u001b[K\n",
            "remote: Counting objects: 100% (17/17), done.\u001b[K\n",
            "remote: Compressing objects: 100% (14/14), done.\u001b[K\n",
            "remote: Total 17 (delta 3), reused 16 (delta 2), pack-reused 0 (from 0)\u001b[K\n",
            "Receiving objects: 100% (17/17), 25.32 KiB | 25.32 MiB/s, done.\n",
            "Resolving deltas: 100% (3/3), done.\n",
            "Filtering content: 100% (3/3), 175.65 MiB | 14.90 MiB/s, done.\n"
          ]
        }
      ],
      "source": [
        "!git clone https://github.com/JeffereyWu-AI/LLM-Classification-Finetuning-Kaggle.git"
      ]
    },
    {
      "cell_type": "markdown",
      "metadata": {
        "id": "MGQ2DelOkqLs"
      },
      "source": [
        "# Libraries"
      ]
    },
    {
      "cell_type": "code",
      "execution_count": null,
      "metadata": {
        "execution": {
          "iopub.execute_input": "2025-02-20T03:28:43.211720Z",
          "iopub.status.busy": "2025-02-20T03:28:43.211362Z",
          "iopub.status.idle": "2025-02-20T03:28:57.126539Z",
          "shell.execute_reply": "2025-02-20T03:28:57.125859Z",
          "shell.execute_reply.started": "2025-02-20T03:28:43.211687Z"
        },
        "id": "Z9D3sLkGkqLu",
        "trusted": true
      },
      "outputs": [],
      "source": [
        "import os\n",
        "os.environ[\"KERAS_BACKEND\"] = \"jax\"\n",
        "\n",
        "import keras_nlp\n",
        "import keras\n",
        "import tensorflow as tf"
      ]
    },
    {
      "cell_type": "code",
      "execution_count": null,
      "metadata": {
        "execution": {
          "iopub.execute_input": "2025-02-20T03:28:57.128777Z",
          "iopub.status.busy": "2025-02-20T03:28:57.128175Z",
          "iopub.status.idle": "2025-02-20T03:28:58.426390Z",
          "shell.execute_reply": "2025-02-20T03:28:58.425732Z",
          "shell.execute_reply.started": "2025-02-20T03:28:57.128752Z"
        },
        "id": "7bPgDq1ckqLw",
        "trusted": true
      },
      "outputs": [],
      "source": [
        "import numpy as np\n",
        "import pandas as pd\n",
        "from tqdm import tqdm\n",
        "import json\n",
        "import matplotlib.pyplot as plt\n",
        "import matplotlib as mpl\n",
        "import plotly.express as px\n",
        "import ast\n",
        "import math\n",
        "from sklearn.model_selection import StratifiedKFold"
      ]
    },
    {
      "cell_type": "code",
      "execution_count": null,
      "metadata": {
        "colab": {
          "base_uri": "https://localhost:8080/"
        },
        "execution": {
          "iopub.execute_input": "2025-02-20T03:28:58.427986Z",
          "iopub.status.busy": "2025-02-20T03:28:58.427417Z",
          "iopub.status.idle": "2025-02-20T03:28:58.432925Z",
          "shell.execute_reply": "2025-02-20T03:28:58.432153Z",
          "shell.execute_reply.started": "2025-02-20T03:28:58.427961Z"
        },
        "id": "AP8B2ZuZkqLx",
        "outputId": "3d3b010b-e17a-4506-faee-e554b1e16793",
        "trusted": true
      },
      "outputs": [
        {
          "name": "stdout",
          "output_type": "stream",
          "text": [
            "TensorFlow: 2.18.0\n",
            "Keras: 3.8.0\n",
            "KerasNLP: 0.18.1\n"
          ]
        }
      ],
      "source": [
        "print(\"TensorFlow:\", tf.__version__)\n",
        "print(\"Keras:\", keras.__version__)\n",
        "print(\"KerasNLP:\", keras_nlp.__version__)"
      ]
    },
    {
      "cell_type": "markdown",
      "metadata": {
        "id": "toVq6CtakqLy"
      },
      "source": [
        "定义一个 CFG 配置类，主要用于存储 训练和模型超参数"
      ]
    },
    {
      "cell_type": "code",
      "execution_count": null,
      "metadata": {
        "execution": {
          "iopub.execute_input": "2025-02-20T03:28:58.434183Z",
          "iopub.status.busy": "2025-02-20T03:28:58.433863Z",
          "iopub.status.idle": "2025-02-20T03:28:58.449403Z",
          "shell.execute_reply": "2025-02-20T03:28:58.448486Z",
          "shell.execute_reply.started": "2025-02-20T03:28:58.434153Z"
        },
        "id": "QUYoLoHFkqL0",
        "trusted": true
      },
      "outputs": [],
      "source": [
        "class CFG:\n",
        "    seed = 42\n",
        "    preset = \"deberta_v3_small_en\" # name of pretrained models\n",
        "    sequence_length = 512 # input sequence length\n",
        "    epochs = 5 # 训练的 总轮数\n",
        "    batch_size = 16\n",
        "    scheduler = 'cosine' # learning rate scheduler\n",
        "    label2name = {0:'winner_model_a', 1:'winner_model_b', 2:'winner_tie'}\n",
        "    name2label = {v: k for k, v in label2name.items()}\n",
        "    class_labels = list(label2name.keys())\n",
        "    class_names = list(label2name.values())"
      ]
    },
    {
      "cell_type": "code",
      "execution_count": null,
      "metadata": {
        "execution": {
          "iopub.execute_input": "2025-02-20T03:28:58.450539Z",
          "iopub.status.busy": "2025-02-20T03:28:58.450268Z",
          "iopub.status.idle": "2025-02-20T03:28:58.465343Z",
          "shell.execute_reply": "2025-02-20T03:28:58.464569Z",
          "shell.execute_reply.started": "2025-02-20T03:28:58.450511Z"
        },
        "id": "2cpzZeqAkqL1",
        "trusted": true
      },
      "outputs": [],
      "source": [
        "keras.utils.set_random_seed(CFG.seed)"
      ]
    },
    {
      "cell_type": "markdown",
      "metadata": {
        "id": "eY4HD5sJkqL2"
      },
      "source": [
        "Mixed Precision"
      ]
    },
    {
      "cell_type": "code",
      "execution_count": null,
      "metadata": {
        "execution": {
          "iopub.execute_input": "2025-02-20T03:28:58.466592Z",
          "iopub.status.busy": "2025-02-20T03:28:58.466319Z",
          "iopub.status.idle": "2025-02-20T03:28:58.480364Z",
          "shell.execute_reply": "2025-02-20T03:28:58.479655Z",
          "shell.execute_reply.started": "2025-02-20T03:28:58.466566Z"
        },
        "id": "6ti_pmZzkqL4",
        "trusted": true
      },
      "outputs": [],
      "source": [
        "keras.mixed_precision.set_global_policy(\"mixed_float16\")"
      ]
    },
    {
      "cell_type": "code",
      "execution_count": null,
      "metadata": {
        "execution": {
          "iopub.execute_input": "2025-02-20T03:28:58.482956Z",
          "iopub.status.busy": "2025-02-20T03:28:58.482737Z",
          "iopub.status.idle": "2025-02-20T03:28:58.495710Z",
          "shell.execute_reply": "2025-02-20T03:28:58.494905Z",
          "shell.execute_reply.started": "2025-02-20T03:28:58.482938Z"
        },
        "id": "Bg0X2sSPkqL5",
        "trusted": true
      },
      "outputs": [],
      "source": [
        "BASE_PATH = '/content/LLM-Classification-Finetuning-Kaggle/data'"
      ]
    },
    {
      "cell_type": "code",
      "execution_count": null,
      "metadata": {
        "colab": {
          "base_uri": "https://localhost:8080/",
          "height": 597
        },
        "execution": {
          "iopub.execute_input": "2025-02-20T03:28:58.497397Z",
          "iopub.status.busy": "2025-02-20T03:28:58.497119Z",
          "iopub.status.idle": "2025-02-20T03:29:01.844928Z",
          "shell.execute_reply": "2025-02-20T03:29:01.844088Z",
          "shell.execute_reply.started": "2025-02-20T03:28:58.497377Z"
        },
        "id": "glm2IU5-kqL5",
        "outputId": "520a6016-c372-4ea8-94ee-97a407fb6393",
        "trusted": true
      },
      "outputs": [
        {
          "data": {
            "application/vnd.google.colaboratory.intrinsic+json": {
              "summary": "{\n  \"name\": \"df\",\n  \"rows\": 57477,\n  \"fields\": [\n    {\n      \"column\": \"id\",\n      \"properties\": {\n        \"dtype\": \"number\",\n        \"std\": 1238326827,\n        \"min\": 30192,\n        \"max\": 4294947231,\n        \"num_unique_values\": 57477,\n        \"samples\": [\n          2785062085,\n          48259531,\n          3622731894\n        ],\n        \"semantic_type\": \"\",\n        \"description\": \"\"\n      }\n    },\n    {\n      \"column\": \"model_a\",\n      \"properties\": {\n        \"dtype\": \"category\",\n        \"num_unique_values\": 64,\n        \"samples\": [\n          \"mistral-7b-instruct\",\n          \"guanaco-33b\",\n          \"gpt-4-1106-preview\"\n        ],\n        \"semantic_type\": \"\",\n        \"description\": \"\"\n      }\n    },\n    {\n      \"column\": \"model_b\",\n      \"properties\": {\n        \"dtype\": \"category\",\n        \"num_unique_values\": 64,\n        \"samples\": [\n          \"llama2-70b-steerlm-chat\",\n          \"llama-13b\",\n          \"gpt-4-0613\"\n        ],\n        \"semantic_type\": \"\",\n        \"description\": \"\"\n      }\n    },\n    {\n      \"column\": \"prompt\",\n      \"properties\": {\n        \"dtype\": \"string\",\n        \"num_unique_values\": 51734,\n        \"samples\": [\n          \"[\\\"Are autoregressive language models (e.g. GPT-3) currently more popular than auto-encoding language models (e.g. BERT)? If so, what are the explanations?\\\"]\",\n          \"[\\\"Write a c++ algorithm that aims to find the rightmost zero in a binary representation, flip it to a one, and flip any 1s to its right\\\"]\",\n          \"[\\\"What is J\\\\u00e9r\\\\u00f4me WAX ?\\\"]\"\n        ],\n        \"semantic_type\": \"\",\n        \"description\": \"\"\n      }\n    },\n    {\n      \"column\": \"response_a\",\n      \"properties\": {\n        \"dtype\": \"string\",\n        \"num_unique_values\": 56566,\n        \"samples\": [\n          \"[\\\"Tea is grown commercially in the Azores, an autonomous region of Portugal. The main tea-producing estates are located on the island of S\\\\u00e3o Miguel, where the only commercial tea plantations in Europe can be found. The most well-known tea estates on S\\\\u00e3o Miguel are Gorreana Tea Estate and Porto Formoso Tea Factory.\\\"]\",\n          \"[\\\"Sure! Here's an example to illustrate how function pointers work in C:\\\\n\\\\n```c\\\\n#include <stdio.h>\\\\n\\\\n\\\\/\\\\/ Function to be pointed to\\\\nint add(int a, int b) {\\\\n    return a + b;\\\\n}\\\\n\\\\n\\\\/\\\\/ Function to demonstrate function pointers\\\\nvoid functionPointerExample(int (*funcPtr)(int, int)) {\\\\n    int result = funcPtr(5, 10);\\\\n    printf(\\\\\\\"Result: %d\\\\\\\\n\\\\\\\", result);\\\\n}\\\\n\\\\nint main() {\\\\n    \\\\/\\\\/ Use the address-of operator (&) to get the address of the add function\\\\n    int (*addPtr)(int, int) = &add;\\\\n\\\\n    \\\\/\\\\/ Call the functionPointerExample function and pass the address of the add function\\\\n    functionPointerExample(addPtr);\\\\n\\\\n    \\\\/\\\\/ Call the add function directly\\\\n    int result = add(15, 20);\\\\n    printf(\\\\\\\"Result: %d\\\\\\\\n\\\\\\\", result);\\\\n\\\\n    return 0;\\\\n}\\\\n```\\\\n\\\\nIn this example, we define a function `add` that takes two integers as arguments and returns their sum.\\\\n\\\\nWe then define a function `functionPointerExample` that takes a function pointer as an argument. This function calls the pointed-to function passing it two integers, and then prints the result.\\\\n\\\\nIn the main function, we create a function pointer `addPtr` which points to the `add` function. We then call the `functionPointerExample` function passing the address of the `add` function using the `&` operator.\\\\n\\\\nFinally, we call the `add` function directly and store the result in a variable `result`.\\\\n\\\\nI hope this helps you understand how function pointers work in C! Let me know if you have any other questions.\\\",\\\"To define a function pointer within a struct, you can define a member variable of the struct as a pointer to a function with a specific return type and argument list. Here's an example:\\\\n\\\\n```c\\\\n#include <stdio.h>\\\\n\\\\n\\\\/\\\\/ Define a structure with a function pointer member\\\\ntypedef struct {\\\\n    int (*calculate)(int);\\\\n} Calculator;\\\\n\\\\n\\\\/\\\\/ Function to be pointed to\\\\nint add(int num) {\\\\n    return num + 10;\\\\n}\\\\n\\\\n\\\\/\\\\/ Function to demonstrate using a function pointer within a struct\\\\nvoid useCalculator(Calculator calculator) {\\\\n    int result = calculator.calculate(15);\\\\n    printf(\\\\\\\"Result: %d\\\\\\\\n\\\\\\\", result);\\\\n}\\\\n\\\\nint main() {\\\\n    \\\\/\\\\/ Create a Calculator struct and initialize the function pointer member\\\\n    Calculator calculator = { add };\\\\n\\\\n    \\\\/\\\\/ Call the useCalculator function and pass the calculator struct\\\\n    useCalculator(calculator);\\\\n\\\\n    return 0;\\\\n}\\\\n```\\\\n\\\\nIn this example, we define a `typedef` for our `Calculator` struct, which has a single member `calculate` that is a pointer to a function that takes an integer as an argument and returns an integer.\\\\n\\\\nWe then define a function `add` that adds 10 to the input integer and return the result.\\\\n\\\\nWe define a function `useCalculator` that takes a `Calculator` struct as an argument and invokes the `calculate` member function of the struct with an argument of 15.\\\\n\\\\nIn the `main` function, we create a `Calculator` struct and initialize its `calculate` member with the address of the `add` function. We then call the `useCalculator` function passing the `calculator` struct.\\\\n\\\\nI hope this helps you understand how to define a function pointer within a struct in C! Let me know if you have any other questions.\\\"]\",\n          \"[\\\"In the depths of a dark and mysterious cave, there lived a heavily pregnant cavewoman named Ula. Her thick, matted hair cascaded down her back, and her skin was tanned and rough from years of living in the harsh wilderness. Ula's husband, Kadan, was a skilled hunter and provided for their small tribe. But lately, even his sharpest arrows seemed to fall short, and food had become scarce.\\\\n\\\\nUla felt a deep ache in her bones and her swollen belly. It was the third trimester, and her baby was growing rapidly. She wondered if she would ever be able to give birth in the cramped, narrow cave. Ula's tribe had no midwife, and her only hope was to rely on the wisdom passed down from her own mother.\\\\n\\\\nOne day, while Kadan was out hunting, Ula went into labor. Her screams echoed through the cave, and her tribe gathered around her in a frenzy. Ula's eyes widened as she felt the intense pain of contractions. She was afraid for her baby's life and her own.\\\\n\\\\nThe tribe tried to comfort Ula, but their efforts fell short. Ula's baby was too big, and the birth seemed impossible. Hours passed, and Ula lost all strength. Her tribe watched in horror as Ula's life slipped away. Suddenly, a loud cry broke the silence. Ula's baby had been born, and he was healthy and strong.\\\\n\\\\nThe tribe rejoiced at the sight of the newborn. They named him Kade, after Ula's husband, Kadan. Kade was a symbol of hope and resilience, and his birth brought new life and energy to the tribe.\\\\n\\\\nAs Ula took her last breath, she whispered to Kade, \\\\\\\"May you grow up to be a fierce and proud caveman, just like your father.\\\\\\\" Ula's legacy lived on through her son, and her tribe honored her memory by carving her name into the walls of the cave. The story of Ula, the heavily pregnant cavewoman who defied death to give birth to Kade, became a legend that would be passed down through the generations.\\\"]\"\n        ],\n        \"semantic_type\": \"\",\n        \"description\": \"\"\n      }\n    },\n    {\n      \"column\": \"response_b\",\n      \"properties\": {\n        \"dtype\": \"string\",\n        \"num_unique_values\": 56609,\n        \"samples\": [\n          \"[\\\"Unfortunately, I do not have enough context to provide specific details about \\\\\\\"mobility123\\\\\\\" in New Jersey. Mobility123 is not a term I am familiar with. To provide more useful information, it would be helpful if you could clarify what kind of service, company, or product mobility123 refers to, as well as any additional details about what you would like to know in relation to New Jersey. Please provide some more context and details so that I can try to assist. Let me know if you can share more information!\\\"]\",\n          \"[\\\"Abby, Amber, Amra, Arin, Arna, Ashy, Bari, Bett, Brix, Bryn, Brin, Brynne, Ciri, Cyrn, Ebby, Ebri, Elbr, Elmry, Embr, Raby, Reba\\\"]\",\n          \"[\\\"It's great that your child is considering how to communicate with her friends in a way that doesn't upset them. Here are some tips that may help:\\\\n\\\\n1. Listen actively: Encourage your child to listen to her friends without interrupting or judging them. This means paying attention to what they're saying, asking questions to clarify their thoughts, and acknowledging their feelings.\\\\n2. Use kind words: Remind your child to use kind and respectful language when talking to her friends. This means avoiding hurtful words or tone, and being mindful of how her words may be perceived by others.\\\\n3. Be empathetic: Encourage your child to try to see things from her friends' perspective and to understand their feelings and needs. This means putting herself in their shoes and considering how they might be feeling.\\\\n4. Avoid gossip: Remind your child that gossiping about her friends can be hurtful and damaging to their relationships. Encourage her to avoid talking about her friends behind their backs and to speak to them directly if she has concerns.\\\\n5. Be honest: Remind your child that honesty is always the best policy, even if it's difficult to hear. Encourage her to be open and truthful with her friends, but also to be gentle and considerate in how she delivers her message.\\\\n\\\\nBy following these tips, your child can learn how to communicate effectively with her friends without upsetting them.\\\"]\"\n        ],\n        \"semantic_type\": \"\",\n        \"description\": \"\"\n      }\n    },\n    {\n      \"column\": \"winner_model_a\",\n      \"properties\": {\n        \"dtype\": \"number\",\n        \"std\": 0,\n        \"min\": 0,\n        \"max\": 1,\n        \"num_unique_values\": 2,\n        \"samples\": [\n          0,\n          1\n        ],\n        \"semantic_type\": \"\",\n        \"description\": \"\"\n      }\n    },\n    {\n      \"column\": \"winner_model_b\",\n      \"properties\": {\n        \"dtype\": \"number\",\n        \"std\": 0,\n        \"min\": 0,\n        \"max\": 1,\n        \"num_unique_values\": 2,\n        \"samples\": [\n          1,\n          0\n        ],\n        \"semantic_type\": \"\",\n        \"description\": \"\"\n      }\n    },\n    {\n      \"column\": \"winner_tie\",\n      \"properties\": {\n        \"dtype\": \"number\",\n        \"std\": 0,\n        \"min\": 0,\n        \"max\": 1,\n        \"num_unique_values\": 2,\n        \"samples\": [\n          1,\n          0\n        ],\n        \"semantic_type\": \"\",\n        \"description\": \"\"\n      }\n    }\n  ]\n}",
              "type": "dataframe",
              "variable_name": "df"
            },
            "text/html": [
              "\n",
              "  <div id=\"df-ae0a24b9-6197-4454-a640-5a4f8d4e81c7\" class=\"colab-df-container\">\n",
              "    <div>\n",
              "<style scoped>\n",
              "    .dataframe tbody tr th:only-of-type {\n",
              "        vertical-align: middle;\n",
              "    }\n",
              "\n",
              "    .dataframe tbody tr th {\n",
              "        vertical-align: top;\n",
              "    }\n",
              "\n",
              "    .dataframe thead th {\n",
              "        text-align: right;\n",
              "    }\n",
              "</style>\n",
              "<table border=\"1\" class=\"dataframe\">\n",
              "  <thead>\n",
              "    <tr style=\"text-align: right;\">\n",
              "      <th></th>\n",
              "      <th>id</th>\n",
              "      <th>model_a</th>\n",
              "      <th>model_b</th>\n",
              "      <th>prompt</th>\n",
              "      <th>response_a</th>\n",
              "      <th>response_b</th>\n",
              "      <th>winner_model_a</th>\n",
              "      <th>winner_model_b</th>\n",
              "      <th>winner_tie</th>\n",
              "    </tr>\n",
              "  </thead>\n",
              "  <tbody>\n",
              "    <tr>\n",
              "      <th>0</th>\n",
              "      <td>30192</td>\n",
              "      <td>gpt-4-1106-preview</td>\n",
              "      <td>gpt-4-0613</td>\n",
              "      <td>[\"Is it morally right to try to have a certain...</td>\n",
              "      <td>[\"The question of whether it is morally right ...</td>\n",
              "      <td>[\"As an AI, I don't have personal beliefs or o...</td>\n",
              "      <td>1</td>\n",
              "      <td>0</td>\n",
              "      <td>0</td>\n",
              "    </tr>\n",
              "    <tr>\n",
              "      <th>1</th>\n",
              "      <td>53567</td>\n",
              "      <td>koala-13b</td>\n",
              "      <td>gpt-4-0613</td>\n",
              "      <td>[\"What is the difference between marriage lice...</td>\n",
              "      <td>[\"A marriage license is a legal document that ...</td>\n",
              "      <td>[\"A marriage license and a marriage certificat...</td>\n",
              "      <td>0</td>\n",
              "      <td>1</td>\n",
              "      <td>0</td>\n",
              "    </tr>\n",
              "    <tr>\n",
              "      <th>2</th>\n",
              "      <td>65089</td>\n",
              "      <td>gpt-3.5-turbo-0613</td>\n",
              "      <td>mistral-medium</td>\n",
              "      <td>[\"explain function calling. how would you call...</td>\n",
              "      <td>[\"Function calling is the process of invoking ...</td>\n",
              "      <td>[\"Function calling is the process of invoking ...</td>\n",
              "      <td>0</td>\n",
              "      <td>0</td>\n",
              "      <td>1</td>\n",
              "    </tr>\n",
              "    <tr>\n",
              "      <th>3</th>\n",
              "      <td>96401</td>\n",
              "      <td>llama-2-13b-chat</td>\n",
              "      <td>mistral-7b-instruct</td>\n",
              "      <td>[\"How can I create a test set for a very rare ...</td>\n",
              "      <td>[\"Creating a test set for a very rare category...</td>\n",
              "      <td>[\"When building a classifier for a very rare c...</td>\n",
              "      <td>1</td>\n",
              "      <td>0</td>\n",
              "      <td>0</td>\n",
              "    </tr>\n",
              "    <tr>\n",
              "      <th>4</th>\n",
              "      <td>198779</td>\n",
              "      <td>koala-13b</td>\n",
              "      <td>gpt-3.5-turbo-0314</td>\n",
              "      <td>[\"What is the best way to travel from Tel-Aviv...</td>\n",
              "      <td>[\"The best way to travel from Tel Aviv to Jeru...</td>\n",
              "      <td>[\"The best way to travel from Tel-Aviv to Jeru...</td>\n",
              "      <td>0</td>\n",
              "      <td>1</td>\n",
              "      <td>0</td>\n",
              "    </tr>\n",
              "    <tr>\n",
              "      <th>...</th>\n",
              "      <td>...</td>\n",
              "      <td>...</td>\n",
              "      <td>...</td>\n",
              "      <td>...</td>\n",
              "      <td>...</td>\n",
              "      <td>...</td>\n",
              "      <td>...</td>\n",
              "      <td>...</td>\n",
              "      <td>...</td>\n",
              "    </tr>\n",
              "    <tr>\n",
              "      <th>57472</th>\n",
              "      <td>4294656694</td>\n",
              "      <td>gpt-4-0613</td>\n",
              "      <td>claude-1</td>\n",
              "      <td>[\"A simple mnemonic for \\u03c0:\\n\\\"How I wish ...</td>\n",
              "      <td>[\"Sure, let's break it down:\\n\\n1. \\\"How\\\" has...</td>\n",
              "      <td>[\"Here is how that mnemonic represents the dig...</td>\n",
              "      <td>1</td>\n",
              "      <td>0</td>\n",
              "      <td>0</td>\n",
              "    </tr>\n",
              "    <tr>\n",
              "      <th>57473</th>\n",
              "      <td>4294692063</td>\n",
              "      <td>claude-2.0</td>\n",
              "      <td>llama-2-13b-chat</td>\n",
              "      <td>[\"In python, implement a naive Bayes with gaus...</td>\n",
              "      <td>[\"Here is an implementation of a naive Bayes c...</td>\n",
              "      <td>[\"Sure! Here's an implementation of a naive Ba...</td>\n",
              "      <td>1</td>\n",
              "      <td>0</td>\n",
              "      <td>0</td>\n",
              "    </tr>\n",
              "    <tr>\n",
              "      <th>57474</th>\n",
              "      <td>4294710549</td>\n",
              "      <td>claude-1</td>\n",
              "      <td>alpaca-13b</td>\n",
              "      <td>[\"is it unethical to work on building weapons?...</td>\n",
              "      <td>[\"Working on weapons technology raises some et...</td>\n",
              "      <td>[\"It depends on the context. Weapons can be us...</td>\n",
              "      <td>1</td>\n",
              "      <td>0</td>\n",
              "      <td>0</td>\n",
              "    </tr>\n",
              "    <tr>\n",
              "      <th>57475</th>\n",
              "      <td>4294899228</td>\n",
              "      <td>palm-2</td>\n",
              "      <td>tulu-2-dpo-70b</td>\n",
              "      <td>[\"If a bait contains 0,0025% bromadiolon then ...</td>\n",
              "      <td>[\"Bromadiolone is a rodenticide which is most ...</td>\n",
              "      <td>[\"As an AI language model, I do not promote or...</td>\n",
              "      <td>0</td>\n",
              "      <td>1</td>\n",
              "      <td>0</td>\n",
              "    </tr>\n",
              "    <tr>\n",
              "      <th>57476</th>\n",
              "      <td>4294947231</td>\n",
              "      <td>gemini-pro-dev-api</td>\n",
              "      <td>gpt-4-1106-preview</td>\n",
              "      <td>[\"three kids eat three apples in three days, h...</td>\n",
              "      <td>[\"27 apples\"]</td>\n",
              "      <td>[\"If three kids eat three apples in three days...</td>\n",
              "      <td>1</td>\n",
              "      <td>0</td>\n",
              "      <td>0</td>\n",
              "    </tr>\n",
              "  </tbody>\n",
              "</table>\n",
              "<p>57477 rows × 9 columns</p>\n",
              "</div>\n",
              "    <div class=\"colab-df-buttons\">\n",
              "\n",
              "  <div class=\"colab-df-container\">\n",
              "    <button class=\"colab-df-convert\" onclick=\"convertToInteractive('df-ae0a24b9-6197-4454-a640-5a4f8d4e81c7')\"\n",
              "            title=\"Convert this dataframe to an interactive table.\"\n",
              "            style=\"display:none;\">\n",
              "\n",
              "  <svg xmlns=\"http://www.w3.org/2000/svg\" height=\"24px\" viewBox=\"0 -960 960 960\">\n",
              "    <path d=\"M120-120v-720h720v720H120Zm60-500h600v-160H180v160Zm220 220h160v-160H400v160Zm0 220h160v-160H400v160ZM180-400h160v-160H180v160Zm440 0h160v-160H620v160ZM180-180h160v-160H180v160Zm440 0h160v-160H620v160Z\"/>\n",
              "  </svg>\n",
              "    </button>\n",
              "\n",
              "  <style>\n",
              "    .colab-df-container {\n",
              "      display:flex;\n",
              "      gap: 12px;\n",
              "    }\n",
              "\n",
              "    .colab-df-convert {\n",
              "      background-color: #E8F0FE;\n",
              "      border: none;\n",
              "      border-radius: 50%;\n",
              "      cursor: pointer;\n",
              "      display: none;\n",
              "      fill: #1967D2;\n",
              "      height: 32px;\n",
              "      padding: 0 0 0 0;\n",
              "      width: 32px;\n",
              "    }\n",
              "\n",
              "    .colab-df-convert:hover {\n",
              "      background-color: #E2EBFA;\n",
              "      box-shadow: 0px 1px 2px rgba(60, 64, 67, 0.3), 0px 1px 3px 1px rgba(60, 64, 67, 0.15);\n",
              "      fill: #174EA6;\n",
              "    }\n",
              "\n",
              "    .colab-df-buttons div {\n",
              "      margin-bottom: 4px;\n",
              "    }\n",
              "\n",
              "    [theme=dark] .colab-df-convert {\n",
              "      background-color: #3B4455;\n",
              "      fill: #D2E3FC;\n",
              "    }\n",
              "\n",
              "    [theme=dark] .colab-df-convert:hover {\n",
              "      background-color: #434B5C;\n",
              "      box-shadow: 0px 1px 3px 1px rgba(0, 0, 0, 0.15);\n",
              "      filter: drop-shadow(0px 1px 2px rgba(0, 0, 0, 0.3));\n",
              "      fill: #FFFFFF;\n",
              "    }\n",
              "  </style>\n",
              "\n",
              "    <script>\n",
              "      const buttonEl =\n",
              "        document.querySelector('#df-ae0a24b9-6197-4454-a640-5a4f8d4e81c7 button.colab-df-convert');\n",
              "      buttonEl.style.display =\n",
              "        google.colab.kernel.accessAllowed ? 'block' : 'none';\n",
              "\n",
              "      async function convertToInteractive(key) {\n",
              "        const element = document.querySelector('#df-ae0a24b9-6197-4454-a640-5a4f8d4e81c7');\n",
              "        const dataTable =\n",
              "          await google.colab.kernel.invokeFunction('convertToInteractive',\n",
              "                                                    [key], {});\n",
              "        if (!dataTable) return;\n",
              "\n",
              "        const docLinkHtml = 'Like what you see? Visit the ' +\n",
              "          '<a target=\"_blank\" href=https://colab.research.google.com/notebooks/data_table.ipynb>data table notebook</a>'\n",
              "          + ' to learn more about interactive tables.';\n",
              "        element.innerHTML = '';\n",
              "        dataTable['output_type'] = 'display_data';\n",
              "        await google.colab.output.renderOutput(dataTable, element);\n",
              "        const docLink = document.createElement('div');\n",
              "        docLink.innerHTML = docLinkHtml;\n",
              "        element.appendChild(docLink);\n",
              "      }\n",
              "    </script>\n",
              "  </div>\n",
              "\n",
              "\n",
              "<div id=\"df-2722360b-3bbc-4639-9ae1-b3646c983a82\">\n",
              "  <button class=\"colab-df-quickchart\" onclick=\"quickchart('df-2722360b-3bbc-4639-9ae1-b3646c983a82')\"\n",
              "            title=\"Suggest charts\"\n",
              "            style=\"display:none;\">\n",
              "\n",
              "<svg xmlns=\"http://www.w3.org/2000/svg\" height=\"24px\"viewBox=\"0 0 24 24\"\n",
              "     width=\"24px\">\n",
              "    <g>\n",
              "        <path d=\"M19 3H5c-1.1 0-2 .9-2 2v14c0 1.1.9 2 2 2h14c1.1 0 2-.9 2-2V5c0-1.1-.9-2-2-2zM9 17H7v-7h2v7zm4 0h-2V7h2v10zm4 0h-2v-4h2v4z\"/>\n",
              "    </g>\n",
              "</svg>\n",
              "  </button>\n",
              "\n",
              "<style>\n",
              "  .colab-df-quickchart {\n",
              "      --bg-color: #E8F0FE;\n",
              "      --fill-color: #1967D2;\n",
              "      --hover-bg-color: #E2EBFA;\n",
              "      --hover-fill-color: #174EA6;\n",
              "      --disabled-fill-color: #AAA;\n",
              "      --disabled-bg-color: #DDD;\n",
              "  }\n",
              "\n",
              "  [theme=dark] .colab-df-quickchart {\n",
              "      --bg-color: #3B4455;\n",
              "      --fill-color: #D2E3FC;\n",
              "      --hover-bg-color: #434B5C;\n",
              "      --hover-fill-color: #FFFFFF;\n",
              "      --disabled-bg-color: #3B4455;\n",
              "      --disabled-fill-color: #666;\n",
              "  }\n",
              "\n",
              "  .colab-df-quickchart {\n",
              "    background-color: var(--bg-color);\n",
              "    border: none;\n",
              "    border-radius: 50%;\n",
              "    cursor: pointer;\n",
              "    display: none;\n",
              "    fill: var(--fill-color);\n",
              "    height: 32px;\n",
              "    padding: 0;\n",
              "    width: 32px;\n",
              "  }\n",
              "\n",
              "  .colab-df-quickchart:hover {\n",
              "    background-color: var(--hover-bg-color);\n",
              "    box-shadow: 0 1px 2px rgba(60, 64, 67, 0.3), 0 1px 3px 1px rgba(60, 64, 67, 0.15);\n",
              "    fill: var(--button-hover-fill-color);\n",
              "  }\n",
              "\n",
              "  .colab-df-quickchart-complete:disabled,\n",
              "  .colab-df-quickchart-complete:disabled:hover {\n",
              "    background-color: var(--disabled-bg-color);\n",
              "    fill: var(--disabled-fill-color);\n",
              "    box-shadow: none;\n",
              "  }\n",
              "\n",
              "  .colab-df-spinner {\n",
              "    border: 2px solid var(--fill-color);\n",
              "    border-color: transparent;\n",
              "    border-bottom-color: var(--fill-color);\n",
              "    animation:\n",
              "      spin 1s steps(1) infinite;\n",
              "  }\n",
              "\n",
              "  @keyframes spin {\n",
              "    0% {\n",
              "      border-color: transparent;\n",
              "      border-bottom-color: var(--fill-color);\n",
              "      border-left-color: var(--fill-color);\n",
              "    }\n",
              "    20% {\n",
              "      border-color: transparent;\n",
              "      border-left-color: var(--fill-color);\n",
              "      border-top-color: var(--fill-color);\n",
              "    }\n",
              "    30% {\n",
              "      border-color: transparent;\n",
              "      border-left-color: var(--fill-color);\n",
              "      border-top-color: var(--fill-color);\n",
              "      border-right-color: var(--fill-color);\n",
              "    }\n",
              "    40% {\n",
              "      border-color: transparent;\n",
              "      border-right-color: var(--fill-color);\n",
              "      border-top-color: var(--fill-color);\n",
              "    }\n",
              "    60% {\n",
              "      border-color: transparent;\n",
              "      border-right-color: var(--fill-color);\n",
              "    }\n",
              "    80% {\n",
              "      border-color: transparent;\n",
              "      border-right-color: var(--fill-color);\n",
              "      border-bottom-color: var(--fill-color);\n",
              "    }\n",
              "    90% {\n",
              "      border-color: transparent;\n",
              "      border-bottom-color: var(--fill-color);\n",
              "    }\n",
              "  }\n",
              "</style>\n",
              "\n",
              "  <script>\n",
              "    async function quickchart(key) {\n",
              "      const quickchartButtonEl =\n",
              "        document.querySelector('#' + key + ' button');\n",
              "      quickchartButtonEl.disabled = true;  // To prevent multiple clicks.\n",
              "      quickchartButtonEl.classList.add('colab-df-spinner');\n",
              "      try {\n",
              "        const charts = await google.colab.kernel.invokeFunction(\n",
              "            'suggestCharts', [key], {});\n",
              "      } catch (error) {\n",
              "        console.error('Error during call to suggestCharts:', error);\n",
              "      }\n",
              "      quickchartButtonEl.classList.remove('colab-df-spinner');\n",
              "      quickchartButtonEl.classList.add('colab-df-quickchart-complete');\n",
              "    }\n",
              "    (() => {\n",
              "      let quickchartButtonEl =\n",
              "        document.querySelector('#df-2722360b-3bbc-4639-9ae1-b3646c983a82 button');\n",
              "      quickchartButtonEl.style.display =\n",
              "        google.colab.kernel.accessAllowed ? 'block' : 'none';\n",
              "    })();\n",
              "  </script>\n",
              "</div>\n",
              "    </div>\n",
              "  </div>\n"
            ],
            "text/plain": [
              "               id             model_a              model_b  \\\n",
              "0           30192  gpt-4-1106-preview           gpt-4-0613   \n",
              "1           53567           koala-13b           gpt-4-0613   \n",
              "2           65089  gpt-3.5-turbo-0613       mistral-medium   \n",
              "3           96401    llama-2-13b-chat  mistral-7b-instruct   \n",
              "4          198779           koala-13b   gpt-3.5-turbo-0314   \n",
              "...           ...                 ...                  ...   \n",
              "57472  4294656694          gpt-4-0613             claude-1   \n",
              "57473  4294692063          claude-2.0     llama-2-13b-chat   \n",
              "57474  4294710549            claude-1           alpaca-13b   \n",
              "57475  4294899228              palm-2       tulu-2-dpo-70b   \n",
              "57476  4294947231  gemini-pro-dev-api   gpt-4-1106-preview   \n",
              "\n",
              "                                                  prompt  \\\n",
              "0      [\"Is it morally right to try to have a certain...   \n",
              "1      [\"What is the difference between marriage lice...   \n",
              "2      [\"explain function calling. how would you call...   \n",
              "3      [\"How can I create a test set for a very rare ...   \n",
              "4      [\"What is the best way to travel from Tel-Aviv...   \n",
              "...                                                  ...   \n",
              "57472  [\"A simple mnemonic for \\u03c0:\\n\\\"How I wish ...   \n",
              "57473  [\"In python, implement a naive Bayes with gaus...   \n",
              "57474  [\"is it unethical to work on building weapons?...   \n",
              "57475  [\"If a bait contains 0,0025% bromadiolon then ...   \n",
              "57476  [\"three kids eat three apples in three days, h...   \n",
              "\n",
              "                                              response_a  \\\n",
              "0      [\"The question of whether it is morally right ...   \n",
              "1      [\"A marriage license is a legal document that ...   \n",
              "2      [\"Function calling is the process of invoking ...   \n",
              "3      [\"Creating a test set for a very rare category...   \n",
              "4      [\"The best way to travel from Tel Aviv to Jeru...   \n",
              "...                                                  ...   \n",
              "57472  [\"Sure, let's break it down:\\n\\n1. \\\"How\\\" has...   \n",
              "57473  [\"Here is an implementation of a naive Bayes c...   \n",
              "57474  [\"Working on weapons technology raises some et...   \n",
              "57475  [\"Bromadiolone is a rodenticide which is most ...   \n",
              "57476                                      [\"27 apples\"]   \n",
              "\n",
              "                                              response_b  winner_model_a  \\\n",
              "0      [\"As an AI, I don't have personal beliefs or o...               1   \n",
              "1      [\"A marriage license and a marriage certificat...               0   \n",
              "2      [\"Function calling is the process of invoking ...               0   \n",
              "3      [\"When building a classifier for a very rare c...               1   \n",
              "4      [\"The best way to travel from Tel-Aviv to Jeru...               0   \n",
              "...                                                  ...             ...   \n",
              "57472  [\"Here is how that mnemonic represents the dig...               1   \n",
              "57473  [\"Sure! Here's an implementation of a naive Ba...               1   \n",
              "57474  [\"It depends on the context. Weapons can be us...               1   \n",
              "57475  [\"As an AI language model, I do not promote or...               0   \n",
              "57476  [\"If three kids eat three apples in three days...               1   \n",
              "\n",
              "       winner_model_b  winner_tie  \n",
              "0                   0           0  \n",
              "1                   1           0  \n",
              "2                   0           1  \n",
              "3                   0           0  \n",
              "4                   1           0  \n",
              "...               ...         ...  \n",
              "57472               0           0  \n",
              "57473               0           0  \n",
              "57474               0           0  \n",
              "57475               1           0  \n",
              "57476               0           0  \n",
              "\n",
              "[57477 rows x 9 columns]"
            ]
          },
          "execution_count": 9,
          "metadata": {},
          "output_type": "execute_result"
        }
      ],
      "source": [
        "# load train data\n",
        "df = pd.read_csv(f'{BASE_PATH}/train.csv')\n",
        "\n",
        "df"
      ]
    },
    {
      "cell_type": "code",
      "execution_count": null,
      "metadata": {
        "colab": {
          "base_uri": "https://localhost:8080/"
        },
        "execution": {
          "iopub.execute_input": "2025-02-20T03:29:01.846251Z",
          "iopub.status.busy": "2025-02-20T03:29:01.845935Z",
          "iopub.status.idle": "2025-02-20T03:29:01.851551Z",
          "shell.execute_reply": "2025-02-20T03:29:01.850378Z",
          "shell.execute_reply.started": "2025-02-20T03:29:01.846206Z"
        },
        "id": "e2A8b32ykqL7",
        "outputId": "ffefe04d-6991-4d41-bb40-f574c7d768d9",
        "trusted": true
      },
      "outputs": [
        {
          "data": {
            "text/plain": [
              "57477"
            ]
          },
          "execution_count": 10,
          "metadata": {},
          "output_type": "execute_result"
        }
      ],
      "source": [
        "len(df)"
      ]
    },
    {
      "cell_type": "code",
      "execution_count": null,
      "metadata": {
        "colab": {
          "base_uri": "https://localhost:8080/",
          "height": 35
        },
        "execution": {
          "iopub.execute_input": "2025-02-20T03:29:01.853065Z",
          "iopub.status.busy": "2025-02-20T03:29:01.852780Z",
          "iopub.status.idle": "2025-02-20T03:29:01.909173Z",
          "shell.execute_reply": "2025-02-20T03:29:01.908395Z",
          "shell.execute_reply.started": "2025-02-20T03:29:01.853045Z"
        },
        "id": "4eWC_BEPkqL7",
        "outputId": "a1c83214-69ff-4221-995c-b23f69dd1d71",
        "trusted": true
      },
      "outputs": [
        {
          "data": {
            "application/vnd.google.colaboratory.intrinsic+json": {
              "type": "string"
            },
            "text/plain": [
              "'[\"Is it morally right to try to have a certain percentage of females on managerial positions?\",\"OK, does pineapple belong on a pizza? Relax and give me fun answer.\"]'"
            ]
          },
          "execution_count": 11,
          "metadata": {},
          "output_type": "execute_result"
        }
      ],
      "source": [
        "df.prompt[0]"
      ]
    },
    {
      "cell_type": "code",
      "execution_count": null,
      "metadata": {
        "colab": {
          "base_uri": "https://localhost:8080/",
          "height": 35
        },
        "execution": {
          "iopub.execute_input": "2025-02-20T03:29:01.910048Z",
          "iopub.status.busy": "2025-02-20T03:29:01.909833Z",
          "iopub.status.idle": "2025-02-20T03:29:01.925745Z",
          "shell.execute_reply": "2025-02-20T03:29:01.924952Z",
          "shell.execute_reply.started": "2025-02-20T03:29:01.910030Z"
        },
        "id": "dBVTVcJBkqL8",
        "outputId": "c6a6c4e2-9f1f-4772-83fb-8c96cb95c01e",
        "trusted": true
      },
      "outputs": [
        {
          "data": {
            "application/vnd.google.colaboratory.intrinsic+json": {
              "type": "string"
            },
            "text/plain": [
              "'[\"What is the difference between marriage license and marriage certificate?\",\"How can I get both of them as quick as possible in California \",\"What is the minimal time to get them? 1 day or 10 days?\"]'"
            ]
          },
          "execution_count": 12,
          "metadata": {},
          "output_type": "execute_result"
        }
      ],
      "source": [
        "df.prompt[1]"
      ]
    },
    {
      "cell_type": "code",
      "execution_count": null,
      "metadata": {
        "colab": {
          "base_uri": "https://localhost:8080/"
        },
        "execution": {
          "iopub.execute_input": "2025-02-20T03:29:01.926752Z",
          "iopub.status.busy": "2025-02-20T03:29:01.926541Z",
          "iopub.status.idle": "2025-02-20T03:29:01.944021Z",
          "shell.execute_reply": "2025-02-20T03:29:01.943339Z",
          "shell.execute_reply.started": "2025-02-20T03:29:01.926734Z"
        },
        "id": "Plhg8x1ykqL8",
        "outputId": "6e01d6b7-3535-4b4e-c8d2-5e5b0c729548",
        "trusted": true
      },
      "outputs": [
        {
          "data": {
            "text/plain": [
              "['What is the difference between marriage license and marriage certificate?',\n",
              " 'How can I get both of them as quick as possible in California ',\n",
              " 'What is the minimal time to get them? 1 day or 10 days?']"
            ]
          },
          "execution_count": 13,
          "metadata": {},
          "output_type": "execute_result"
        }
      ],
      "source": [
        "ast.literal_eval(df.prompt[1])"
      ]
    },
    {
      "cell_type": "code",
      "execution_count": null,
      "metadata": {
        "colab": {
          "base_uri": "https://localhost:8080/"
        },
        "execution": {
          "iopub.execute_input": "2025-02-20T03:29:01.945056Z",
          "iopub.status.busy": "2025-02-20T03:29:01.944848Z",
          "iopub.status.idle": "2025-02-20T03:29:01.959632Z",
          "shell.execute_reply": "2025-02-20T03:29:01.958836Z",
          "shell.execute_reply.started": "2025-02-20T03:29:01.945038Z"
        },
        "id": "hhTwFasrkqL8",
        "outputId": "e090d486-6394-4d4a-a656-0739a82ae94f",
        "trusted": true
      },
      "outputs": [
        {
          "data": {
            "text/plain": [
              "[\"A marriage license is a legal document that allows a couple to get married. It is issued by a government agency, such as a county clerk's office or a state government, and is valid for a certain period of time, usually one year. After the marriage has taken place, the couple must obtain a marriage certificate, which is a document that records the marriage and is used to prove that the marriage took place. The marriage certificate is usually issued by the same government agency that issued the marriage license, and it is typically used for legal purposes, such as to change a name on a driver's license or to prove that a couple is married when applying for government benefits.\",\n",
              " \"If you want to get both a marriage license and a marriage certificate in California as quickly as possible, there are a few steps you can follow:\\n\\n1.   Obtain a marriage license: You can obtain a marriage license from the county clerk's office in the county where you plan to marry. The process typically takes about 30 minutes to complete and you will need to bring identification, such as a driver's license or passport, and proof of your age, such as a birth certificate or a passport. The marriage license is valid for one year and there is no waiting period between the time you obtain the license and the time of the marriage.\\n2.   Get married: After obtaining the marriage license, you can get married at any location of your choice, as long as it is legally recognized as a place to get married.\\n3.   Obtain a marriage certificate: After the marriage has taken place, you need to obtain a marriage certificate from the same government agency that issued the marriage license. The process typically takes about 30 minutes to complete and you will need to bring the marriage license and a copy of the marriage certificate to the government agency.\\n\\nNote: You may need to check with your county clerk's office for the specific requirements and process for obtaining a marriage license and a marriage certificate in California.\",\n",
              " \"The minimal time to get a marriage license and a marriage certificate in California can vary depending on the specific requirements and process in your county. Generally, you can obtain a marriage license and a marriage certificate in California within a few days of applying, but it is best to check with your county clerk's office for the specific requirements and process for your county.\\n\\nIn some counties, you can obtain a marriage license and a marriage certificate on the same day, while in other counties, you may need to wait a few days. The process typically takes about 30 minutes to complete and you will need to bring identification, such as a driver's license or passport, and proof of your age, such as a birth certificate or a passport.\\n\\nIt is important to note that some counties in California require a waiting period between the time you obtain the marriage license and the time of the marriage. This waiting period can range from a few days to several weeks, and it is best to check with your county clerk's office for the specific requirements in your county.\"]"
            ]
          },
          "execution_count": 14,
          "metadata": {},
          "output_type": "execute_result"
        }
      ],
      "source": [
        "ast.literal_eval(df.response_a[1])"
      ]
    },
    {
      "cell_type": "code",
      "execution_count": null,
      "metadata": {
        "colab": {
          "base_uri": "https://localhost:8080/"
        },
        "execution": {
          "iopub.execute_input": "2025-02-20T03:29:01.960930Z",
          "iopub.status.busy": "2025-02-20T03:29:01.960619Z",
          "iopub.status.idle": "2025-02-20T03:29:01.974441Z",
          "shell.execute_reply": "2025-02-20T03:29:01.973698Z",
          "shell.execute_reply.started": "2025-02-20T03:29:01.960870Z"
        },
        "id": "k6UAb0V4kqL8",
        "outputId": "8c23b9cf-0388-4ec0-cfa9-8502a670979c",
        "trusted": true
      },
      "outputs": [
        {
          "data": {
            "text/plain": [
              "[\"A marriage license and a marriage certificate are two different legal documents that have separate purposes.\\n\\n1. Marriage License: A marriage license is a legal document that gives a couple permission to get married. It's usually obtained from local government or court officials before the wedding ceremony takes place. The couple is required to meet certain criteria, such as being of a certain age or not being closely related. Once the license is issued, there's often a waiting period before the marriage ceremony can take place. The marriage license has to be signed by the couple, their witnesses, and the officiant conducting the marriage ceremony, then returned to the license issuer for recording.\\n\\n2. Marriage Certificate: A marriage certificate, on the other hand, is a document that proves a marriage has legally taken place. It's issued after the marriage ceremony, once the signed marriage license has been returned and recorded. The marriage certificate includes details about the couple, like their names, the date and location of their wedding, and the names of their witnesses. This document serves as the official record of the marriage and is often needed for legal transactions like changing a name, adding a spouse to insurance, or proving marital status.\",\n",
              " \"In California, here are the general steps to obtain a marriage license and marriage certificate as quickly as possible:\\n\\n1. Marriage License:\\n\\n   - Both parties must appear together at one of the County Clerk’s offices.\\n   - Complete a marriage license application before arriving (available online in many counties).\\n   - Bring valid identification (driver's license, passport, etc.) to prove your identity and age.\\n   - In California, you do not need to be a resident, and there's no waiting period or blood test required.\\n   - Pay the marriage license fee. The fee varies by county but is usually between $35 and $100.\\n   - The marriage license is issued immediately and is valid for 90 days.\\n\\n2. Marriage Ceremony: \\n\\n   - Arrange to have a wedding ceremony within 90 days of receiving the license. This could be a civil ceremony performed at the County Clerk’s office or a private ceremony.\\n   - The person performing the ceremony must return the completed license to the County Recorder’s office within 10 days of the ceremony.\\n\\n3. Marriage Certificate: \\n\\n   - After the signed marriage license has been returned and registered by the County Recorder, it becomes a marriage certificate.\\n   - You can order copies of the certificate for an additional fee. Processing times can vary, but expedited service may be available for an extra fee.\\n\\nRemember, each county may have slightly different rules and fees, so it's best to check with your specific County Clerk’s office for the most accurate information.\",\n",
              " \"The marriage license in California is issued immediately when you apply in person and meet all the requirements, so theoretically, you could get married on the same day if you have an officiant ready to perform the ceremony.\\n\\nHowever, the marriage certificate, which is the official record of your marriage, is only issued after the signed marriage license is returned and recorded by the county. The person who performs your marriage ceremony has 10 days to return the license to the county recorder's office.\\n\\nSo, while you could technically get married (i.e., obtain a license and have a ceremony) within a day, receiving the official marriage certificate will take a little longer, depending on how quickly the signed license is returned and how long the county recorder's office takes to process it.\"]"
            ]
          },
          "execution_count": 15,
          "metadata": {},
          "output_type": "execute_result"
        }
      ],
      "source": [
        "ast.literal_eval(df.response_b[1])"
      ]
    },
    {
      "cell_type": "code",
      "execution_count": null,
      "metadata": {
        "colab": {
          "base_uri": "https://localhost:8080/",
          "height": 458
        },
        "execution": {
          "iopub.execute_input": "2025-02-20T03:29:01.975433Z",
          "iopub.status.busy": "2025-02-20T03:29:01.975147Z",
          "iopub.status.idle": "2025-02-20T03:29:02.598554Z",
          "shell.execute_reply": "2025-02-20T03:29:02.597674Z",
          "shell.execute_reply.started": "2025-02-20T03:29:01.975407Z"
        },
        "id": "BmscNfG9kqL9",
        "outputId": "1ee75222-dc3b-4e67-b4d6-4a00167af5b2",
        "trusted": true
      },
      "outputs": [
        {
          "data": {
            "text/html": [
              "<div>\n",
              "<style scoped>\n",
              "    .dataframe tbody tr th:only-of-type {\n",
              "        vertical-align: middle;\n",
              "    }\n",
              "\n",
              "    .dataframe tbody tr th {\n",
              "        vertical-align: top;\n",
              "    }\n",
              "\n",
              "    .dataframe thead th {\n",
              "        text-align: right;\n",
              "    }\n",
              "</style>\n",
              "<table border=\"1\" class=\"dataframe\">\n",
              "  <thead>\n",
              "    <tr style=\"text-align: right;\">\n",
              "      <th></th>\n",
              "      <th>prompt</th>\n",
              "    </tr>\n",
              "  </thead>\n",
              "  <tbody>\n",
              "    <tr>\n",
              "      <th>0</th>\n",
              "      <td>Is it morally right to try to have a certain p...</td>\n",
              "    </tr>\n",
              "    <tr>\n",
              "      <th>1</th>\n",
              "      <td>What is the difference between marriage licens...</td>\n",
              "    </tr>\n",
              "    <tr>\n",
              "      <th>2</th>\n",
              "      <td>explain function calling. how would you call a...</td>\n",
              "    </tr>\n",
              "    <tr>\n",
              "      <th>3</th>\n",
              "      <td>How can I create a test set for a very rare ca...</td>\n",
              "    </tr>\n",
              "    <tr>\n",
              "      <th>4</th>\n",
              "      <td>What is the best way to travel from Tel-Aviv t...</td>\n",
              "    </tr>\n",
              "    <tr>\n",
              "      <th>...</th>\n",
              "      <td>...</td>\n",
              "    </tr>\n",
              "    <tr>\n",
              "      <th>57472</th>\n",
              "      <td>A simple mnemonic for π:\\n\"How I wish I could ...</td>\n",
              "    </tr>\n",
              "    <tr>\n",
              "      <th>57473</th>\n",
              "      <td>In python, implement a naive Bayes with gaussi...</td>\n",
              "    </tr>\n",
              "    <tr>\n",
              "      <th>57474</th>\n",
              "      <td>is it unethical to work on building weapons?</td>\n",
              "    </tr>\n",
              "    <tr>\n",
              "      <th>57475</th>\n",
              "      <td>If a bait contains 0,0025% bromadiolon then ho...</td>\n",
              "    </tr>\n",
              "    <tr>\n",
              "      <th>57476</th>\n",
              "      <td>three kids eat three apples in three days, how...</td>\n",
              "    </tr>\n",
              "  </tbody>\n",
              "</table>\n",
              "<p>57477 rows × 1 columns</p>\n",
              "</div><br><label><b>dtype:</b> object</label>"
            ],
            "text/plain": [
              "0        Is it morally right to try to have a certain p...\n",
              "1        What is the difference between marriage licens...\n",
              "2        explain function calling. how would you call a...\n",
              "3        How can I create a test set for a very rare ca...\n",
              "4        What is the best way to travel from Tel-Aviv t...\n",
              "                               ...                        \n",
              "57472    A simple mnemonic for π:\\n\"How I wish I could ...\n",
              "57473    In python, implement a naive Bayes with gaussi...\n",
              "57474         is it unethical to work on building weapons?\n",
              "57475    If a bait contains 0,0025% bromadiolon then ho...\n",
              "57476    three kids eat three apples in three days, how...\n",
              "Name: prompt, Length: 57477, dtype: object"
            ]
          },
          "execution_count": 16,
          "metadata": {},
          "output_type": "execute_result"
        }
      ],
      "source": [
        "df.prompt.map(lambda x: ast.literal_eval(x)[0])"
      ]
    },
    {
      "cell_type": "code",
      "execution_count": null,
      "metadata": {
        "execution": {
          "iopub.execute_input": "2025-02-20T03:29:02.599773Z",
          "iopub.status.busy": "2025-02-20T03:29:02.599459Z",
          "iopub.status.idle": "2025-02-20T03:29:06.051230Z",
          "shell.execute_reply": "2025-02-20T03:29:06.050403Z",
          "shell.execute_reply.started": "2025-02-20T03:29:02.599743Z"
        },
        "id": "DQ_W5FzvkqL9",
        "trusted": true
      },
      "outputs": [],
      "source": [
        "# take the first prompt and its associated response\n",
        "df[\"prompt\"] = df.prompt.map(lambda x: ast.literal_eval(x)[0])\n",
        "df[\"response_a\"] = df.response_a.map(lambda x: ast.literal_eval(x.replace(\"null\", \"''\"))[0])\n",
        "df[\"response_b\"] = df.response_b.map(lambda x: ast.literal_eval(x.replace(\"null\", \"''\"))[0])"
      ]
    },
    {
      "cell_type": "code",
      "execution_count": null,
      "metadata": {
        "colab": {
          "base_uri": "https://localhost:8080/",
          "height": 35
        },
        "execution": {
          "iopub.execute_input": "2025-02-20T03:29:06.052356Z",
          "iopub.status.busy": "2025-02-20T03:29:06.052046Z",
          "iopub.status.idle": "2025-02-20T03:29:06.057467Z",
          "shell.execute_reply": "2025-02-20T03:29:06.056713Z",
          "shell.execute_reply.started": "2025-02-20T03:29:06.052328Z"
        },
        "id": "RzGn3_PekqL-",
        "outputId": "ff72f420-c251-44af-a33a-1fec30a813a5",
        "trusted": true
      },
      "outputs": [
        {
          "data": {
            "application/vnd.google.colaboratory.intrinsic+json": {
              "type": "string"
            },
            "text/plain": [
              "'What is the difference between marriage license and marriage certificate?'"
            ]
          },
          "execution_count": 18,
          "metadata": {},
          "output_type": "execute_result"
        }
      ],
      "source": [
        "df.prompt[1]"
      ]
    },
    {
      "cell_type": "code",
      "execution_count": null,
      "metadata": {
        "colab": {
          "base_uri": "https://localhost:8080/",
          "height": 90
        },
        "execution": {
          "iopub.execute_input": "2025-02-20T03:29:06.058485Z",
          "iopub.status.busy": "2025-02-20T03:29:06.058256Z",
          "iopub.status.idle": "2025-02-20T03:29:06.076106Z",
          "shell.execute_reply": "2025-02-20T03:29:06.075370Z",
          "shell.execute_reply.started": "2025-02-20T03:29:06.058466Z"
        },
        "id": "iBQCkIGjkqL-",
        "outputId": "2b09efd3-37d8-45e1-d3d6-acaae0d39024",
        "trusted": true
      },
      "outputs": [
        {
          "data": {
            "application/vnd.google.colaboratory.intrinsic+json": {
              "type": "string"
            },
            "text/plain": [
              "\"A marriage license is a legal document that allows a couple to get married. It is issued by a government agency, such as a county clerk's office or a state government, and is valid for a certain period of time, usually one year. After the marriage has taken place, the couple must obtain a marriage certificate, which is a document that records the marriage and is used to prove that the marriage took place. The marriage certificate is usually issued by the same government agency that issued the marriage license, and it is typically used for legal purposes, such as to change a name on a driver's license or to prove that a couple is married when applying for government benefits.\""
            ]
          },
          "execution_count": 19,
          "metadata": {},
          "output_type": "execute_result"
        }
      ],
      "source": [
        "df.response_a[1]"
      ]
    },
    {
      "cell_type": "code",
      "execution_count": null,
      "metadata": {
        "colab": {
          "base_uri": "https://localhost:8080/",
          "height": 109
        },
        "execution": {
          "iopub.execute_input": "2025-02-20T03:29:06.077160Z",
          "iopub.status.busy": "2025-02-20T03:29:06.076851Z",
          "iopub.status.idle": "2025-02-20T03:29:06.090528Z",
          "shell.execute_reply": "2025-02-20T03:29:06.089904Z",
          "shell.execute_reply.started": "2025-02-20T03:29:06.077133Z"
        },
        "id": "XKQDPuFdkqL-",
        "outputId": "021d825d-ce6b-450b-a0f9-13cf2ad77be8",
        "trusted": true
      },
      "outputs": [
        {
          "data": {
            "application/vnd.google.colaboratory.intrinsic+json": {
              "type": "string"
            },
            "text/plain": [
              "\"A marriage license and a marriage certificate are two different legal documents that have separate purposes.\\n\\n1. Marriage License: A marriage license is a legal document that gives a couple permission to get married. It's usually obtained from local government or court officials before the wedding ceremony takes place. The couple is required to meet certain criteria, such as being of a certain age or not being closely related. Once the license is issued, there's often a waiting period before the marriage ceremony can take place. The marriage license has to be signed by the couple, their witnesses, and the officiant conducting the marriage ceremony, then returned to the license issuer for recording.\\n\\n2. Marriage Certificate: A marriage certificate, on the other hand, is a document that proves a marriage has legally taken place. It's issued after the marriage ceremony, once the signed marriage license has been returned and recorded. The marriage certificate includes details about the couple, like their names, the date and location of their wedding, and the names of their witnesses. This document serves as the official record of the marriage and is often needed for legal transactions like changing a name, adding a spouse to insurance, or proving marital status.\""
            ]
          },
          "execution_count": 20,
          "metadata": {},
          "output_type": "execute_result"
        }
      ],
      "source": [
        "df.response_b[1]"
      ]
    },
    {
      "cell_type": "code",
      "execution_count": null,
      "metadata": {
        "colab": {
          "base_uri": "https://localhost:8080/",
          "height": 293
        },
        "execution": {
          "iopub.execute_input": "2025-02-20T03:29:06.091675Z",
          "iopub.status.busy": "2025-02-20T03:29:06.091430Z",
          "iopub.status.idle": "2025-02-20T03:29:06.131205Z",
          "shell.execute_reply": "2025-02-20T03:29:06.130515Z",
          "shell.execute_reply.started": "2025-02-20T03:29:06.091648Z"
        },
        "id": "RMMnbhbJkqL_",
        "outputId": "b64b0617-2d4a-4cfd-c681-0f453827180f",
        "trusted": true
      },
      "outputs": [
        {
          "data": {
            "application/vnd.google.colaboratory.intrinsic+json": {
              "summary": "{\n  \"name\": \"df\",\n  \"rows\": 57477,\n  \"fields\": [\n    {\n      \"column\": \"id\",\n      \"properties\": {\n        \"dtype\": \"number\",\n        \"std\": 1238326827,\n        \"min\": 30192,\n        \"max\": 4294947231,\n        \"num_unique_values\": 57477,\n        \"samples\": [\n          2785062085,\n          48259531,\n          3622731894\n        ],\n        \"semantic_type\": \"\",\n        \"description\": \"\"\n      }\n    },\n    {\n      \"column\": \"model_a\",\n      \"properties\": {\n        \"dtype\": \"category\",\n        \"num_unique_values\": 64,\n        \"samples\": [\n          \"mistral-7b-instruct\",\n          \"guanaco-33b\",\n          \"gpt-4-1106-preview\"\n        ],\n        \"semantic_type\": \"\",\n        \"description\": \"\"\n      }\n    },\n    {\n      \"column\": \"model_b\",\n      \"properties\": {\n        \"dtype\": \"category\",\n        \"num_unique_values\": 64,\n        \"samples\": [\n          \"llama2-70b-steerlm-chat\",\n          \"llama-13b\",\n          \"gpt-4-0613\"\n        ],\n        \"semantic_type\": \"\",\n        \"description\": \"\"\n      }\n    },\n    {\n      \"column\": \"prompt\",\n      \"properties\": {\n        \"dtype\": \"string\",\n        \"num_unique_values\": 50936,\n        \"samples\": [\n          \"what is the best way to lower your cholesterol?\",\n          \"Is there a limit in baseball on how many pitches can be thrown?\",\n          \"Design lore and backstory for a fictional PMC called the MDF, lead by Captain Callum O'Sullivan, of British origin. The setting is in the present, with operational deployments around the world. \"\n        ],\n        \"semantic_type\": \"\",\n        \"description\": \"\"\n      }\n    },\n    {\n      \"column\": \"response_a\",\n      \"properties\": {\n        \"dtype\": \"string\",\n        \"num_unique_values\": 55985,\n        \"samples\": [\n          \"```kotlin\\nfun computeCircumference(volume: Double, density: Double): Double {\\n    return (volume * density) \\\\/ 2.0\\n}\\n```\",\n          \"The three ships belonging to the Federation are the USS Enterprise, the USS Voyager, and the USS Defiant. The three ships belonging to the Klingons are the IKS Kang, the IKS Gorn, and the IKS Koloth.\",\n          \"Sure! Here's a Python function that outputs the nth Fibonacci prime number:\\n\\n```python\\ndef is_prime(n):\\n    if n <= 1:\\n        return False\\n    for i in range(2, int(n ** 0.5) + 1):\\n        if n % i == 0:\\n            return False\\n    return True\\n\\ndef nth_fibonacci_prime(n):\\n    if n <= 0:\\n        return \\\"Input must be a positive integer\\\"\\n\\n    count = 0\\n    i = 2\\n    while count < n:\\n        if is_prime(i):\\n            count += 1\\n        i += 1\\n\\n    return i - 1\\n\\n# Test the function\\nn = int(input(\\\"Enter the value of n: \\\"))\\nresult = nth_fibonacci_prime(n)\\nprint(f\\\"The {n}th Fibonacci prime number is: {result}\\\")\\n```\\n\\nHere's how this function works:\\n\\n1. The `is_prime` function is a helper function that checks whether a given number `n` is prime or not. It iterates from 2 to the square root of `n` and checks if `n` is divisible by any number in that range. If it finds any divisor, it returns `False`; otherwise, it returns `True`.\\n\\n2. The `nth_fibonacci_prime` function takes an input `n` and iterates through numbers starting from 2 until it finds `n` prime numbers. It uses the `is_prime` function to check if each number is prime. Once it finds `n` prime numbers, it returns the last number it checked, which is the `n`th Fibonacci prime number.\\n\\n3. Finally, the function is tested by taking user input for `n` and printing the `n`th Fibonacci prime number.\\n\\nNote: Computing Fibonacci numbers can be computationally expensive, especially for large values of `n`. If you need to find the `n`th Fibonacci prime number for large values of `n`, you might need to consider using more efficient algorithms like matrix exponentiation.\"\n        ],\n        \"semantic_type\": \"\",\n        \"description\": \"\"\n      }\n    },\n    {\n      \"column\": \"response_b\",\n      \"properties\": {\n        \"dtype\": \"string\",\n        \"num_unique_values\": 56049,\n        \"samples\": [\n          \"Lorn is a common name in many cultures and may refer to different individuals or fictional characters. Without more context or information, it is difficult to provide a specific answer.\",\n          \"Yes, abortion is legal in Germany under certain circumstances. In Germany, abortion is allowed up to 12 weeks of pregnancy, provided the person seeking abortion undergoes mandatory counseling and observes a waiting period of three days between counseling and the procedure. After 12 weeks, abortions may be allowed in certain cases if there is a serious medical reason or if the pregnancy is a result of a criminal act, such as rape. However, it is crucial to consult with a healthcare professional or legal expert to understand the specific requirements and provisions of the law in Germany.\",\n          \"Sure! Here's the conversion of 8:00 pm EST Tuesday, November 14, 2023 to other time zones:\\n\\n* 8:00 pm EST is equal to:\\n\\t+ 7:00 pm CST (Central Standard Time)\\n\\t+ 6:00 pm MST (Mountain Standard Time)\\n\\t+ 5:00 pm PST (Pacific Standard Time)\\n\\t+ 9:00 pm EST (Eastern Standard Time)\\n\\t+ 10:00 pm AST (Atlantic Standard Time)\\n\\t+ 11:00 pm UTC (Coordinated Universal Time)\\n\\nNote that daylight saving time (DST) is not taken into account in these conversions, as the date provided is after the DST period in most time zones.\"\n        ],\n        \"semantic_type\": \"\",\n        \"description\": \"\"\n      }\n    },\n    {\n      \"column\": \"winner_model_a\",\n      \"properties\": {\n        \"dtype\": \"number\",\n        \"std\": 0,\n        \"min\": 0,\n        \"max\": 1,\n        \"num_unique_values\": 2,\n        \"samples\": [\n          0,\n          1\n        ],\n        \"semantic_type\": \"\",\n        \"description\": \"\"\n      }\n    },\n    {\n      \"column\": \"winner_model_b\",\n      \"properties\": {\n        \"dtype\": \"number\",\n        \"std\": 0,\n        \"min\": 0,\n        \"max\": 1,\n        \"num_unique_values\": 2,\n        \"samples\": [\n          1,\n          0\n        ],\n        \"semantic_type\": \"\",\n        \"description\": \"\"\n      }\n    },\n    {\n      \"column\": \"winner_tie\",\n      \"properties\": {\n        \"dtype\": \"number\",\n        \"std\": 0,\n        \"min\": 0,\n        \"max\": 1,\n        \"num_unique_values\": 2,\n        \"samples\": [\n          1,\n          0\n        ],\n        \"semantic_type\": \"\",\n        \"description\": \"\"\n      }\n    },\n    {\n      \"column\": \"class_name\",\n      \"properties\": {\n        \"dtype\": \"category\",\n        \"num_unique_values\": 3,\n        \"samples\": [\n          \"winner_model_a\",\n          \"winner_model_b\"\n        ],\n        \"semantic_type\": \"\",\n        \"description\": \"\"\n      }\n    },\n    {\n      \"column\": \"class_label\",\n      \"properties\": {\n        \"dtype\": \"number\",\n        \"std\": 0,\n        \"min\": 0,\n        \"max\": 2,\n        \"num_unique_values\": 3,\n        \"samples\": [\n          0,\n          1\n        ],\n        \"semantic_type\": \"\",\n        \"description\": \"\"\n      }\n    }\n  ]\n}",
              "type": "dataframe",
              "variable_name": "df"
            },
            "text/html": [
              "\n",
              "  <div id=\"df-db6ebb65-94cb-40b2-a182-20cb1d251dbb\" class=\"colab-df-container\">\n",
              "    <div>\n",
              "<style scoped>\n",
              "    .dataframe tbody tr th:only-of-type {\n",
              "        vertical-align: middle;\n",
              "    }\n",
              "\n",
              "    .dataframe tbody tr th {\n",
              "        vertical-align: top;\n",
              "    }\n",
              "\n",
              "    .dataframe thead th {\n",
              "        text-align: right;\n",
              "    }\n",
              "</style>\n",
              "<table border=\"1\" class=\"dataframe\">\n",
              "  <thead>\n",
              "    <tr style=\"text-align: right;\">\n",
              "      <th></th>\n",
              "      <th>id</th>\n",
              "      <th>model_a</th>\n",
              "      <th>model_b</th>\n",
              "      <th>prompt</th>\n",
              "      <th>response_a</th>\n",
              "      <th>response_b</th>\n",
              "      <th>winner_model_a</th>\n",
              "      <th>winner_model_b</th>\n",
              "      <th>winner_tie</th>\n",
              "      <th>class_name</th>\n",
              "      <th>class_label</th>\n",
              "    </tr>\n",
              "  </thead>\n",
              "  <tbody>\n",
              "    <tr>\n",
              "      <th>0</th>\n",
              "      <td>30192</td>\n",
              "      <td>gpt-4-1106-preview</td>\n",
              "      <td>gpt-4-0613</td>\n",
              "      <td>Is it morally right to try to have a certain p...</td>\n",
              "      <td>The question of whether it is morally right to...</td>\n",
              "      <td>As an AI, I don't have personal beliefs or opi...</td>\n",
              "      <td>1</td>\n",
              "      <td>0</td>\n",
              "      <td>0</td>\n",
              "      <td>winner_model_a</td>\n",
              "      <td>0</td>\n",
              "    </tr>\n",
              "    <tr>\n",
              "      <th>1</th>\n",
              "      <td>53567</td>\n",
              "      <td>koala-13b</td>\n",
              "      <td>gpt-4-0613</td>\n",
              "      <td>What is the difference between marriage licens...</td>\n",
              "      <td>A marriage license is a legal document that al...</td>\n",
              "      <td>A marriage license and a marriage certificate ...</td>\n",
              "      <td>0</td>\n",
              "      <td>1</td>\n",
              "      <td>0</td>\n",
              "      <td>winner_model_b</td>\n",
              "      <td>1</td>\n",
              "    </tr>\n",
              "    <tr>\n",
              "      <th>2</th>\n",
              "      <td>65089</td>\n",
              "      <td>gpt-3.5-turbo-0613</td>\n",
              "      <td>mistral-medium</td>\n",
              "      <td>explain function calling. how would you call a...</td>\n",
              "      <td>Function calling is the process of invoking or...</td>\n",
              "      <td>Function calling is the process of invoking a ...</td>\n",
              "      <td>0</td>\n",
              "      <td>0</td>\n",
              "      <td>1</td>\n",
              "      <td>winner_tie</td>\n",
              "      <td>2</td>\n",
              "    </tr>\n",
              "    <tr>\n",
              "      <th>3</th>\n",
              "      <td>96401</td>\n",
              "      <td>llama-2-13b-chat</td>\n",
              "      <td>mistral-7b-instruct</td>\n",
              "      <td>How can I create a test set for a very rare ca...</td>\n",
              "      <td>Creating a test set for a very rare category c...</td>\n",
              "      <td>When building a classifier for a very rare cat...</td>\n",
              "      <td>1</td>\n",
              "      <td>0</td>\n",
              "      <td>0</td>\n",
              "      <td>winner_model_a</td>\n",
              "      <td>0</td>\n",
              "    </tr>\n",
              "    <tr>\n",
              "      <th>4</th>\n",
              "      <td>198779</td>\n",
              "      <td>koala-13b</td>\n",
              "      <td>gpt-3.5-turbo-0314</td>\n",
              "      <td>What is the best way to travel from Tel-Aviv t...</td>\n",
              "      <td>The best way to travel from Tel Aviv to Jerusa...</td>\n",
              "      <td>The best way to travel from Tel-Aviv to Jerusa...</td>\n",
              "      <td>0</td>\n",
              "      <td>1</td>\n",
              "      <td>0</td>\n",
              "      <td>winner_model_b</td>\n",
              "      <td>1</td>\n",
              "    </tr>\n",
              "  </tbody>\n",
              "</table>\n",
              "</div>\n",
              "    <div class=\"colab-df-buttons\">\n",
              "\n",
              "  <div class=\"colab-df-container\">\n",
              "    <button class=\"colab-df-convert\" onclick=\"convertToInteractive('df-db6ebb65-94cb-40b2-a182-20cb1d251dbb')\"\n",
              "            title=\"Convert this dataframe to an interactive table.\"\n",
              "            style=\"display:none;\">\n",
              "\n",
              "  <svg xmlns=\"http://www.w3.org/2000/svg\" height=\"24px\" viewBox=\"0 -960 960 960\">\n",
              "    <path d=\"M120-120v-720h720v720H120Zm60-500h600v-160H180v160Zm220 220h160v-160H400v160Zm0 220h160v-160H400v160ZM180-400h160v-160H180v160Zm440 0h160v-160H620v160ZM180-180h160v-160H180v160Zm440 0h160v-160H620v160Z\"/>\n",
              "  </svg>\n",
              "    </button>\n",
              "\n",
              "  <style>\n",
              "    .colab-df-container {\n",
              "      display:flex;\n",
              "      gap: 12px;\n",
              "    }\n",
              "\n",
              "    .colab-df-convert {\n",
              "      background-color: #E8F0FE;\n",
              "      border: none;\n",
              "      border-radius: 50%;\n",
              "      cursor: pointer;\n",
              "      display: none;\n",
              "      fill: #1967D2;\n",
              "      height: 32px;\n",
              "      padding: 0 0 0 0;\n",
              "      width: 32px;\n",
              "    }\n",
              "\n",
              "    .colab-df-convert:hover {\n",
              "      background-color: #E2EBFA;\n",
              "      box-shadow: 0px 1px 2px rgba(60, 64, 67, 0.3), 0px 1px 3px 1px rgba(60, 64, 67, 0.15);\n",
              "      fill: #174EA6;\n",
              "    }\n",
              "\n",
              "    .colab-df-buttons div {\n",
              "      margin-bottom: 4px;\n",
              "    }\n",
              "\n",
              "    [theme=dark] .colab-df-convert {\n",
              "      background-color: #3B4455;\n",
              "      fill: #D2E3FC;\n",
              "    }\n",
              "\n",
              "    [theme=dark] .colab-df-convert:hover {\n",
              "      background-color: #434B5C;\n",
              "      box-shadow: 0px 1px 3px 1px rgba(0, 0, 0, 0.15);\n",
              "      filter: drop-shadow(0px 1px 2px rgba(0, 0, 0, 0.3));\n",
              "      fill: #FFFFFF;\n",
              "    }\n",
              "  </style>\n",
              "\n",
              "    <script>\n",
              "      const buttonEl =\n",
              "        document.querySelector('#df-db6ebb65-94cb-40b2-a182-20cb1d251dbb button.colab-df-convert');\n",
              "      buttonEl.style.display =\n",
              "        google.colab.kernel.accessAllowed ? 'block' : 'none';\n",
              "\n",
              "      async function convertToInteractive(key) {\n",
              "        const element = document.querySelector('#df-db6ebb65-94cb-40b2-a182-20cb1d251dbb');\n",
              "        const dataTable =\n",
              "          await google.colab.kernel.invokeFunction('convertToInteractive',\n",
              "                                                    [key], {});\n",
              "        if (!dataTable) return;\n",
              "\n",
              "        const docLinkHtml = 'Like what you see? Visit the ' +\n",
              "          '<a target=\"_blank\" href=https://colab.research.google.com/notebooks/data_table.ipynb>data table notebook</a>'\n",
              "          + ' to learn more about interactive tables.';\n",
              "        element.innerHTML = '';\n",
              "        dataTable['output_type'] = 'display_data';\n",
              "        await google.colab.output.renderOutput(dataTable, element);\n",
              "        const docLink = document.createElement('div');\n",
              "        docLink.innerHTML = docLinkHtml;\n",
              "        element.appendChild(docLink);\n",
              "      }\n",
              "    </script>\n",
              "  </div>\n",
              "\n",
              "\n",
              "<div id=\"df-7b791105-333b-403d-875f-d2c1f84470bc\">\n",
              "  <button class=\"colab-df-quickchart\" onclick=\"quickchart('df-7b791105-333b-403d-875f-d2c1f84470bc')\"\n",
              "            title=\"Suggest charts\"\n",
              "            style=\"display:none;\">\n",
              "\n",
              "<svg xmlns=\"http://www.w3.org/2000/svg\" height=\"24px\"viewBox=\"0 0 24 24\"\n",
              "     width=\"24px\">\n",
              "    <g>\n",
              "        <path d=\"M19 3H5c-1.1 0-2 .9-2 2v14c0 1.1.9 2 2 2h14c1.1 0 2-.9 2-2V5c0-1.1-.9-2-2-2zM9 17H7v-7h2v7zm4 0h-2V7h2v10zm4 0h-2v-4h2v4z\"/>\n",
              "    </g>\n",
              "</svg>\n",
              "  </button>\n",
              "\n",
              "<style>\n",
              "  .colab-df-quickchart {\n",
              "      --bg-color: #E8F0FE;\n",
              "      --fill-color: #1967D2;\n",
              "      --hover-bg-color: #E2EBFA;\n",
              "      --hover-fill-color: #174EA6;\n",
              "      --disabled-fill-color: #AAA;\n",
              "      --disabled-bg-color: #DDD;\n",
              "  }\n",
              "\n",
              "  [theme=dark] .colab-df-quickchart {\n",
              "      --bg-color: #3B4455;\n",
              "      --fill-color: #D2E3FC;\n",
              "      --hover-bg-color: #434B5C;\n",
              "      --hover-fill-color: #FFFFFF;\n",
              "      --disabled-bg-color: #3B4455;\n",
              "      --disabled-fill-color: #666;\n",
              "  }\n",
              "\n",
              "  .colab-df-quickchart {\n",
              "    background-color: var(--bg-color);\n",
              "    border: none;\n",
              "    border-radius: 50%;\n",
              "    cursor: pointer;\n",
              "    display: none;\n",
              "    fill: var(--fill-color);\n",
              "    height: 32px;\n",
              "    padding: 0;\n",
              "    width: 32px;\n",
              "  }\n",
              "\n",
              "  .colab-df-quickchart:hover {\n",
              "    background-color: var(--hover-bg-color);\n",
              "    box-shadow: 0 1px 2px rgba(60, 64, 67, 0.3), 0 1px 3px 1px rgba(60, 64, 67, 0.15);\n",
              "    fill: var(--button-hover-fill-color);\n",
              "  }\n",
              "\n",
              "  .colab-df-quickchart-complete:disabled,\n",
              "  .colab-df-quickchart-complete:disabled:hover {\n",
              "    background-color: var(--disabled-bg-color);\n",
              "    fill: var(--disabled-fill-color);\n",
              "    box-shadow: none;\n",
              "  }\n",
              "\n",
              "  .colab-df-spinner {\n",
              "    border: 2px solid var(--fill-color);\n",
              "    border-color: transparent;\n",
              "    border-bottom-color: var(--fill-color);\n",
              "    animation:\n",
              "      spin 1s steps(1) infinite;\n",
              "  }\n",
              "\n",
              "  @keyframes spin {\n",
              "    0% {\n",
              "      border-color: transparent;\n",
              "      border-bottom-color: var(--fill-color);\n",
              "      border-left-color: var(--fill-color);\n",
              "    }\n",
              "    20% {\n",
              "      border-color: transparent;\n",
              "      border-left-color: var(--fill-color);\n",
              "      border-top-color: var(--fill-color);\n",
              "    }\n",
              "    30% {\n",
              "      border-color: transparent;\n",
              "      border-left-color: var(--fill-color);\n",
              "      border-top-color: var(--fill-color);\n",
              "      border-right-color: var(--fill-color);\n",
              "    }\n",
              "    40% {\n",
              "      border-color: transparent;\n",
              "      border-right-color: var(--fill-color);\n",
              "      border-top-color: var(--fill-color);\n",
              "    }\n",
              "    60% {\n",
              "      border-color: transparent;\n",
              "      border-right-color: var(--fill-color);\n",
              "    }\n",
              "    80% {\n",
              "      border-color: transparent;\n",
              "      border-right-color: var(--fill-color);\n",
              "      border-bottom-color: var(--fill-color);\n",
              "    }\n",
              "    90% {\n",
              "      border-color: transparent;\n",
              "      border-bottom-color: var(--fill-color);\n",
              "    }\n",
              "  }\n",
              "</style>\n",
              "\n",
              "  <script>\n",
              "    async function quickchart(key) {\n",
              "      const quickchartButtonEl =\n",
              "        document.querySelector('#' + key + ' button');\n",
              "      quickchartButtonEl.disabled = true;  // To prevent multiple clicks.\n",
              "      quickchartButtonEl.classList.add('colab-df-spinner');\n",
              "      try {\n",
              "        const charts = await google.colab.kernel.invokeFunction(\n",
              "            'suggestCharts', [key], {});\n",
              "      } catch (error) {\n",
              "        console.error('Error during call to suggestCharts:', error);\n",
              "      }\n",
              "      quickchartButtonEl.classList.remove('colab-df-spinner');\n",
              "      quickchartButtonEl.classList.add('colab-df-quickchart-complete');\n",
              "    }\n",
              "    (() => {\n",
              "      let quickchartButtonEl =\n",
              "        document.querySelector('#df-7b791105-333b-403d-875f-d2c1f84470bc button');\n",
              "      quickchartButtonEl.style.display =\n",
              "        google.colab.kernel.accessAllowed ? 'block' : 'none';\n",
              "    })();\n",
              "  </script>\n",
              "</div>\n",
              "    </div>\n",
              "  </div>\n"
            ],
            "text/plain": [
              "       id             model_a              model_b  \\\n",
              "0   30192  gpt-4-1106-preview           gpt-4-0613   \n",
              "1   53567           koala-13b           gpt-4-0613   \n",
              "2   65089  gpt-3.5-turbo-0613       mistral-medium   \n",
              "3   96401    llama-2-13b-chat  mistral-7b-instruct   \n",
              "4  198779           koala-13b   gpt-3.5-turbo-0314   \n",
              "\n",
              "                                              prompt  \\\n",
              "0  Is it morally right to try to have a certain p...   \n",
              "1  What is the difference between marriage licens...   \n",
              "2  explain function calling. how would you call a...   \n",
              "3  How can I create a test set for a very rare ca...   \n",
              "4  What is the best way to travel from Tel-Aviv t...   \n",
              "\n",
              "                                          response_a  \\\n",
              "0  The question of whether it is morally right to...   \n",
              "1  A marriage license is a legal document that al...   \n",
              "2  Function calling is the process of invoking or...   \n",
              "3  Creating a test set for a very rare category c...   \n",
              "4  The best way to travel from Tel Aviv to Jerusa...   \n",
              "\n",
              "                                          response_b  winner_model_a  \\\n",
              "0  As an AI, I don't have personal beliefs or opi...               1   \n",
              "1  A marriage license and a marriage certificate ...               0   \n",
              "2  Function calling is the process of invoking a ...               0   \n",
              "3  When building a classifier for a very rare cat...               1   \n",
              "4  The best way to travel from Tel-Aviv to Jerusa...               0   \n",
              "\n",
              "   winner_model_b  winner_tie      class_name  class_label  \n",
              "0               0           0  winner_model_a            0  \n",
              "1               1           0  winner_model_b            1  \n",
              "2               0           1      winner_tie            2  \n",
              "3               0           0  winner_model_a            0  \n",
              "4               1           0  winner_model_b            1  "
            ]
          },
          "execution_count": 21,
          "metadata": {},
          "output_type": "execute_result"
        }
      ],
      "source": [
        "# label conversion\n",
        "df[\"class_name\"] = df[[\"winner_model_a\", \"winner_model_b\", \"winner_tie\"]].idxmax(axis=1) # 在 每一行 查找 值最大的列名\n",
        "df[\"class_label\"] = df.class_name.map(CFG.name2label)\n",
        "df.head()"
      ]
    },
    {
      "cell_type": "code",
      "execution_count": null,
      "metadata": {
        "colab": {
          "base_uri": "https://localhost:8080/",
          "height": 143
        },
        "execution": {
          "iopub.execute_input": "2025-02-20T03:29:06.132112Z",
          "iopub.status.busy": "2025-02-20T03:29:06.131862Z",
          "iopub.status.idle": "2025-02-20T03:29:06.145225Z",
          "shell.execute_reply": "2025-02-20T03:29:06.144465Z",
          "shell.execute_reply.started": "2025-02-20T03:29:06.132063Z"
        },
        "id": "SJvMuLokkqL_",
        "outputId": "3d6087bc-7edd-46fb-da9d-3a96a97a7b4c",
        "trusted": true
      },
      "outputs": [
        {
          "data": {
            "application/vnd.google.colaboratory.intrinsic+json": {
              "summary": "{\n  \"name\": \"test_df\",\n  \"rows\": 3,\n  \"fields\": [\n    {\n      \"column\": \"id\",\n      \"properties\": {\n        \"dtype\": \"number\",\n        \"std\": 613299,\n        \"min\": 136060,\n        \"max\": 1233961,\n        \"num_unique_values\": 3,\n        \"samples\": [\n          136060,\n          211333,\n          1233961\n        ],\n        \"semantic_type\": \"\",\n        \"description\": \"\"\n      }\n    },\n    {\n      \"column\": \"prompt\",\n      \"properties\": {\n        \"dtype\": \"string\",\n        \"num_unique_values\": 3,\n        \"samples\": [\n          \"[\\\"I have three oranges today, I ate an orange yesterday. How many oranges do I have?\\\"]\",\n          \"[\\\"You are a mediator in a heated political debate between two opposing parties. Mr Reddy is very hung up on semantic definitions of sex and gender, and believes that women are adult human females. Meanwhile Ms Blue is extremely fluid with definitions and does not care about truth. He (Ms blue uses he\\\\/him pronouns) insists that anybody can be any gender, gametes don't mean anything, and that men can get pregnant. You, Mr Goddy are tasked with helping them both find a middle ground.\\\"]\",\n          \"[\\\"How to initialize the classification head when I do transfer learning. For example, I have a pre-trained vision transformer on ImageNet, and now I want to finetune it on StanfordCars\\\",\\\"I want to do full finetuning\\\"]\"\n        ],\n        \"semantic_type\": \"\",\n        \"description\": \"\"\n      }\n    },\n    {\n      \"column\": \"response_a\",\n      \"properties\": {\n        \"dtype\": \"string\",\n        \"num_unique_values\": 3,\n        \"samples\": [\n          \"[\\\"You have two oranges today.\\\"]\",\n          \"[\\\"Thank you for sharing the details of the situation. As a mediator, I understand the importance of finding a middle ground that both parties can agree upon.\\\\n\\\\nIt is important to recognize that language and definitions can be complex and can vary depending on cultural and societal norms. At the same time, it is also important to acknowledge the biological differences between males and females.\\\\n\\\\nOne possible approach to finding a middle ground could be to focus on respecting individuals' self-identification and autonomy while also acknowledging the biological differences between males and females. This could involve using inclusive language that reflects individuals' gender identities while also recognizing the importance of biological sex in certain contexts, such as medical treatment and reproductive health.\\\\n\\\\nIt may also be helpful to explore ways to create a more inclusive society where individuals of all gender identities are valued and respected. This could involve promoting education and awareness about gender diversity and creating policies and practices that support individuals' gender identities and expression.\\\\n\\\\nUltimately, the goal of mediation is to find a solution that meets the needs and concerns of both parties. By focusing on mutual respect, open communication, and a willingness to find common ground, it is possible to reach a resolution that allows both parties to move forward in a positive and productive way.\\\"]\",\n          \"[\\\"When you want to initialize the classification head for transfer learning, you can follow these steps:\\\\n\\\\n  1. Load the pre-trained model: First, load the pre-trained vision transformer model on ImageNet. You can use popular deep learning libraries like PyTorch or TensorFlow to load the model.\\\\n  2. Freeze the pre-trained layers: Next, you need to freeze the pre-trained layers of the model so that they don't get updated during the training process. This is because the pre-trained layers have learned useful features that can be reused for the new task.\\\\n  3. Add a new classification head: Now, you need to add a new classification head to the model. The classification head is responsible for outputting the predicted class for a given input image. The size of the classification head depends on the number of classes in the new task. For example, if you are working on the StanfordCars dataset, which has 196 classes, you would need a classification head with 196 output neurons.\\\\n  4. Initialize the classification head: Initialize the weights of the classification head randomly or using pre-trained weights. This is important because the initial weights can have a significant impact on the performance of the model.\\\\n  5. Train the model: Finally, you can train the model on the new task using your labeled data. During training, only the weights of the classification head will be updated, while the weights of the frozen pre-trained layers will remain unchanged. This allows the model to learn task-specific features while leveraging the pre-trained features.\\\\n\\\\nNote that there are different ways to initialize the classification head, such as using Xavier initialization, Kaiming initialization, or He initialization. You can choose the initialization method that works best for your specific task and model architecture.\\\",\\\"If you want to do full finetuning of the pre-trained vision transformer on the StanfordCars dataset, you can follow these steps:\\\\n\\\\n  1. Load the pre-trained model: Load the pre-trained vision transformer model on ImageNet. You can use popular deep learning libraries like PyTorch or TensorFlow to load the model.\\\\n  2. Remove the last classification layer: The pre-trained model typically has a last classification layer that is specific to the ImageNet dataset. To adapt the model to the StanfordCars dataset, you need to remove this layer.\\\\n  3. Add a new classification head: Add a new classification head to the model. The classification head is responsible for outputting the predicted class for a given input image. The size of the classification head depends on the number of classes in the StanfordCars dataset, which has 196 classes. You can add a fully connected layer with 196 output neurons as the new classification head.\\\\n  4. Initialize the classification head: Initialize the weights of the classification head randomly or using pre-trained weights. This is important because the initial weights can have a significant impact on the performance of the model.\\\\n  5. Freeze the pre-trained layers: Freeze the pre-trained layers of the model so that they don't get updated during the training process. This is because the pre-trained layers have learned useful features that can be reused for the new task.\\\\n  6. Train the model: Finally, you can train the model on the StanfordCars dataset using your labeled data. During training, all the weights of the model will be updated, including the weights of the frozen pre-trained layers. This allows the model to learn task-specific features while leveraging the pre-trained features.\\\\n\\\\nNote that when you do full finetuning, you need to use a lower learning rate and a smaller number of training epochs compared to transfer learning, because the model has already learned a lot of useful features from the pre-trained weights. You can experiment with different learning rates and training schedules to find the best hyperparameters for your specific task and model architecture.\\\"]\"\n        ],\n        \"semantic_type\": \"\",\n        \"description\": \"\"\n      }\n    },\n    {\n      \"column\": \"response_b\",\n      \"properties\": {\n        \"dtype\": \"string\",\n        \"num_unique_values\": 3,\n        \"samples\": [\n          \"[\\\"You still have three oranges. Eating an orange yesterday does not affect the number of oranges you have today.\\\"]\",\n          \"[\\\"Mr Reddy and Ms Blue both have valid points in their arguments. On one hand, Mr Reddy is correct that women are adult human females, as defined by their biological and physical characteristics. However, Ms Blue is right that gender is a more fluid concept and that people can identify with any gender they choose. A compromise could be that gender is defined by an individual's self-identification, while sex is defined by their biological characteristics.\\\"]\",\n          \"[\\\"To initialize the classification head when performing transfer learning, follow these steps:\\\\n\\\\n1. Load the pre-trained vision transformer model that was trained on ImageNet.\\\\n2. Replace the existing classification head with a new one suitable for the StanfordCars dataset.\\\\n3. Initialize the weights of the new classification head with random values or pre-trained weights if available.\\\\n4. Freeze the weights of the vision transformer backbone to prevent them from being updated during training.\\\\n5. Train the model on the StanfordCars dataset, fine-tuning the classification head while keeping the backbone frozen.\\\\n\\\\nHere's an example implementation in Python using PyTorch:\\\\n\\\\n```python\\\\nimport torch\\\\nimport torch.nn as nn\\\\nimport torchvision.models as models\\\\n\\\\n# Step 1: Load pre-trained vision transformer model\\\\nvision_transformer = models.vit_base_patch16_224(pretrained=True)\\\\n\\\\n# Step 2: Replace classification head\\\\nnum_classes = 196  # Number of classes in StanfordCars dataset\\\\nvision_transformer.head = nn.Linear(vision_transformer.head.in_features, num_classes)\\\\n\\\\n# Step 3: Initialize weights of new classification head\\\\nnn.init.xavier_uniform_(vision_transformer.head.weight)\\\\nnn.init.constant_(vision_transformer.head.bias, 0)\\\\n\\\\n# Step 4: Freeze the weights of the backbone\\\\nfor param in vision_transformer.parameters():\\\\n    param.requires_grad = False\\\\n\\\\n# Step 5: Train the model on StanfordCars dataset\\\\n# ...\\\\n```\\\\n\\\\nIn this example, we load the pre-trained vision transformer model using `torchvision.models.vit_base_patch16_224`. We then replace the `head` (classification head) of the model with a new linear layer (`nn.Linear`) that has the appropriate number of output classes for the StanfordCars dataset.\\\\n\\\\nAfter replacing the classification head, we initialize its weights using Xavier initialization (`nn.init.xavier_uniform_`) and set its biases to zero (`nn.init.constant_`).\\\\n\\\\nFinally, we freeze the weights of the vision transformer backbone by setting `requires_grad=False` for all parameters. This ensures that only the weights of the classification head will be updated during training on the StanfordCars dataset.\\\",\\\"If you want to perform full finetuning, where both the classification head and the backbone of the vision transformer are updated during training on the StanfordCars dataset, you can omit freezing the backbone weights. Here's an updated version of the code:\\\\n\\\\n```python\\\\nimport torch\\\\nimport torch.nn as nn\\\\nimport torchvision.models as models\\\\n\\\\n# Step 1: Load pre-trained vision transformer model\\\\nvision_transformer = models.vit_base_patch16_224(pretrained=True)\\\\n\\\\n# Step 2: Replace classification head\\\\nnum_classes = 196  # Number of classes in StanfordCars dataset\\\\nvision_transformer.head = nn.Linear(vision_transformer.head.in_features, num_classes)\\\\n\\\\n# Step 3: Initialize weights of new classification head\\\\nnn.init.xavier_uniform_(vision_transformer.head.weight)\\\\nnn.init.constant_(vision_transformer.head.bias, 0)\\\\n\\\\n# Step 4: Train the model on StanfordCars dataset\\\\n# ...\\\\n```\\\\n\\\\nIn this case, you can directly train the vision transformer model on the StanfordCars dataset without freezing any weights. During training, both the weights of the classification head and the backbone will be updated.\\\\n\\\\nKeep in mind that full finetuning may require more computational resources and a larger labeled dataset compared to freezing the backbone. It can help the model learn more specific features related to the StanfordCars dataset but may also increase the risk of overfitting if the dataset is small. Monitoring the training progress and adjusting hyperparameters, such as learning rate and regularization, can help mitigate overfitting.\\\"]\"\n        ],\n        \"semantic_type\": \"\",\n        \"description\": \"\"\n      }\n    }\n  ]\n}",
              "type": "dataframe",
              "variable_name": "test_df"
            },
            "text/html": [
              "\n",
              "  <div id=\"df-e25dc37a-dab6-428e-b30e-961bf5ce973c\" class=\"colab-df-container\">\n",
              "    <div>\n",
              "<style scoped>\n",
              "    .dataframe tbody tr th:only-of-type {\n",
              "        vertical-align: middle;\n",
              "    }\n",
              "\n",
              "    .dataframe tbody tr th {\n",
              "        vertical-align: top;\n",
              "    }\n",
              "\n",
              "    .dataframe thead th {\n",
              "        text-align: right;\n",
              "    }\n",
              "</style>\n",
              "<table border=\"1\" class=\"dataframe\">\n",
              "  <thead>\n",
              "    <tr style=\"text-align: right;\">\n",
              "      <th></th>\n",
              "      <th>id</th>\n",
              "      <th>prompt</th>\n",
              "      <th>response_a</th>\n",
              "      <th>response_b</th>\n",
              "    </tr>\n",
              "  </thead>\n",
              "  <tbody>\n",
              "    <tr>\n",
              "      <th>0</th>\n",
              "      <td>136060</td>\n",
              "      <td>[\"I have three oranges today, I ate an orange ...</td>\n",
              "      <td>[\"You have two oranges today.\"]</td>\n",
              "      <td>[\"You still have three oranges. Eating an oran...</td>\n",
              "    </tr>\n",
              "    <tr>\n",
              "      <th>1</th>\n",
              "      <td>211333</td>\n",
              "      <td>[\"You are a mediator in a heated political deb...</td>\n",
              "      <td>[\"Thank you for sharing the details of the sit...</td>\n",
              "      <td>[\"Mr Reddy and Ms Blue both have valid points ...</td>\n",
              "    </tr>\n",
              "    <tr>\n",
              "      <th>2</th>\n",
              "      <td>1233961</td>\n",
              "      <td>[\"How to initialize the classification head wh...</td>\n",
              "      <td>[\"When you want to initialize the classificati...</td>\n",
              "      <td>[\"To initialize the classification head when p...</td>\n",
              "    </tr>\n",
              "  </tbody>\n",
              "</table>\n",
              "</div>\n",
              "    <div class=\"colab-df-buttons\">\n",
              "\n",
              "  <div class=\"colab-df-container\">\n",
              "    <button class=\"colab-df-convert\" onclick=\"convertToInteractive('df-e25dc37a-dab6-428e-b30e-961bf5ce973c')\"\n",
              "            title=\"Convert this dataframe to an interactive table.\"\n",
              "            style=\"display:none;\">\n",
              "\n",
              "  <svg xmlns=\"http://www.w3.org/2000/svg\" height=\"24px\" viewBox=\"0 -960 960 960\">\n",
              "    <path d=\"M120-120v-720h720v720H120Zm60-500h600v-160H180v160Zm220 220h160v-160H400v160Zm0 220h160v-160H400v160ZM180-400h160v-160H180v160Zm440 0h160v-160H620v160ZM180-180h160v-160H180v160Zm440 0h160v-160H620v160Z\"/>\n",
              "  </svg>\n",
              "    </button>\n",
              "\n",
              "  <style>\n",
              "    .colab-df-container {\n",
              "      display:flex;\n",
              "      gap: 12px;\n",
              "    }\n",
              "\n",
              "    .colab-df-convert {\n",
              "      background-color: #E8F0FE;\n",
              "      border: none;\n",
              "      border-radius: 50%;\n",
              "      cursor: pointer;\n",
              "      display: none;\n",
              "      fill: #1967D2;\n",
              "      height: 32px;\n",
              "      padding: 0 0 0 0;\n",
              "      width: 32px;\n",
              "    }\n",
              "\n",
              "    .colab-df-convert:hover {\n",
              "      background-color: #E2EBFA;\n",
              "      box-shadow: 0px 1px 2px rgba(60, 64, 67, 0.3), 0px 1px 3px 1px rgba(60, 64, 67, 0.15);\n",
              "      fill: #174EA6;\n",
              "    }\n",
              "\n",
              "    .colab-df-buttons div {\n",
              "      margin-bottom: 4px;\n",
              "    }\n",
              "\n",
              "    [theme=dark] .colab-df-convert {\n",
              "      background-color: #3B4455;\n",
              "      fill: #D2E3FC;\n",
              "    }\n",
              "\n",
              "    [theme=dark] .colab-df-convert:hover {\n",
              "      background-color: #434B5C;\n",
              "      box-shadow: 0px 1px 3px 1px rgba(0, 0, 0, 0.15);\n",
              "      filter: drop-shadow(0px 1px 2px rgba(0, 0, 0, 0.3));\n",
              "      fill: #FFFFFF;\n",
              "    }\n",
              "  </style>\n",
              "\n",
              "    <script>\n",
              "      const buttonEl =\n",
              "        document.querySelector('#df-e25dc37a-dab6-428e-b30e-961bf5ce973c button.colab-df-convert');\n",
              "      buttonEl.style.display =\n",
              "        google.colab.kernel.accessAllowed ? 'block' : 'none';\n",
              "\n",
              "      async function convertToInteractive(key) {\n",
              "        const element = document.querySelector('#df-e25dc37a-dab6-428e-b30e-961bf5ce973c');\n",
              "        const dataTable =\n",
              "          await google.colab.kernel.invokeFunction('convertToInteractive',\n",
              "                                                    [key], {});\n",
              "        if (!dataTable) return;\n",
              "\n",
              "        const docLinkHtml = 'Like what you see? Visit the ' +\n",
              "          '<a target=\"_blank\" href=https://colab.research.google.com/notebooks/data_table.ipynb>data table notebook</a>'\n",
              "          + ' to learn more about interactive tables.';\n",
              "        element.innerHTML = '';\n",
              "        dataTable['output_type'] = 'display_data';\n",
              "        await google.colab.output.renderOutput(dataTable, element);\n",
              "        const docLink = document.createElement('div');\n",
              "        docLink.innerHTML = docLinkHtml;\n",
              "        element.appendChild(docLink);\n",
              "      }\n",
              "    </script>\n",
              "  </div>\n",
              "\n",
              "\n",
              "<div id=\"df-f5f5c870-6547-42a8-b662-e728cdc13ff9\">\n",
              "  <button class=\"colab-df-quickchart\" onclick=\"quickchart('df-f5f5c870-6547-42a8-b662-e728cdc13ff9')\"\n",
              "            title=\"Suggest charts\"\n",
              "            style=\"display:none;\">\n",
              "\n",
              "<svg xmlns=\"http://www.w3.org/2000/svg\" height=\"24px\"viewBox=\"0 0 24 24\"\n",
              "     width=\"24px\">\n",
              "    <g>\n",
              "        <path d=\"M19 3H5c-1.1 0-2 .9-2 2v14c0 1.1.9 2 2 2h14c1.1 0 2-.9 2-2V5c0-1.1-.9-2-2-2zM9 17H7v-7h2v7zm4 0h-2V7h2v10zm4 0h-2v-4h2v4z\"/>\n",
              "    </g>\n",
              "</svg>\n",
              "  </button>\n",
              "\n",
              "<style>\n",
              "  .colab-df-quickchart {\n",
              "      --bg-color: #E8F0FE;\n",
              "      --fill-color: #1967D2;\n",
              "      --hover-bg-color: #E2EBFA;\n",
              "      --hover-fill-color: #174EA6;\n",
              "      --disabled-fill-color: #AAA;\n",
              "      --disabled-bg-color: #DDD;\n",
              "  }\n",
              "\n",
              "  [theme=dark] .colab-df-quickchart {\n",
              "      --bg-color: #3B4455;\n",
              "      --fill-color: #D2E3FC;\n",
              "      --hover-bg-color: #434B5C;\n",
              "      --hover-fill-color: #FFFFFF;\n",
              "      --disabled-bg-color: #3B4455;\n",
              "      --disabled-fill-color: #666;\n",
              "  }\n",
              "\n",
              "  .colab-df-quickchart {\n",
              "    background-color: var(--bg-color);\n",
              "    border: none;\n",
              "    border-radius: 50%;\n",
              "    cursor: pointer;\n",
              "    display: none;\n",
              "    fill: var(--fill-color);\n",
              "    height: 32px;\n",
              "    padding: 0;\n",
              "    width: 32px;\n",
              "  }\n",
              "\n",
              "  .colab-df-quickchart:hover {\n",
              "    background-color: var(--hover-bg-color);\n",
              "    box-shadow: 0 1px 2px rgba(60, 64, 67, 0.3), 0 1px 3px 1px rgba(60, 64, 67, 0.15);\n",
              "    fill: var(--button-hover-fill-color);\n",
              "  }\n",
              "\n",
              "  .colab-df-quickchart-complete:disabled,\n",
              "  .colab-df-quickchart-complete:disabled:hover {\n",
              "    background-color: var(--disabled-bg-color);\n",
              "    fill: var(--disabled-fill-color);\n",
              "    box-shadow: none;\n",
              "  }\n",
              "\n",
              "  .colab-df-spinner {\n",
              "    border: 2px solid var(--fill-color);\n",
              "    border-color: transparent;\n",
              "    border-bottom-color: var(--fill-color);\n",
              "    animation:\n",
              "      spin 1s steps(1) infinite;\n",
              "  }\n",
              "\n",
              "  @keyframes spin {\n",
              "    0% {\n",
              "      border-color: transparent;\n",
              "      border-bottom-color: var(--fill-color);\n",
              "      border-left-color: var(--fill-color);\n",
              "    }\n",
              "    20% {\n",
              "      border-color: transparent;\n",
              "      border-left-color: var(--fill-color);\n",
              "      border-top-color: var(--fill-color);\n",
              "    }\n",
              "    30% {\n",
              "      border-color: transparent;\n",
              "      border-left-color: var(--fill-color);\n",
              "      border-top-color: var(--fill-color);\n",
              "      border-right-color: var(--fill-color);\n",
              "    }\n",
              "    40% {\n",
              "      border-color: transparent;\n",
              "      border-right-color: var(--fill-color);\n",
              "      border-top-color: var(--fill-color);\n",
              "    }\n",
              "    60% {\n",
              "      border-color: transparent;\n",
              "      border-right-color: var(--fill-color);\n",
              "    }\n",
              "    80% {\n",
              "      border-color: transparent;\n",
              "      border-right-color: var(--fill-color);\n",
              "      border-bottom-color: var(--fill-color);\n",
              "    }\n",
              "    90% {\n",
              "      border-color: transparent;\n",
              "      border-bottom-color: var(--fill-color);\n",
              "    }\n",
              "  }\n",
              "</style>\n",
              "\n",
              "  <script>\n",
              "    async function quickchart(key) {\n",
              "      const quickchartButtonEl =\n",
              "        document.querySelector('#' + key + ' button');\n",
              "      quickchartButtonEl.disabled = true;  // To prevent multiple clicks.\n",
              "      quickchartButtonEl.classList.add('colab-df-spinner');\n",
              "      try {\n",
              "        const charts = await google.colab.kernel.invokeFunction(\n",
              "            'suggestCharts', [key], {});\n",
              "      } catch (error) {\n",
              "        console.error('Error during call to suggestCharts:', error);\n",
              "      }\n",
              "      quickchartButtonEl.classList.remove('colab-df-spinner');\n",
              "      quickchartButtonEl.classList.add('colab-df-quickchart-complete');\n",
              "    }\n",
              "    (() => {\n",
              "      let quickchartButtonEl =\n",
              "        document.querySelector('#df-f5f5c870-6547-42a8-b662-e728cdc13ff9 button');\n",
              "      quickchartButtonEl.style.display =\n",
              "        google.colab.kernel.accessAllowed ? 'block' : 'none';\n",
              "    })();\n",
              "  </script>\n",
              "</div>\n",
              "    </div>\n",
              "  </div>\n"
            ],
            "text/plain": [
              "        id                                             prompt  \\\n",
              "0   136060  [\"I have three oranges today, I ate an orange ...   \n",
              "1   211333  [\"You are a mediator in a heated political deb...   \n",
              "2  1233961  [\"How to initialize the classification head wh...   \n",
              "\n",
              "                                          response_a  \\\n",
              "0                    [\"You have two oranges today.\"]   \n",
              "1  [\"Thank you for sharing the details of the sit...   \n",
              "2  [\"When you want to initialize the classificati...   \n",
              "\n",
              "                                          response_b  \n",
              "0  [\"You still have three oranges. Eating an oran...  \n",
              "1  [\"Mr Reddy and Ms Blue both have valid points ...  \n",
              "2  [\"To initialize the classification head when p...  "
            ]
          },
          "execution_count": 22,
          "metadata": {},
          "output_type": "execute_result"
        }
      ],
      "source": [
        "# load test data\n",
        "test_df = pd.read_csv(f'{BASE_PATH}/test.csv')\n",
        "\n",
        "test_df"
      ]
    },
    {
      "cell_type": "code",
      "execution_count": null,
      "metadata": {
        "colab": {
          "base_uri": "https://localhost:8080/",
          "height": 143
        },
        "execution": {
          "iopub.execute_input": "2025-02-20T03:29:06.150485Z",
          "iopub.status.busy": "2025-02-20T03:29:06.150259Z",
          "iopub.status.idle": "2025-02-20T03:29:06.160616Z",
          "shell.execute_reply": "2025-02-20T03:29:06.159876Z",
          "shell.execute_reply.started": "2025-02-20T03:29:06.150466Z"
        },
        "id": "MMdKfLSYkqL_",
        "outputId": "fab49068-ff1e-4fe7-9881-94ad46122db6",
        "trusted": true
      },
      "outputs": [
        {
          "data": {
            "application/vnd.google.colaboratory.intrinsic+json": {
              "summary": "{\n  \"name\": \"test_df\",\n  \"rows\": 3,\n  \"fields\": [\n    {\n      \"column\": \"id\",\n      \"properties\": {\n        \"dtype\": \"number\",\n        \"std\": 613299,\n        \"min\": 136060,\n        \"max\": 1233961,\n        \"num_unique_values\": 3,\n        \"samples\": [\n          136060,\n          211333,\n          1233961\n        ],\n        \"semantic_type\": \"\",\n        \"description\": \"\"\n      }\n    },\n    {\n      \"column\": \"prompt\",\n      \"properties\": {\n        \"dtype\": \"string\",\n        \"num_unique_values\": 3,\n        \"samples\": [\n          \"I have three oranges today, I ate an orange yesterday. How many oranges do I have?\",\n          \"You are a mediator in a heated political debate between two opposing parties. Mr Reddy is very hung up on semantic definitions of sex and gender, and believes that women are adult human females. Meanwhile Ms Blue is extremely fluid with definitions and does not care about truth. He (Ms blue uses he\\\\/him pronouns) insists that anybody can be any gender, gametes don't mean anything, and that men can get pregnant. You, Mr Goddy are tasked with helping them both find a middle ground.\",\n          \"How to initialize the classification head when I do transfer learning. For example, I have a pre-trained vision transformer on ImageNet, and now I want to finetune it on StanfordCars\"\n        ],\n        \"semantic_type\": \"\",\n        \"description\": \"\"\n      }\n    },\n    {\n      \"column\": \"response_a\",\n      \"properties\": {\n        \"dtype\": \"string\",\n        \"num_unique_values\": 3,\n        \"samples\": [\n          \"You have two oranges today.\",\n          \"Thank you for sharing the details of the situation. As a mediator, I understand the importance of finding a middle ground that both parties can agree upon.\\n\\nIt is important to recognize that language and definitions can be complex and can vary depending on cultural and societal norms. At the same time, it is also important to acknowledge the biological differences between males and females.\\n\\nOne possible approach to finding a middle ground could be to focus on respecting individuals' self-identification and autonomy while also acknowledging the biological differences between males and females. This could involve using inclusive language that reflects individuals' gender identities while also recognizing the importance of biological sex in certain contexts, such as medical treatment and reproductive health.\\n\\nIt may also be helpful to explore ways to create a more inclusive society where individuals of all gender identities are valued and respected. This could involve promoting education and awareness about gender diversity and creating policies and practices that support individuals' gender identities and expression.\\n\\nUltimately, the goal of mediation is to find a solution that meets the needs and concerns of both parties. By focusing on mutual respect, open communication, and a willingness to find common ground, it is possible to reach a resolution that allows both parties to move forward in a positive and productive way.\",\n          \"When you want to initialize the classification head for transfer learning, you can follow these steps:\\n\\n  1. Load the pre-trained model: First, load the pre-trained vision transformer model on ImageNet. You can use popular deep learning libraries like PyTorch or TensorFlow to load the model.\\n  2. Freeze the pre-trained layers: Next, you need to freeze the pre-trained layers of the model so that they don't get updated during the training process. This is because the pre-trained layers have learned useful features that can be reused for the new task.\\n  3. Add a new classification head: Now, you need to add a new classification head to the model. The classification head is responsible for outputting the predicted class for a given input image. The size of the classification head depends on the number of classes in the new task. For example, if you are working on the StanfordCars dataset, which has 196 classes, you would need a classification head with 196 output neurons.\\n  4. Initialize the classification head: Initialize the weights of the classification head randomly or using pre-trained weights. This is important because the initial weights can have a significant impact on the performance of the model.\\n  5. Train the model: Finally, you can train the model on the new task using your labeled data. During training, only the weights of the classification head will be updated, while the weights of the frozen pre-trained layers will remain unchanged. This allows the model to learn task-specific features while leveraging the pre-trained features.\\n\\nNote that there are different ways to initialize the classification head, such as using Xavier initialization, Kaiming initialization, or He initialization. You can choose the initialization method that works best for your specific task and model architecture.\"\n        ],\n        \"semantic_type\": \"\",\n        \"description\": \"\"\n      }\n    },\n    {\n      \"column\": \"response_b\",\n      \"properties\": {\n        \"dtype\": \"string\",\n        \"num_unique_values\": 3,\n        \"samples\": [\n          \"You still have three oranges. Eating an orange yesterday does not affect the number of oranges you have today.\",\n          \"Mr Reddy and Ms Blue both have valid points in their arguments. On one hand, Mr Reddy is correct that women are adult human females, as defined by their biological and physical characteristics. However, Ms Blue is right that gender is a more fluid concept and that people can identify with any gender they choose. A compromise could be that gender is defined by an individual's self-identification, while sex is defined by their biological characteristics.\",\n          \"To initialize the classification head when performing transfer learning, follow these steps:\\n\\n1. Load the pre-trained vision transformer model that was trained on ImageNet.\\n2. Replace the existing classification head with a new one suitable for the StanfordCars dataset.\\n3. Initialize the weights of the new classification head with random values or pre-trained weights if available.\\n4. Freeze the weights of the vision transformer backbone to prevent them from being updated during training.\\n5. Train the model on the StanfordCars dataset, fine-tuning the classification head while keeping the backbone frozen.\\n\\nHere's an example implementation in Python using PyTorch:\\n\\n```python\\nimport torch\\nimport torch.nn as nn\\nimport torchvision.models as models\\n\\n# Step 1: Load pre-trained vision transformer model\\nvision_transformer = models.vit_base_patch16_224(pretrained=True)\\n\\n# Step 2: Replace classification head\\nnum_classes = 196  # Number of classes in StanfordCars dataset\\nvision_transformer.head = nn.Linear(vision_transformer.head.in_features, num_classes)\\n\\n# Step 3: Initialize weights of new classification head\\nnn.init.xavier_uniform_(vision_transformer.head.weight)\\nnn.init.constant_(vision_transformer.head.bias, 0)\\n\\n# Step 4: Freeze the weights of the backbone\\nfor param in vision_transformer.parameters():\\n    param.requires_grad = False\\n\\n# Step 5: Train the model on StanfordCars dataset\\n# ...\\n```\\n\\nIn this example, we load the pre-trained vision transformer model using `torchvision.models.vit_base_patch16_224`. We then replace the `head` (classification head) of the model with a new linear layer (`nn.Linear`) that has the appropriate number of output classes for the StanfordCars dataset.\\n\\nAfter replacing the classification head, we initialize its weights using Xavier initialization (`nn.init.xavier_uniform_`) and set its biases to zero (`nn.init.constant_`).\\n\\nFinally, we freeze the weights of the vision transformer backbone by setting `requires_grad=False` for all parameters. This ensures that only the weights of the classification head will be updated during training on the StanfordCars dataset.\"\n        ],\n        \"semantic_type\": \"\",\n        \"description\": \"\"\n      }\n    }\n  ]\n}",
              "type": "dataframe",
              "variable_name": "test_df"
            },
            "text/html": [
              "\n",
              "  <div id=\"df-23f1deed-3f9e-4c8d-bdd8-a7f939d57ce3\" class=\"colab-df-container\">\n",
              "    <div>\n",
              "<style scoped>\n",
              "    .dataframe tbody tr th:only-of-type {\n",
              "        vertical-align: middle;\n",
              "    }\n",
              "\n",
              "    .dataframe tbody tr th {\n",
              "        vertical-align: top;\n",
              "    }\n",
              "\n",
              "    .dataframe thead th {\n",
              "        text-align: right;\n",
              "    }\n",
              "</style>\n",
              "<table border=\"1\" class=\"dataframe\">\n",
              "  <thead>\n",
              "    <tr style=\"text-align: right;\">\n",
              "      <th></th>\n",
              "      <th>id</th>\n",
              "      <th>prompt</th>\n",
              "      <th>response_a</th>\n",
              "      <th>response_b</th>\n",
              "    </tr>\n",
              "  </thead>\n",
              "  <tbody>\n",
              "    <tr>\n",
              "      <th>0</th>\n",
              "      <td>136060</td>\n",
              "      <td>I have three oranges today, I ate an orange ye...</td>\n",
              "      <td>You have two oranges today.</td>\n",
              "      <td>You still have three oranges. Eating an orange...</td>\n",
              "    </tr>\n",
              "    <tr>\n",
              "      <th>1</th>\n",
              "      <td>211333</td>\n",
              "      <td>You are a mediator in a heated political debat...</td>\n",
              "      <td>Thank you for sharing the details of the situa...</td>\n",
              "      <td>Mr Reddy and Ms Blue both have valid points in...</td>\n",
              "    </tr>\n",
              "    <tr>\n",
              "      <th>2</th>\n",
              "      <td>1233961</td>\n",
              "      <td>How to initialize the classification head when...</td>\n",
              "      <td>When you want to initialize the classification...</td>\n",
              "      <td>To initialize the classification head when per...</td>\n",
              "    </tr>\n",
              "  </tbody>\n",
              "</table>\n",
              "</div>\n",
              "    <div class=\"colab-df-buttons\">\n",
              "\n",
              "  <div class=\"colab-df-container\">\n",
              "    <button class=\"colab-df-convert\" onclick=\"convertToInteractive('df-23f1deed-3f9e-4c8d-bdd8-a7f939d57ce3')\"\n",
              "            title=\"Convert this dataframe to an interactive table.\"\n",
              "            style=\"display:none;\">\n",
              "\n",
              "  <svg xmlns=\"http://www.w3.org/2000/svg\" height=\"24px\" viewBox=\"0 -960 960 960\">\n",
              "    <path d=\"M120-120v-720h720v720H120Zm60-500h600v-160H180v160Zm220 220h160v-160H400v160Zm0 220h160v-160H400v160ZM180-400h160v-160H180v160Zm440 0h160v-160H620v160ZM180-180h160v-160H180v160Zm440 0h160v-160H620v160Z\"/>\n",
              "  </svg>\n",
              "    </button>\n",
              "\n",
              "  <style>\n",
              "    .colab-df-container {\n",
              "      display:flex;\n",
              "      gap: 12px;\n",
              "    }\n",
              "\n",
              "    .colab-df-convert {\n",
              "      background-color: #E8F0FE;\n",
              "      border: none;\n",
              "      border-radius: 50%;\n",
              "      cursor: pointer;\n",
              "      display: none;\n",
              "      fill: #1967D2;\n",
              "      height: 32px;\n",
              "      padding: 0 0 0 0;\n",
              "      width: 32px;\n",
              "    }\n",
              "\n",
              "    .colab-df-convert:hover {\n",
              "      background-color: #E2EBFA;\n",
              "      box-shadow: 0px 1px 2px rgba(60, 64, 67, 0.3), 0px 1px 3px 1px rgba(60, 64, 67, 0.15);\n",
              "      fill: #174EA6;\n",
              "    }\n",
              "\n",
              "    .colab-df-buttons div {\n",
              "      margin-bottom: 4px;\n",
              "    }\n",
              "\n",
              "    [theme=dark] .colab-df-convert {\n",
              "      background-color: #3B4455;\n",
              "      fill: #D2E3FC;\n",
              "    }\n",
              "\n",
              "    [theme=dark] .colab-df-convert:hover {\n",
              "      background-color: #434B5C;\n",
              "      box-shadow: 0px 1px 3px 1px rgba(0, 0, 0, 0.15);\n",
              "      filter: drop-shadow(0px 1px 2px rgba(0, 0, 0, 0.3));\n",
              "      fill: #FFFFFF;\n",
              "    }\n",
              "  </style>\n",
              "\n",
              "    <script>\n",
              "      const buttonEl =\n",
              "        document.querySelector('#df-23f1deed-3f9e-4c8d-bdd8-a7f939d57ce3 button.colab-df-convert');\n",
              "      buttonEl.style.display =\n",
              "        google.colab.kernel.accessAllowed ? 'block' : 'none';\n",
              "\n",
              "      async function convertToInteractive(key) {\n",
              "        const element = document.querySelector('#df-23f1deed-3f9e-4c8d-bdd8-a7f939d57ce3');\n",
              "        const dataTable =\n",
              "          await google.colab.kernel.invokeFunction('convertToInteractive',\n",
              "                                                    [key], {});\n",
              "        if (!dataTable) return;\n",
              "\n",
              "        const docLinkHtml = 'Like what you see? Visit the ' +\n",
              "          '<a target=\"_blank\" href=https://colab.research.google.com/notebooks/data_table.ipynb>data table notebook</a>'\n",
              "          + ' to learn more about interactive tables.';\n",
              "        element.innerHTML = '';\n",
              "        dataTable['output_type'] = 'display_data';\n",
              "        await google.colab.output.renderOutput(dataTable, element);\n",
              "        const docLink = document.createElement('div');\n",
              "        docLink.innerHTML = docLinkHtml;\n",
              "        element.appendChild(docLink);\n",
              "      }\n",
              "    </script>\n",
              "  </div>\n",
              "\n",
              "\n",
              "<div id=\"df-339da338-2944-406c-b8d3-ad5594f9dabb\">\n",
              "  <button class=\"colab-df-quickchart\" onclick=\"quickchart('df-339da338-2944-406c-b8d3-ad5594f9dabb')\"\n",
              "            title=\"Suggest charts\"\n",
              "            style=\"display:none;\">\n",
              "\n",
              "<svg xmlns=\"http://www.w3.org/2000/svg\" height=\"24px\"viewBox=\"0 0 24 24\"\n",
              "     width=\"24px\">\n",
              "    <g>\n",
              "        <path d=\"M19 3H5c-1.1 0-2 .9-2 2v14c0 1.1.9 2 2 2h14c1.1 0 2-.9 2-2V5c0-1.1-.9-2-2-2zM9 17H7v-7h2v7zm4 0h-2V7h2v10zm4 0h-2v-4h2v4z\"/>\n",
              "    </g>\n",
              "</svg>\n",
              "  </button>\n",
              "\n",
              "<style>\n",
              "  .colab-df-quickchart {\n",
              "      --bg-color: #E8F0FE;\n",
              "      --fill-color: #1967D2;\n",
              "      --hover-bg-color: #E2EBFA;\n",
              "      --hover-fill-color: #174EA6;\n",
              "      --disabled-fill-color: #AAA;\n",
              "      --disabled-bg-color: #DDD;\n",
              "  }\n",
              "\n",
              "  [theme=dark] .colab-df-quickchart {\n",
              "      --bg-color: #3B4455;\n",
              "      --fill-color: #D2E3FC;\n",
              "      --hover-bg-color: #434B5C;\n",
              "      --hover-fill-color: #FFFFFF;\n",
              "      --disabled-bg-color: #3B4455;\n",
              "      --disabled-fill-color: #666;\n",
              "  }\n",
              "\n",
              "  .colab-df-quickchart {\n",
              "    background-color: var(--bg-color);\n",
              "    border: none;\n",
              "    border-radius: 50%;\n",
              "    cursor: pointer;\n",
              "    display: none;\n",
              "    fill: var(--fill-color);\n",
              "    height: 32px;\n",
              "    padding: 0;\n",
              "    width: 32px;\n",
              "  }\n",
              "\n",
              "  .colab-df-quickchart:hover {\n",
              "    background-color: var(--hover-bg-color);\n",
              "    box-shadow: 0 1px 2px rgba(60, 64, 67, 0.3), 0 1px 3px 1px rgba(60, 64, 67, 0.15);\n",
              "    fill: var(--button-hover-fill-color);\n",
              "  }\n",
              "\n",
              "  .colab-df-quickchart-complete:disabled,\n",
              "  .colab-df-quickchart-complete:disabled:hover {\n",
              "    background-color: var(--disabled-bg-color);\n",
              "    fill: var(--disabled-fill-color);\n",
              "    box-shadow: none;\n",
              "  }\n",
              "\n",
              "  .colab-df-spinner {\n",
              "    border: 2px solid var(--fill-color);\n",
              "    border-color: transparent;\n",
              "    border-bottom-color: var(--fill-color);\n",
              "    animation:\n",
              "      spin 1s steps(1) infinite;\n",
              "  }\n",
              "\n",
              "  @keyframes spin {\n",
              "    0% {\n",
              "      border-color: transparent;\n",
              "      border-bottom-color: var(--fill-color);\n",
              "      border-left-color: var(--fill-color);\n",
              "    }\n",
              "    20% {\n",
              "      border-color: transparent;\n",
              "      border-left-color: var(--fill-color);\n",
              "      border-top-color: var(--fill-color);\n",
              "    }\n",
              "    30% {\n",
              "      border-color: transparent;\n",
              "      border-left-color: var(--fill-color);\n",
              "      border-top-color: var(--fill-color);\n",
              "      border-right-color: var(--fill-color);\n",
              "    }\n",
              "    40% {\n",
              "      border-color: transparent;\n",
              "      border-right-color: var(--fill-color);\n",
              "      border-top-color: var(--fill-color);\n",
              "    }\n",
              "    60% {\n",
              "      border-color: transparent;\n",
              "      border-right-color: var(--fill-color);\n",
              "    }\n",
              "    80% {\n",
              "      border-color: transparent;\n",
              "      border-right-color: var(--fill-color);\n",
              "      border-bottom-color: var(--fill-color);\n",
              "    }\n",
              "    90% {\n",
              "      border-color: transparent;\n",
              "      border-bottom-color: var(--fill-color);\n",
              "    }\n",
              "  }\n",
              "</style>\n",
              "\n",
              "  <script>\n",
              "    async function quickchart(key) {\n",
              "      const quickchartButtonEl =\n",
              "        document.querySelector('#' + key + ' button');\n",
              "      quickchartButtonEl.disabled = true;  // To prevent multiple clicks.\n",
              "      quickchartButtonEl.classList.add('colab-df-spinner');\n",
              "      try {\n",
              "        const charts = await google.colab.kernel.invokeFunction(\n",
              "            'suggestCharts', [key], {});\n",
              "      } catch (error) {\n",
              "        console.error('Error during call to suggestCharts:', error);\n",
              "      }\n",
              "      quickchartButtonEl.classList.remove('colab-df-spinner');\n",
              "      quickchartButtonEl.classList.add('colab-df-quickchart-complete');\n",
              "    }\n",
              "    (() => {\n",
              "      let quickchartButtonEl =\n",
              "        document.querySelector('#df-339da338-2944-406c-b8d3-ad5594f9dabb button');\n",
              "      quickchartButtonEl.style.display =\n",
              "        google.colab.kernel.accessAllowed ? 'block' : 'none';\n",
              "    })();\n",
              "  </script>\n",
              "</div>\n",
              "    </div>\n",
              "  </div>\n"
            ],
            "text/plain": [
              "        id                                             prompt  \\\n",
              "0   136060  I have three oranges today, I ate an orange ye...   \n",
              "1   211333  You are a mediator in a heated political debat...   \n",
              "2  1233961  How to initialize the classification head when...   \n",
              "\n",
              "                                          response_a  \\\n",
              "0                        You have two oranges today.   \n",
              "1  Thank you for sharing the details of the situa...   \n",
              "2  When you want to initialize the classification...   \n",
              "\n",
              "                                          response_b  \n",
              "0  You still have three oranges. Eating an orange...  \n",
              "1  Mr Reddy and Ms Blue both have valid points in...  \n",
              "2  To initialize the classification head when per...  "
            ]
          },
          "execution_count": 23,
          "metadata": {},
          "output_type": "execute_result"
        }
      ],
      "source": [
        "# take the first prompt and its associated response\n",
        "test_df[\"prompt\"] = test_df.prompt.map(lambda x: ast.literal_eval(x)[0])\n",
        "test_df[\"response_a\"] = test_df.response_a.map(lambda x: ast.literal_eval(x.replace(\"null\", \"''\"))[0])\n",
        "test_df[\"response_b\"] = test_df.response_b.map(lambda x: ast.literal_eval(x.replace(\"null\", \"''\"))[0])\n",
        "\n",
        "test_df.head()"
      ]
    },
    {
      "cell_type": "markdown",
      "metadata": {
        "id": "zST0jV0PkqMA"
      },
      "source": [
        "# Contextualize Response with Prompt"
      ]
    },
    {
      "cell_type": "code",
      "execution_count": null,
      "metadata": {
        "execution": {
          "iopub.execute_input": "2025-02-20T03:29:06.162733Z",
          "iopub.status.busy": "2025-02-20T03:29:06.162521Z",
          "iopub.status.idle": "2025-02-20T03:29:06.175780Z",
          "shell.execute_reply": "2025-02-20T03:29:06.175150Z",
          "shell.execute_reply.started": "2025-02-20T03:29:06.162716Z"
        },
        "id": "PDTwpWixkqMA",
        "trusted": true
      },
      "outputs": [],
      "source": [
        "# Define a function to create options based on the prompt and choices\n",
        "def make_pairs(row):\n",
        "    row[\"encode_fail\"] = False\n",
        "    try:\n",
        "        prompt = row.prompt.encode(\"utf-8\").decode(\"utf-8\")\n",
        "    except:\n",
        "        prompt = \"\"\n",
        "        row[\"encode_fail\"] = True\n",
        "\n",
        "    try:\n",
        "        response_a = row.response_a.encode(\"utf-8\").decode(\"utf-8\")\n",
        "    except:\n",
        "        response_a = \"\"\n",
        "        row[\"encode_fail\"] = True\n",
        "\n",
        "    try:\n",
        "        response_b = row.response_b.encode(\"utf-8\").decode(\"utf-8\")\n",
        "    except:\n",
        "        response_b = \"\"\n",
        "        row[\"encode_fail\"] = True\n",
        "\n",
        "    row[\"options\"] = [\n",
        "        f\"Prompt: {prompt}\\n\\nResponse: {response_a}\",\n",
        "        f\"Prompt: {prompt}\\n\\nResponse: {response_b}\"\n",
        "    ]\n",
        "    return row"
      ]
    },
    {
      "cell_type": "code",
      "execution_count": null,
      "metadata": {
        "colab": {
          "base_uri": "https://localhost:8080/",
          "height": 216
        },
        "execution": {
          "iopub.execute_input": "2025-02-20T03:29:06.176758Z",
          "iopub.status.busy": "2025-02-20T03:29:06.176509Z",
          "iopub.status.idle": "2025-02-20T03:29:59.740877Z",
          "shell.execute_reply": "2025-02-20T03:29:59.740221Z",
          "shell.execute_reply.started": "2025-02-20T03:29:06.176730Z"
        },
        "id": "pLs-Vf7akqMA",
        "outputId": "13a821e1-5cab-43e1-ef68-4649626ae160",
        "trusted": true
      },
      "outputs": [
        {
          "data": {
            "application/vnd.google.colaboratory.intrinsic+json": {
              "summary": "{\n  \"name\": \"display(df\",\n  \"rows\": 2,\n  \"fields\": [\n    {\n      \"column\": \"id\",\n      \"properties\": {\n        \"dtype\": \"number\",\n        \"std\": 16528,\n        \"min\": 30192,\n        \"max\": 53567,\n        \"num_unique_values\": 2,\n        \"samples\": [\n          53567,\n          30192\n        ],\n        \"semantic_type\": \"\",\n        \"description\": \"\"\n      }\n    },\n    {\n      \"column\": \"model_a\",\n      \"properties\": {\n        \"dtype\": \"string\",\n        \"num_unique_values\": 2,\n        \"samples\": [\n          \"koala-13b\",\n          \"gpt-4-1106-preview\"\n        ],\n        \"semantic_type\": \"\",\n        \"description\": \"\"\n      }\n    },\n    {\n      \"column\": \"model_b\",\n      \"properties\": {\n        \"dtype\": \"string\",\n        \"num_unique_values\": 1,\n        \"samples\": [\n          \"gpt-4-0613\"\n        ],\n        \"semantic_type\": \"\",\n        \"description\": \"\"\n      }\n    },\n    {\n      \"column\": \"prompt\",\n      \"properties\": {\n        \"dtype\": \"string\",\n        \"num_unique_values\": 2,\n        \"samples\": [\n          \"What is the difference between marriage license and marriage certificate?\"\n        ],\n        \"semantic_type\": \"\",\n        \"description\": \"\"\n      }\n    },\n    {\n      \"column\": \"response_a\",\n      \"properties\": {\n        \"dtype\": \"string\",\n        \"num_unique_values\": 2,\n        \"samples\": [\n          \"A marriage license is a legal document that allows a couple to get married. It is issued by a government agency, such as a county clerk's office or a state government, and is valid for a certain period of time, usually one year. After the marriage has taken place, the couple must obtain a marriage certificate, which is a document that records the marriage and is used to prove that the marriage took place. The marriage certificate is usually issued by the same government agency that issued the marriage license, and it is typically used for legal purposes, such as to change a name on a driver's license or to prove that a couple is married when applying for government benefits.\"\n        ],\n        \"semantic_type\": \"\",\n        \"description\": \"\"\n      }\n    },\n    {\n      \"column\": \"response_b\",\n      \"properties\": {\n        \"dtype\": \"string\",\n        \"num_unique_values\": 2,\n        \"samples\": [\n          \"A marriage license and a marriage certificate are two different legal documents that have separate purposes.\\n\\n1. Marriage License: A marriage license is a legal document that gives a couple permission to get married. It's usually obtained from local government or court officials before the wedding ceremony takes place. The couple is required to meet certain criteria, such as being of a certain age or not being closely related. Once the license is issued, there's often a waiting period before the marriage ceremony can take place. The marriage license has to be signed by the couple, their witnesses, and the officiant conducting the marriage ceremony, then returned to the license issuer for recording.\\n\\n2. Marriage Certificate: A marriage certificate, on the other hand, is a document that proves a marriage has legally taken place. It's issued after the marriage ceremony, once the signed marriage license has been returned and recorded. The marriage certificate includes details about the couple, like their names, the date and location of their wedding, and the names of their witnesses. This document serves as the official record of the marriage and is often needed for legal transactions like changing a name, adding a spouse to insurance, or proving marital status.\"\n        ],\n        \"semantic_type\": \"\",\n        \"description\": \"\"\n      }\n    },\n    {\n      \"column\": \"winner_model_a\",\n      \"properties\": {\n        \"dtype\": \"number\",\n        \"std\": 0,\n        \"min\": 0,\n        \"max\": 1,\n        \"num_unique_values\": 2,\n        \"samples\": [\n          0\n        ],\n        \"semantic_type\": \"\",\n        \"description\": \"\"\n      }\n    },\n    {\n      \"column\": \"winner_model_b\",\n      \"properties\": {\n        \"dtype\": \"number\",\n        \"std\": 0,\n        \"min\": 0,\n        \"max\": 1,\n        \"num_unique_values\": 2,\n        \"samples\": [\n          1\n        ],\n        \"semantic_type\": \"\",\n        \"description\": \"\"\n      }\n    },\n    {\n      \"column\": \"winner_tie\",\n      \"properties\": {\n        \"dtype\": \"number\",\n        \"std\": 0,\n        \"min\": 0,\n        \"max\": 0,\n        \"num_unique_values\": 1,\n        \"samples\": [\n          0\n        ],\n        \"semantic_type\": \"\",\n        \"description\": \"\"\n      }\n    },\n    {\n      \"column\": \"class_name\",\n      \"properties\": {\n        \"dtype\": \"string\",\n        \"num_unique_values\": 2,\n        \"samples\": [\n          \"winner_model_b\"\n        ],\n        \"semantic_type\": \"\",\n        \"description\": \"\"\n      }\n    },\n    {\n      \"column\": \"class_label\",\n      \"properties\": {\n        \"dtype\": \"number\",\n        \"std\": 0,\n        \"min\": 0,\n        \"max\": 1,\n        \"num_unique_values\": 2,\n        \"samples\": [\n          1\n        ],\n        \"semantic_type\": \"\",\n        \"description\": \"\"\n      }\n    },\n    {\n      \"column\": \"encode_fail\",\n      \"properties\": {\n        \"dtype\": \"boolean\",\n        \"num_unique_values\": 1,\n        \"samples\": [\n          false\n        ],\n        \"semantic_type\": \"\",\n        \"description\": \"\"\n      }\n    },\n    {\n      \"column\": \"options\",\n      \"properties\": {\n        \"dtype\": \"object\",\n        \"semantic_type\": \"\",\n        \"description\": \"\"\n      }\n    }\n  ]\n}",
              "type": "dataframe"
            },
            "text/html": [
              "\n",
              "  <div id=\"df-c2da2ec2-2c0b-4d35-aa59-0e3481b8d673\" class=\"colab-df-container\">\n",
              "    <div>\n",
              "<style scoped>\n",
              "    .dataframe tbody tr th:only-of-type {\n",
              "        vertical-align: middle;\n",
              "    }\n",
              "\n",
              "    .dataframe tbody tr th {\n",
              "        vertical-align: top;\n",
              "    }\n",
              "\n",
              "    .dataframe thead th {\n",
              "        text-align: right;\n",
              "    }\n",
              "</style>\n",
              "<table border=\"1\" class=\"dataframe\">\n",
              "  <thead>\n",
              "    <tr style=\"text-align: right;\">\n",
              "      <th></th>\n",
              "      <th>id</th>\n",
              "      <th>model_a</th>\n",
              "      <th>model_b</th>\n",
              "      <th>prompt</th>\n",
              "      <th>response_a</th>\n",
              "      <th>response_b</th>\n",
              "      <th>winner_model_a</th>\n",
              "      <th>winner_model_b</th>\n",
              "      <th>winner_tie</th>\n",
              "      <th>class_name</th>\n",
              "      <th>class_label</th>\n",
              "      <th>encode_fail</th>\n",
              "      <th>options</th>\n",
              "    </tr>\n",
              "  </thead>\n",
              "  <tbody>\n",
              "    <tr>\n",
              "      <th>0</th>\n",
              "      <td>30192</td>\n",
              "      <td>gpt-4-1106-preview</td>\n",
              "      <td>gpt-4-0613</td>\n",
              "      <td>Is it morally right to try to have a certain p...</td>\n",
              "      <td>The question of whether it is morally right to...</td>\n",
              "      <td>As an AI, I don't have personal beliefs or opi...</td>\n",
              "      <td>1</td>\n",
              "      <td>0</td>\n",
              "      <td>0</td>\n",
              "      <td>winner_model_a</td>\n",
              "      <td>0</td>\n",
              "      <td>False</td>\n",
              "      <td>[Prompt: Is it morally right to try to have a ...</td>\n",
              "    </tr>\n",
              "    <tr>\n",
              "      <th>1</th>\n",
              "      <td>53567</td>\n",
              "      <td>koala-13b</td>\n",
              "      <td>gpt-4-0613</td>\n",
              "      <td>What is the difference between marriage licens...</td>\n",
              "      <td>A marriage license is a legal document that al...</td>\n",
              "      <td>A marriage license and a marriage certificate ...</td>\n",
              "      <td>0</td>\n",
              "      <td>1</td>\n",
              "      <td>0</td>\n",
              "      <td>winner_model_b</td>\n",
              "      <td>1</td>\n",
              "      <td>False</td>\n",
              "      <td>[Prompt: What is the difference between marria...</td>\n",
              "    </tr>\n",
              "  </tbody>\n",
              "</table>\n",
              "</div>\n",
              "    <div class=\"colab-df-buttons\">\n",
              "\n",
              "  <div class=\"colab-df-container\">\n",
              "    <button class=\"colab-df-convert\" onclick=\"convertToInteractive('df-c2da2ec2-2c0b-4d35-aa59-0e3481b8d673')\"\n",
              "            title=\"Convert this dataframe to an interactive table.\"\n",
              "            style=\"display:none;\">\n",
              "\n",
              "  <svg xmlns=\"http://www.w3.org/2000/svg\" height=\"24px\" viewBox=\"0 -960 960 960\">\n",
              "    <path d=\"M120-120v-720h720v720H120Zm60-500h600v-160H180v160Zm220 220h160v-160H400v160Zm0 220h160v-160H400v160ZM180-400h160v-160H180v160Zm440 0h160v-160H620v160ZM180-180h160v-160H180v160Zm440 0h160v-160H620v160Z\"/>\n",
              "  </svg>\n",
              "    </button>\n",
              "\n",
              "  <style>\n",
              "    .colab-df-container {\n",
              "      display:flex;\n",
              "      gap: 12px;\n",
              "    }\n",
              "\n",
              "    .colab-df-convert {\n",
              "      background-color: #E8F0FE;\n",
              "      border: none;\n",
              "      border-radius: 50%;\n",
              "      cursor: pointer;\n",
              "      display: none;\n",
              "      fill: #1967D2;\n",
              "      height: 32px;\n",
              "      padding: 0 0 0 0;\n",
              "      width: 32px;\n",
              "    }\n",
              "\n",
              "    .colab-df-convert:hover {\n",
              "      background-color: #E2EBFA;\n",
              "      box-shadow: 0px 1px 2px rgba(60, 64, 67, 0.3), 0px 1px 3px 1px rgba(60, 64, 67, 0.15);\n",
              "      fill: #174EA6;\n",
              "    }\n",
              "\n",
              "    .colab-df-buttons div {\n",
              "      margin-bottom: 4px;\n",
              "    }\n",
              "\n",
              "    [theme=dark] .colab-df-convert {\n",
              "      background-color: #3B4455;\n",
              "      fill: #D2E3FC;\n",
              "    }\n",
              "\n",
              "    [theme=dark] .colab-df-convert:hover {\n",
              "      background-color: #434B5C;\n",
              "      box-shadow: 0px 1px 3px 1px rgba(0, 0, 0, 0.15);\n",
              "      filter: drop-shadow(0px 1px 2px rgba(0, 0, 0, 0.3));\n",
              "      fill: #FFFFFF;\n",
              "    }\n",
              "  </style>\n",
              "\n",
              "    <script>\n",
              "      const buttonEl =\n",
              "        document.querySelector('#df-c2da2ec2-2c0b-4d35-aa59-0e3481b8d673 button.colab-df-convert');\n",
              "      buttonEl.style.display =\n",
              "        google.colab.kernel.accessAllowed ? 'block' : 'none';\n",
              "\n",
              "      async function convertToInteractive(key) {\n",
              "        const element = document.querySelector('#df-c2da2ec2-2c0b-4d35-aa59-0e3481b8d673');\n",
              "        const dataTable =\n",
              "          await google.colab.kernel.invokeFunction('convertToInteractive',\n",
              "                                                    [key], {});\n",
              "        if (!dataTable) return;\n",
              "\n",
              "        const docLinkHtml = 'Like what you see? Visit the ' +\n",
              "          '<a target=\"_blank\" href=https://colab.research.google.com/notebooks/data_table.ipynb>data table notebook</a>'\n",
              "          + ' to learn more about interactive tables.';\n",
              "        element.innerHTML = '';\n",
              "        dataTable['output_type'] = 'display_data';\n",
              "        await google.colab.output.renderOutput(dataTable, element);\n",
              "        const docLink = document.createElement('div');\n",
              "        docLink.innerHTML = docLinkHtml;\n",
              "        element.appendChild(docLink);\n",
              "      }\n",
              "    </script>\n",
              "  </div>\n",
              "\n",
              "\n",
              "<div id=\"df-13438ed6-63d6-4ab3-a1f0-6713779ab05b\">\n",
              "  <button class=\"colab-df-quickchart\" onclick=\"quickchart('df-13438ed6-63d6-4ab3-a1f0-6713779ab05b')\"\n",
              "            title=\"Suggest charts\"\n",
              "            style=\"display:none;\">\n",
              "\n",
              "<svg xmlns=\"http://www.w3.org/2000/svg\" height=\"24px\"viewBox=\"0 0 24 24\"\n",
              "     width=\"24px\">\n",
              "    <g>\n",
              "        <path d=\"M19 3H5c-1.1 0-2 .9-2 2v14c0 1.1.9 2 2 2h14c1.1 0 2-.9 2-2V5c0-1.1-.9-2-2-2zM9 17H7v-7h2v7zm4 0h-2V7h2v10zm4 0h-2v-4h2v4z\"/>\n",
              "    </g>\n",
              "</svg>\n",
              "  </button>\n",
              "\n",
              "<style>\n",
              "  .colab-df-quickchart {\n",
              "      --bg-color: #E8F0FE;\n",
              "      --fill-color: #1967D2;\n",
              "      --hover-bg-color: #E2EBFA;\n",
              "      --hover-fill-color: #174EA6;\n",
              "      --disabled-fill-color: #AAA;\n",
              "      --disabled-bg-color: #DDD;\n",
              "  }\n",
              "\n",
              "  [theme=dark] .colab-df-quickchart {\n",
              "      --bg-color: #3B4455;\n",
              "      --fill-color: #D2E3FC;\n",
              "      --hover-bg-color: #434B5C;\n",
              "      --hover-fill-color: #FFFFFF;\n",
              "      --disabled-bg-color: #3B4455;\n",
              "      --disabled-fill-color: #666;\n",
              "  }\n",
              "\n",
              "  .colab-df-quickchart {\n",
              "    background-color: var(--bg-color);\n",
              "    border: none;\n",
              "    border-radius: 50%;\n",
              "    cursor: pointer;\n",
              "    display: none;\n",
              "    fill: var(--fill-color);\n",
              "    height: 32px;\n",
              "    padding: 0;\n",
              "    width: 32px;\n",
              "  }\n",
              "\n",
              "  .colab-df-quickchart:hover {\n",
              "    background-color: var(--hover-bg-color);\n",
              "    box-shadow: 0 1px 2px rgba(60, 64, 67, 0.3), 0 1px 3px 1px rgba(60, 64, 67, 0.15);\n",
              "    fill: var(--button-hover-fill-color);\n",
              "  }\n",
              "\n",
              "  .colab-df-quickchart-complete:disabled,\n",
              "  .colab-df-quickchart-complete:disabled:hover {\n",
              "    background-color: var(--disabled-bg-color);\n",
              "    fill: var(--disabled-fill-color);\n",
              "    box-shadow: none;\n",
              "  }\n",
              "\n",
              "  .colab-df-spinner {\n",
              "    border: 2px solid var(--fill-color);\n",
              "    border-color: transparent;\n",
              "    border-bottom-color: var(--fill-color);\n",
              "    animation:\n",
              "      spin 1s steps(1) infinite;\n",
              "  }\n",
              "\n",
              "  @keyframes spin {\n",
              "    0% {\n",
              "      border-color: transparent;\n",
              "      border-bottom-color: var(--fill-color);\n",
              "      border-left-color: var(--fill-color);\n",
              "    }\n",
              "    20% {\n",
              "      border-color: transparent;\n",
              "      border-left-color: var(--fill-color);\n",
              "      border-top-color: var(--fill-color);\n",
              "    }\n",
              "    30% {\n",
              "      border-color: transparent;\n",
              "      border-left-color: var(--fill-color);\n",
              "      border-top-color: var(--fill-color);\n",
              "      border-right-color: var(--fill-color);\n",
              "    }\n",
              "    40% {\n",
              "      border-color: transparent;\n",
              "      border-right-color: var(--fill-color);\n",
              "      border-top-color: var(--fill-color);\n",
              "    }\n",
              "    60% {\n",
              "      border-color: transparent;\n",
              "      border-right-color: var(--fill-color);\n",
              "    }\n",
              "    80% {\n",
              "      border-color: transparent;\n",
              "      border-right-color: var(--fill-color);\n",
              "      border-bottom-color: var(--fill-color);\n",
              "    }\n",
              "    90% {\n",
              "      border-color: transparent;\n",
              "      border-bottom-color: var(--fill-color);\n",
              "    }\n",
              "  }\n",
              "</style>\n",
              "\n",
              "  <script>\n",
              "    async function quickchart(key) {\n",
              "      const quickchartButtonEl =\n",
              "        document.querySelector('#' + key + ' button');\n",
              "      quickchartButtonEl.disabled = true;  // To prevent multiple clicks.\n",
              "      quickchartButtonEl.classList.add('colab-df-spinner');\n",
              "      try {\n",
              "        const charts = await google.colab.kernel.invokeFunction(\n",
              "            'suggestCharts', [key], {});\n",
              "      } catch (error) {\n",
              "        console.error('Error during call to suggestCharts:', error);\n",
              "      }\n",
              "      quickchartButtonEl.classList.remove('colab-df-spinner');\n",
              "      quickchartButtonEl.classList.add('colab-df-quickchart-complete');\n",
              "    }\n",
              "    (() => {\n",
              "      let quickchartButtonEl =\n",
              "        document.querySelector('#df-13438ed6-63d6-4ab3-a1f0-6713779ab05b button');\n",
              "      quickchartButtonEl.style.display =\n",
              "        google.colab.kernel.accessAllowed ? 'block' : 'none';\n",
              "    })();\n",
              "  </script>\n",
              "</div>\n",
              "    </div>\n",
              "  </div>\n"
            ],
            "text/plain": [
              "      id             model_a     model_b  \\\n",
              "0  30192  gpt-4-1106-preview  gpt-4-0613   \n",
              "1  53567           koala-13b  gpt-4-0613   \n",
              "\n",
              "                                              prompt  \\\n",
              "0  Is it morally right to try to have a certain p...   \n",
              "1  What is the difference between marriage licens...   \n",
              "\n",
              "                                          response_a  \\\n",
              "0  The question of whether it is morally right to...   \n",
              "1  A marriage license is a legal document that al...   \n",
              "\n",
              "                                          response_b  winner_model_a  \\\n",
              "0  As an AI, I don't have personal beliefs or opi...               1   \n",
              "1  A marriage license and a marriage certificate ...               0   \n",
              "\n",
              "   winner_model_b  winner_tie      class_name  class_label  encode_fail  \\\n",
              "0               0           0  winner_model_a            0        False   \n",
              "1               1           0  winner_model_b            1        False   \n",
              "\n",
              "                                             options  \n",
              "0  [Prompt: Is it morally right to try to have a ...  \n",
              "1  [Prompt: What is the difference between marria...  "
            ]
          },
          "metadata": {},
          "output_type": "display_data"
        }
      ],
      "source": [
        "df = df.apply(make_pairs, axis=1)\n",
        "display(df.head(2))"
      ]
    },
    {
      "cell_type": "code",
      "execution_count": null,
      "metadata": {
        "colab": {
          "base_uri": "https://localhost:8080/"
        },
        "execution": {
          "iopub.execute_input": "2025-02-20T03:29:59.741980Z",
          "iopub.status.busy": "2025-02-20T03:29:59.741692Z",
          "iopub.status.idle": "2025-02-20T03:29:59.746796Z",
          "shell.execute_reply": "2025-02-20T03:29:59.746162Z",
          "shell.execute_reply.started": "2025-02-20T03:29:59.741958Z"
        },
        "id": "UwSnkzRRkqMB",
        "outputId": "98f2d193-2a27-4aa6-94a0-c95e62132141",
        "trusted": true
      },
      "outputs": [
        {
          "data": {
            "text/plain": [
              "[\"Prompt: What is the difference between marriage license and marriage certificate?\\n\\nResponse: A marriage license is a legal document that allows a couple to get married. It is issued by a government agency, such as a county clerk's office or a state government, and is valid for a certain period of time, usually one year. After the marriage has taken place, the couple must obtain a marriage certificate, which is a document that records the marriage and is used to prove that the marriage took place. The marriage certificate is usually issued by the same government agency that issued the marriage license, and it is typically used for legal purposes, such as to change a name on a driver's license or to prove that a couple is married when applying for government benefits.\",\n",
              " \"Prompt: What is the difference between marriage license and marriage certificate?\\n\\nResponse: A marriage license and a marriage certificate are two different legal documents that have separate purposes.\\n\\n1. Marriage License: A marriage license is a legal document that gives a couple permission to get married. It's usually obtained from local government or court officials before the wedding ceremony takes place. The couple is required to meet certain criteria, such as being of a certain age or not being closely related. Once the license is issued, there's often a waiting period before the marriage ceremony can take place. The marriage license has to be signed by the couple, their witnesses, and the officiant conducting the marriage ceremony, then returned to the license issuer for recording.\\n\\n2. Marriage Certificate: A marriage certificate, on the other hand, is a document that proves a marriage has legally taken place. It's issued after the marriage ceremony, once the signed marriage license has been returned and recorded. The marriage certificate includes details about the couple, like their names, the date and location of their wedding, and the names of their witnesses. This document serves as the official record of the marriage and is often needed for legal transactions like changing a name, adding a spouse to insurance, or proving marital status.\"]"
            ]
          },
          "execution_count": 26,
          "metadata": {},
          "output_type": "execute_result"
        }
      ],
      "source": [
        "df.options[1]"
      ]
    },
    {
      "cell_type": "code",
      "execution_count": null,
      "metadata": {
        "colab": {
          "base_uri": "https://localhost:8080/",
          "height": 147
        },
        "execution": {
          "iopub.execute_input": "2025-02-20T03:29:59.747708Z",
          "iopub.status.busy": "2025-02-20T03:29:59.747497Z",
          "iopub.status.idle": "2025-02-20T03:29:59.772481Z",
          "shell.execute_reply": "2025-02-20T03:29:59.771693Z",
          "shell.execute_reply.started": "2025-02-20T03:29:59.747680Z"
        },
        "id": "9eDiqf0qkqMB",
        "outputId": "79dfd426-e02e-436d-9ae0-e5da4388d151",
        "trusted": true
      },
      "outputs": [
        {
          "data": {
            "application/vnd.google.colaboratory.intrinsic+json": {
              "summary": "{\n  \"name\": \"display(test_df\",\n  \"rows\": 2,\n  \"fields\": [\n    {\n      \"column\": \"id\",\n      \"properties\": {\n        \"dtype\": \"number\",\n        \"std\": 53226,\n        \"min\": 136060,\n        \"max\": 211333,\n        \"num_unique_values\": 2,\n        \"samples\": [\n          211333,\n          136060\n        ],\n        \"semantic_type\": \"\",\n        \"description\": \"\"\n      }\n    },\n    {\n      \"column\": \"prompt\",\n      \"properties\": {\n        \"dtype\": \"string\",\n        \"num_unique_values\": 2,\n        \"samples\": [\n          \"You are a mediator in a heated political debate between two opposing parties. Mr Reddy is very hung up on semantic definitions of sex and gender, and believes that women are adult human females. Meanwhile Ms Blue is extremely fluid with definitions and does not care about truth. He (Ms blue uses he\\\\/him pronouns) insists that anybody can be any gender, gametes don't mean anything, and that men can get pregnant. You, Mr Goddy are tasked with helping them both find a middle ground.\",\n          \"I have three oranges today, I ate an orange yesterday. How many oranges do I have?\"\n        ],\n        \"semantic_type\": \"\",\n        \"description\": \"\"\n      }\n    },\n    {\n      \"column\": \"response_a\",\n      \"properties\": {\n        \"dtype\": \"string\",\n        \"num_unique_values\": 2,\n        \"samples\": [\n          \"Thank you for sharing the details of the situation. As a mediator, I understand the importance of finding a middle ground that both parties can agree upon.\\n\\nIt is important to recognize that language and definitions can be complex and can vary depending on cultural and societal norms. At the same time, it is also important to acknowledge the biological differences between males and females.\\n\\nOne possible approach to finding a middle ground could be to focus on respecting individuals' self-identification and autonomy while also acknowledging the biological differences between males and females. This could involve using inclusive language that reflects individuals' gender identities while also recognizing the importance of biological sex in certain contexts, such as medical treatment and reproductive health.\\n\\nIt may also be helpful to explore ways to create a more inclusive society where individuals of all gender identities are valued and respected. This could involve promoting education and awareness about gender diversity and creating policies and practices that support individuals' gender identities and expression.\\n\\nUltimately, the goal of mediation is to find a solution that meets the needs and concerns of both parties. By focusing on mutual respect, open communication, and a willingness to find common ground, it is possible to reach a resolution that allows both parties to move forward in a positive and productive way.\",\n          \"You have two oranges today.\"\n        ],\n        \"semantic_type\": \"\",\n        \"description\": \"\"\n      }\n    },\n    {\n      \"column\": \"response_b\",\n      \"properties\": {\n        \"dtype\": \"string\",\n        \"num_unique_values\": 2,\n        \"samples\": [\n          \"Mr Reddy and Ms Blue both have valid points in their arguments. On one hand, Mr Reddy is correct that women are adult human females, as defined by their biological and physical characteristics. However, Ms Blue is right that gender is a more fluid concept and that people can identify with any gender they choose. A compromise could be that gender is defined by an individual's self-identification, while sex is defined by their biological characteristics.\",\n          \"You still have three oranges. Eating an orange yesterday does not affect the number of oranges you have today.\"\n        ],\n        \"semantic_type\": \"\",\n        \"description\": \"\"\n      }\n    },\n    {\n      \"column\": \"encode_fail\",\n      \"properties\": {\n        \"dtype\": \"boolean\",\n        \"num_unique_values\": 1,\n        \"samples\": [\n          false\n        ],\n        \"semantic_type\": \"\",\n        \"description\": \"\"\n      }\n    },\n    {\n      \"column\": \"options\",\n      \"properties\": {\n        \"dtype\": \"object\",\n        \"semantic_type\": \"\",\n        \"description\": \"\"\n      }\n    }\n  ]\n}",
              "type": "dataframe"
            },
            "text/html": [
              "\n",
              "  <div id=\"df-65fb73e2-1f3d-4d82-a89a-8f7fdcf3beaa\" class=\"colab-df-container\">\n",
              "    <div>\n",
              "<style scoped>\n",
              "    .dataframe tbody tr th:only-of-type {\n",
              "        vertical-align: middle;\n",
              "    }\n",
              "\n",
              "    .dataframe tbody tr th {\n",
              "        vertical-align: top;\n",
              "    }\n",
              "\n",
              "    .dataframe thead th {\n",
              "        text-align: right;\n",
              "    }\n",
              "</style>\n",
              "<table border=\"1\" class=\"dataframe\">\n",
              "  <thead>\n",
              "    <tr style=\"text-align: right;\">\n",
              "      <th></th>\n",
              "      <th>id</th>\n",
              "      <th>prompt</th>\n",
              "      <th>response_a</th>\n",
              "      <th>response_b</th>\n",
              "      <th>encode_fail</th>\n",
              "      <th>options</th>\n",
              "    </tr>\n",
              "  </thead>\n",
              "  <tbody>\n",
              "    <tr>\n",
              "      <th>0</th>\n",
              "      <td>136060</td>\n",
              "      <td>I have three oranges today, I ate an orange ye...</td>\n",
              "      <td>You have two oranges today.</td>\n",
              "      <td>You still have three oranges. Eating an orange...</td>\n",
              "      <td>False</td>\n",
              "      <td>[Prompt: I have three oranges today, I ate an ...</td>\n",
              "    </tr>\n",
              "    <tr>\n",
              "      <th>1</th>\n",
              "      <td>211333</td>\n",
              "      <td>You are a mediator in a heated political debat...</td>\n",
              "      <td>Thank you for sharing the details of the situa...</td>\n",
              "      <td>Mr Reddy and Ms Blue both have valid points in...</td>\n",
              "      <td>False</td>\n",
              "      <td>[Prompt: You are a mediator in a heated politi...</td>\n",
              "    </tr>\n",
              "  </tbody>\n",
              "</table>\n",
              "</div>\n",
              "    <div class=\"colab-df-buttons\">\n",
              "\n",
              "  <div class=\"colab-df-container\">\n",
              "    <button class=\"colab-df-convert\" onclick=\"convertToInteractive('df-65fb73e2-1f3d-4d82-a89a-8f7fdcf3beaa')\"\n",
              "            title=\"Convert this dataframe to an interactive table.\"\n",
              "            style=\"display:none;\">\n",
              "\n",
              "  <svg xmlns=\"http://www.w3.org/2000/svg\" height=\"24px\" viewBox=\"0 -960 960 960\">\n",
              "    <path d=\"M120-120v-720h720v720H120Zm60-500h600v-160H180v160Zm220 220h160v-160H400v160Zm0 220h160v-160H400v160ZM180-400h160v-160H180v160Zm440 0h160v-160H620v160ZM180-180h160v-160H180v160Zm440 0h160v-160H620v160Z\"/>\n",
              "  </svg>\n",
              "    </button>\n",
              "\n",
              "  <style>\n",
              "    .colab-df-container {\n",
              "      display:flex;\n",
              "      gap: 12px;\n",
              "    }\n",
              "\n",
              "    .colab-df-convert {\n",
              "      background-color: #E8F0FE;\n",
              "      border: none;\n",
              "      border-radius: 50%;\n",
              "      cursor: pointer;\n",
              "      display: none;\n",
              "      fill: #1967D2;\n",
              "      height: 32px;\n",
              "      padding: 0 0 0 0;\n",
              "      width: 32px;\n",
              "    }\n",
              "\n",
              "    .colab-df-convert:hover {\n",
              "      background-color: #E2EBFA;\n",
              "      box-shadow: 0px 1px 2px rgba(60, 64, 67, 0.3), 0px 1px 3px 1px rgba(60, 64, 67, 0.15);\n",
              "      fill: #174EA6;\n",
              "    }\n",
              "\n",
              "    .colab-df-buttons div {\n",
              "      margin-bottom: 4px;\n",
              "    }\n",
              "\n",
              "    [theme=dark] .colab-df-convert {\n",
              "      background-color: #3B4455;\n",
              "      fill: #D2E3FC;\n",
              "    }\n",
              "\n",
              "    [theme=dark] .colab-df-convert:hover {\n",
              "      background-color: #434B5C;\n",
              "      box-shadow: 0px 1px 3px 1px rgba(0, 0, 0, 0.15);\n",
              "      filter: drop-shadow(0px 1px 2px rgba(0, 0, 0, 0.3));\n",
              "      fill: #FFFFFF;\n",
              "    }\n",
              "  </style>\n",
              "\n",
              "    <script>\n",
              "      const buttonEl =\n",
              "        document.querySelector('#df-65fb73e2-1f3d-4d82-a89a-8f7fdcf3beaa button.colab-df-convert');\n",
              "      buttonEl.style.display =\n",
              "        google.colab.kernel.accessAllowed ? 'block' : 'none';\n",
              "\n",
              "      async function convertToInteractive(key) {\n",
              "        const element = document.querySelector('#df-65fb73e2-1f3d-4d82-a89a-8f7fdcf3beaa');\n",
              "        const dataTable =\n",
              "          await google.colab.kernel.invokeFunction('convertToInteractive',\n",
              "                                                    [key], {});\n",
              "        if (!dataTable) return;\n",
              "\n",
              "        const docLinkHtml = 'Like what you see? Visit the ' +\n",
              "          '<a target=\"_blank\" href=https://colab.research.google.com/notebooks/data_table.ipynb>data table notebook</a>'\n",
              "          + ' to learn more about interactive tables.';\n",
              "        element.innerHTML = '';\n",
              "        dataTable['output_type'] = 'display_data';\n",
              "        await google.colab.output.renderOutput(dataTable, element);\n",
              "        const docLink = document.createElement('div');\n",
              "        docLink.innerHTML = docLinkHtml;\n",
              "        element.appendChild(docLink);\n",
              "      }\n",
              "    </script>\n",
              "  </div>\n",
              "\n",
              "\n",
              "<div id=\"df-9f10b966-e851-4f70-b992-fd5b1d024b2d\">\n",
              "  <button class=\"colab-df-quickchart\" onclick=\"quickchart('df-9f10b966-e851-4f70-b992-fd5b1d024b2d')\"\n",
              "            title=\"Suggest charts\"\n",
              "            style=\"display:none;\">\n",
              "\n",
              "<svg xmlns=\"http://www.w3.org/2000/svg\" height=\"24px\"viewBox=\"0 0 24 24\"\n",
              "     width=\"24px\">\n",
              "    <g>\n",
              "        <path d=\"M19 3H5c-1.1 0-2 .9-2 2v14c0 1.1.9 2 2 2h14c1.1 0 2-.9 2-2V5c0-1.1-.9-2-2-2zM9 17H7v-7h2v7zm4 0h-2V7h2v10zm4 0h-2v-4h2v4z\"/>\n",
              "    </g>\n",
              "</svg>\n",
              "  </button>\n",
              "\n",
              "<style>\n",
              "  .colab-df-quickchart {\n",
              "      --bg-color: #E8F0FE;\n",
              "      --fill-color: #1967D2;\n",
              "      --hover-bg-color: #E2EBFA;\n",
              "      --hover-fill-color: #174EA6;\n",
              "      --disabled-fill-color: #AAA;\n",
              "      --disabled-bg-color: #DDD;\n",
              "  }\n",
              "\n",
              "  [theme=dark] .colab-df-quickchart {\n",
              "      --bg-color: #3B4455;\n",
              "      --fill-color: #D2E3FC;\n",
              "      --hover-bg-color: #434B5C;\n",
              "      --hover-fill-color: #FFFFFF;\n",
              "      --disabled-bg-color: #3B4455;\n",
              "      --disabled-fill-color: #666;\n",
              "  }\n",
              "\n",
              "  .colab-df-quickchart {\n",
              "    background-color: var(--bg-color);\n",
              "    border: none;\n",
              "    border-radius: 50%;\n",
              "    cursor: pointer;\n",
              "    display: none;\n",
              "    fill: var(--fill-color);\n",
              "    height: 32px;\n",
              "    padding: 0;\n",
              "    width: 32px;\n",
              "  }\n",
              "\n",
              "  .colab-df-quickchart:hover {\n",
              "    background-color: var(--hover-bg-color);\n",
              "    box-shadow: 0 1px 2px rgba(60, 64, 67, 0.3), 0 1px 3px 1px rgba(60, 64, 67, 0.15);\n",
              "    fill: var(--button-hover-fill-color);\n",
              "  }\n",
              "\n",
              "  .colab-df-quickchart-complete:disabled,\n",
              "  .colab-df-quickchart-complete:disabled:hover {\n",
              "    background-color: var(--disabled-bg-color);\n",
              "    fill: var(--disabled-fill-color);\n",
              "    box-shadow: none;\n",
              "  }\n",
              "\n",
              "  .colab-df-spinner {\n",
              "    border: 2px solid var(--fill-color);\n",
              "    border-color: transparent;\n",
              "    border-bottom-color: var(--fill-color);\n",
              "    animation:\n",
              "      spin 1s steps(1) infinite;\n",
              "  }\n",
              "\n",
              "  @keyframes spin {\n",
              "    0% {\n",
              "      border-color: transparent;\n",
              "      border-bottom-color: var(--fill-color);\n",
              "      border-left-color: var(--fill-color);\n",
              "    }\n",
              "    20% {\n",
              "      border-color: transparent;\n",
              "      border-left-color: var(--fill-color);\n",
              "      border-top-color: var(--fill-color);\n",
              "    }\n",
              "    30% {\n",
              "      border-color: transparent;\n",
              "      border-left-color: var(--fill-color);\n",
              "      border-top-color: var(--fill-color);\n",
              "      border-right-color: var(--fill-color);\n",
              "    }\n",
              "    40% {\n",
              "      border-color: transparent;\n",
              "      border-right-color: var(--fill-color);\n",
              "      border-top-color: var(--fill-color);\n",
              "    }\n",
              "    60% {\n",
              "      border-color: transparent;\n",
              "      border-right-color: var(--fill-color);\n",
              "    }\n",
              "    80% {\n",
              "      border-color: transparent;\n",
              "      border-right-color: var(--fill-color);\n",
              "      border-bottom-color: var(--fill-color);\n",
              "    }\n",
              "    90% {\n",
              "      border-color: transparent;\n",
              "      border-bottom-color: var(--fill-color);\n",
              "    }\n",
              "  }\n",
              "</style>\n",
              "\n",
              "  <script>\n",
              "    async function quickchart(key) {\n",
              "      const quickchartButtonEl =\n",
              "        document.querySelector('#' + key + ' button');\n",
              "      quickchartButtonEl.disabled = true;  // To prevent multiple clicks.\n",
              "      quickchartButtonEl.classList.add('colab-df-spinner');\n",
              "      try {\n",
              "        const charts = await google.colab.kernel.invokeFunction(\n",
              "            'suggestCharts', [key], {});\n",
              "      } catch (error) {\n",
              "        console.error('Error during call to suggestCharts:', error);\n",
              "      }\n",
              "      quickchartButtonEl.classList.remove('colab-df-spinner');\n",
              "      quickchartButtonEl.classList.add('colab-df-quickchart-complete');\n",
              "    }\n",
              "    (() => {\n",
              "      let quickchartButtonEl =\n",
              "        document.querySelector('#df-9f10b966-e851-4f70-b992-fd5b1d024b2d button');\n",
              "      quickchartButtonEl.style.display =\n",
              "        google.colab.kernel.accessAllowed ? 'block' : 'none';\n",
              "    })();\n",
              "  </script>\n",
              "</div>\n",
              "    </div>\n",
              "  </div>\n"
            ],
            "text/plain": [
              "       id                                             prompt  \\\n",
              "0  136060  I have three oranges today, I ate an orange ye...   \n",
              "1  211333  You are a mediator in a heated political debat...   \n",
              "\n",
              "                                          response_a  \\\n",
              "0                        You have two oranges today.   \n",
              "1  Thank you for sharing the details of the situa...   \n",
              "\n",
              "                                          response_b  encode_fail  \\\n",
              "0  You still have three oranges. Eating an orange...        False   \n",
              "1  Mr Reddy and Ms Blue both have valid points in...        False   \n",
              "\n",
              "                                             options  \n",
              "0  [Prompt: I have three oranges today, I ate an ...  \n",
              "1  [Prompt: You are a mediator in a heated politi...  "
            ]
          },
          "metadata": {},
          "output_type": "display_data"
        }
      ],
      "source": [
        "test_df = test_df.apply(make_pairs, axis=1)\n",
        "display(test_df.head(2))"
      ]
    },
    {
      "cell_type": "code",
      "execution_count": null,
      "metadata": {
        "colab": {
          "base_uri": "https://localhost:8080/"
        },
        "execution": {
          "iopub.execute_input": "2025-02-20T03:29:59.773498Z",
          "iopub.status.busy": "2025-02-20T03:29:59.773249Z",
          "iopub.status.idle": "2025-02-20T03:29:59.789838Z",
          "shell.execute_reply": "2025-02-20T03:29:59.789224Z",
          "shell.execute_reply.started": "2025-02-20T03:29:59.773480Z"
        },
        "id": "6O2SOUGqkqMC",
        "outputId": "6f0d8190-0164-4402-df0e-a127bedc96bd",
        "trusted": true
      },
      "outputs": [
        {
          "data": {
            "text/plain": [
              "['Prompt: I have three oranges today, I ate an orange yesterday. How many oranges do I have?\\n\\nResponse: You have two oranges today.',\n",
              " 'Prompt: I have three oranges today, I ate an orange yesterday. How many oranges do I have?\\n\\nResponse: You still have three oranges. Eating an orange yesterday does not affect the number of oranges you have today.']"
            ]
          },
          "execution_count": 28,
          "metadata": {},
          "output_type": "execute_result"
        }
      ],
      "source": [
        "test_df.options[0]"
      ]
    },
    {
      "cell_type": "markdown",
      "metadata": {
        "id": "czhWYHGjkqMD"
      },
      "source": [
        "## Encoding fail statistics"
      ]
    },
    {
      "cell_type": "code",
      "execution_count": null,
      "metadata": {
        "colab": {
          "base_uri": "https://localhost:8080/",
          "height": 178
        },
        "execution": {
          "iopub.execute_input": "2025-02-20T03:29:59.790763Z",
          "iopub.status.busy": "2025-02-20T03:29:59.790498Z",
          "iopub.status.idle": "2025-02-20T03:29:59.810881Z",
          "shell.execute_reply": "2025-02-20T03:29:59.810275Z",
          "shell.execute_reply.started": "2025-02-20T03:29:59.790739Z"
        },
        "id": "3rnDQAMkkqMD",
        "outputId": "2e85e154-e942-4ff5-b4e7-664a097bb0f0",
        "trusted": true
      },
      "outputs": [
        {
          "data": {
            "text/html": [
              "<div>\n",
              "<style scoped>\n",
              "    .dataframe tbody tr th:only-of-type {\n",
              "        vertical-align: middle;\n",
              "    }\n",
              "\n",
              "    .dataframe tbody tr th {\n",
              "        vertical-align: top;\n",
              "    }\n",
              "\n",
              "    .dataframe thead th {\n",
              "        text-align: right;\n",
              "    }\n",
              "</style>\n",
              "<table border=\"1\" class=\"dataframe\">\n",
              "  <thead>\n",
              "    <tr style=\"text-align: right;\">\n",
              "      <th></th>\n",
              "      <th>count</th>\n",
              "    </tr>\n",
              "    <tr>\n",
              "      <th>encode_fail</th>\n",
              "      <th></th>\n",
              "    </tr>\n",
              "  </thead>\n",
              "  <tbody>\n",
              "    <tr>\n",
              "      <th>False</th>\n",
              "      <td>56885</td>\n",
              "    </tr>\n",
              "    <tr>\n",
              "      <th>True</th>\n",
              "      <td>592</td>\n",
              "    </tr>\n",
              "  </tbody>\n",
              "</table>\n",
              "</div><br><label><b>dtype:</b> int64</label>"
            ],
            "text/plain": [
              "encode_fail\n",
              "False    56885\n",
              "True       592\n",
              "Name: count, dtype: int64"
            ]
          },
          "execution_count": 29,
          "metadata": {},
          "output_type": "execute_result"
        }
      ],
      "source": [
        "df.encode_fail.value_counts(normalize=False)"
      ]
    },
    {
      "cell_type": "markdown",
      "metadata": {
        "id": "sDEMujbbkqMD"
      },
      "source": [
        "normalize=False（默认值）表示 返回绝对计数（即每个值出现的具体次数，而不是比例）。"
      ]
    },
    {
      "cell_type": "code",
      "execution_count": null,
      "metadata": {
        "colab": {
          "base_uri": "https://localhost:8080/",
          "height": 178
        },
        "execution": {
          "iopub.execute_input": "2025-02-20T03:29:59.812016Z",
          "iopub.status.busy": "2025-02-20T03:29:59.811765Z",
          "iopub.status.idle": "2025-02-20T03:29:59.827471Z",
          "shell.execute_reply": "2025-02-20T03:29:59.826720Z",
          "shell.execute_reply.started": "2025-02-20T03:29:59.811986Z"
        },
        "id": "Us0KvvqYkqME",
        "outputId": "9a428059-a93d-48ab-b97b-6b7e95dd6650",
        "trusted": true
      },
      "outputs": [
        {
          "data": {
            "text/html": [
              "<div>\n",
              "<style scoped>\n",
              "    .dataframe tbody tr th:only-of-type {\n",
              "        vertical-align: middle;\n",
              "    }\n",
              "\n",
              "    .dataframe tbody tr th {\n",
              "        vertical-align: top;\n",
              "    }\n",
              "\n",
              "    .dataframe thead th {\n",
              "        text-align: right;\n",
              "    }\n",
              "</style>\n",
              "<table border=\"1\" class=\"dataframe\">\n",
              "  <thead>\n",
              "    <tr style=\"text-align: right;\">\n",
              "      <th></th>\n",
              "      <th>proportion</th>\n",
              "    </tr>\n",
              "    <tr>\n",
              "      <th>encode_fail</th>\n",
              "      <th></th>\n",
              "    </tr>\n",
              "  </thead>\n",
              "  <tbody>\n",
              "    <tr>\n",
              "      <th>False</th>\n",
              "      <td>0.9897</td>\n",
              "    </tr>\n",
              "    <tr>\n",
              "      <th>True</th>\n",
              "      <td>0.0103</td>\n",
              "    </tr>\n",
              "  </tbody>\n",
              "</table>\n",
              "</div><br><label><b>dtype:</b> float64</label>"
            ],
            "text/plain": [
              "encode_fail\n",
              "False    0.9897\n",
              "True     0.0103\n",
              "Name: proportion, dtype: float64"
            ]
          },
          "execution_count": 30,
          "metadata": {},
          "output_type": "execute_result"
        }
      ],
      "source": [
        "df.encode_fail.value_counts(normalize=True)"
      ]
    },
    {
      "cell_type": "markdown",
      "metadata": {
        "id": "PHND-8h6kqME"
      },
      "source": [
        "Only 1% of the samples failed to be encoded. Considering empty string for this small portion of the data will not have mush impact on our training and inference."
      ]
    },
    {
      "cell_type": "markdown",
      "metadata": {
        "id": "sbWSMgGDkqMF"
      },
      "source": [
        "# EDA"
      ]
    },
    {
      "cell_type": "code",
      "execution_count": null,
      "metadata": {
        "colab": {
          "base_uri": "https://localhost:8080/",
          "height": 458
        },
        "execution": {
          "iopub.execute_input": "2025-02-20T03:29:59.828524Z",
          "iopub.status.busy": "2025-02-20T03:29:59.828263Z",
          "iopub.status.idle": "2025-02-20T03:29:59.845625Z",
          "shell.execute_reply": "2025-02-20T03:29:59.844978Z",
          "shell.execute_reply.started": "2025-02-20T03:29:59.828498Z"
        },
        "id": "qkf9GBe8kqMF",
        "outputId": "62cef4c2-c466-46a7-90cd-8828097e59ad",
        "trusted": true
      },
      "outputs": [
        {
          "data": {
            "text/html": [
              "<div>\n",
              "<style scoped>\n",
              "    .dataframe tbody tr th:only-of-type {\n",
              "        vertical-align: middle;\n",
              "    }\n",
              "\n",
              "    .dataframe tbody tr th {\n",
              "        vertical-align: top;\n",
              "    }\n",
              "\n",
              "    .dataframe thead th {\n",
              "        text-align: right;\n",
              "    }\n",
              "</style>\n",
              "<table border=\"1\" class=\"dataframe\">\n",
              "  <thead>\n",
              "    <tr style=\"text-align: right;\">\n",
              "      <th></th>\n",
              "      <th>0</th>\n",
              "    </tr>\n",
              "  </thead>\n",
              "  <tbody>\n",
              "    <tr>\n",
              "      <th>0</th>\n",
              "      <td>gpt-4-1106-preview</td>\n",
              "    </tr>\n",
              "    <tr>\n",
              "      <th>1</th>\n",
              "      <td>koala-13b</td>\n",
              "    </tr>\n",
              "    <tr>\n",
              "      <th>2</th>\n",
              "      <td>gpt-3.5-turbo-0613</td>\n",
              "    </tr>\n",
              "    <tr>\n",
              "      <th>3</th>\n",
              "      <td>llama-2-13b-chat</td>\n",
              "    </tr>\n",
              "    <tr>\n",
              "      <th>4</th>\n",
              "      <td>koala-13b</td>\n",
              "    </tr>\n",
              "    <tr>\n",
              "      <th>...</th>\n",
              "      <td>...</td>\n",
              "    </tr>\n",
              "    <tr>\n",
              "      <th>57472</th>\n",
              "      <td>claude-1</td>\n",
              "    </tr>\n",
              "    <tr>\n",
              "      <th>57473</th>\n",
              "      <td>llama-2-13b-chat</td>\n",
              "    </tr>\n",
              "    <tr>\n",
              "      <th>57474</th>\n",
              "      <td>alpaca-13b</td>\n",
              "    </tr>\n",
              "    <tr>\n",
              "      <th>57475</th>\n",
              "      <td>tulu-2-dpo-70b</td>\n",
              "    </tr>\n",
              "    <tr>\n",
              "      <th>57476</th>\n",
              "      <td>gpt-4-1106-preview</td>\n",
              "    </tr>\n",
              "  </tbody>\n",
              "</table>\n",
              "<p>114954 rows × 1 columns</p>\n",
              "</div><br><label><b>dtype:</b> object</label>"
            ],
            "text/plain": [
              "0        gpt-4-1106-preview\n",
              "1                 koala-13b\n",
              "2        gpt-3.5-turbo-0613\n",
              "3          llama-2-13b-chat\n",
              "4                 koala-13b\n",
              "                ...        \n",
              "57472              claude-1\n",
              "57473      llama-2-13b-chat\n",
              "57474            alpaca-13b\n",
              "57475        tulu-2-dpo-70b\n",
              "57476    gpt-4-1106-preview\n",
              "Length: 114954, dtype: object"
            ]
          },
          "execution_count": 31,
          "metadata": {},
          "output_type": "execute_result"
        }
      ],
      "source": [
        "model_df = pd.concat([df.model_a, df.model_b])\n",
        "model_df"
      ]
    },
    {
      "cell_type": "code",
      "execution_count": null,
      "metadata": {
        "colab": {
          "base_uri": "https://localhost:8080/",
          "height": 424
        },
        "execution": {
          "iopub.execute_input": "2025-02-20T03:29:59.846670Z",
          "iopub.status.busy": "2025-02-20T03:29:59.846443Z",
          "iopub.status.idle": "2025-02-20T03:29:59.872034Z",
          "shell.execute_reply": "2025-02-20T03:29:59.871367Z",
          "shell.execute_reply.started": "2025-02-20T03:29:59.846651Z"
        },
        "id": "qfS16MM0kqMZ",
        "outputId": "311d4bdd-358f-46dc-9921-169253eb5453",
        "trusted": true
      },
      "outputs": [
        {
          "data": {
            "application/vnd.google.colaboratory.intrinsic+json": {
              "summary": "{\n  \"name\": \"counts\",\n  \"rows\": 64,\n  \"fields\": [\n    {\n      \"column\": \"index\",\n      \"properties\": {\n        \"dtype\": \"string\",\n        \"num_unique_values\": 64,\n        \"samples\": [\n          \"chatglm2-6b\",\n          \"nous-hermes-2-mixtral-8x7b-dpo\",\n          \"gpt-4-1106-preview\"\n        ],\n        \"semantic_type\": \"\",\n        \"description\": \"\"\n      }\n    },\n    {\n      \"column\": \"count\",\n      \"properties\": {\n        \"dtype\": \"number\",\n        \"std\": 1633,\n        \"min\": 100,\n        \"max\": 7387,\n        \"num_unique_values\": 64,\n        \"samples\": [\n          564,\n          325,\n          7387\n        ],\n        \"semantic_type\": \"\",\n        \"description\": \"\"\n      }\n    }\n  ]\n}",
              "type": "dataframe",
              "variable_name": "counts"
            },
            "text/html": [
              "\n",
              "  <div id=\"df-9cb85cbd-32a4-49b2-b444-50ee78740e51\" class=\"colab-df-container\">\n",
              "    <div>\n",
              "<style scoped>\n",
              "    .dataframe tbody tr th:only-of-type {\n",
              "        vertical-align: middle;\n",
              "    }\n",
              "\n",
              "    .dataframe tbody tr th {\n",
              "        vertical-align: top;\n",
              "    }\n",
              "\n",
              "    .dataframe thead th {\n",
              "        text-align: right;\n",
              "    }\n",
              "</style>\n",
              "<table border=\"1\" class=\"dataframe\">\n",
              "  <thead>\n",
              "    <tr style=\"text-align: right;\">\n",
              "      <th></th>\n",
              "      <th>index</th>\n",
              "      <th>count</th>\n",
              "    </tr>\n",
              "  </thead>\n",
              "  <tbody>\n",
              "    <tr>\n",
              "      <th>0</th>\n",
              "      <td>gpt-4-1106-preview</td>\n",
              "      <td>7387</td>\n",
              "    </tr>\n",
              "    <tr>\n",
              "      <th>1</th>\n",
              "      <td>gpt-3.5-turbo-0613</td>\n",
              "      <td>7083</td>\n",
              "    </tr>\n",
              "    <tr>\n",
              "      <th>2</th>\n",
              "      <td>gpt-4-0613</td>\n",
              "      <td>6165</td>\n",
              "    </tr>\n",
              "    <tr>\n",
              "      <th>3</th>\n",
              "      <td>claude-2.1</td>\n",
              "      <td>5583</td>\n",
              "    </tr>\n",
              "    <tr>\n",
              "      <th>4</th>\n",
              "      <td>claude-instant-1</td>\n",
              "      <td>4136</td>\n",
              "    </tr>\n",
              "    <tr>\n",
              "      <th>...</th>\n",
              "      <td>...</td>\n",
              "      <td>...</td>\n",
              "    </tr>\n",
              "    <tr>\n",
              "      <th>59</th>\n",
              "      <td>falcon-180b-chat</td>\n",
              "      <td>286</td>\n",
              "    </tr>\n",
              "    <tr>\n",
              "      <th>60</th>\n",
              "      <td>openchat-3.5-0106</td>\n",
              "      <td>244</td>\n",
              "    </tr>\n",
              "    <tr>\n",
              "      <th>61</th>\n",
              "      <td>qwen1.5-7b-chat</td>\n",
              "      <td>208</td>\n",
              "    </tr>\n",
              "    <tr>\n",
              "      <th>62</th>\n",
              "      <td>qwen1.5-4b-chat</td>\n",
              "      <td>200</td>\n",
              "    </tr>\n",
              "    <tr>\n",
              "      <th>63</th>\n",
              "      <td>mistral-7b-instruct-v0.2</td>\n",
              "      <td>100</td>\n",
              "    </tr>\n",
              "  </tbody>\n",
              "</table>\n",
              "<p>64 rows × 2 columns</p>\n",
              "</div>\n",
              "    <div class=\"colab-df-buttons\">\n",
              "\n",
              "  <div class=\"colab-df-container\">\n",
              "    <button class=\"colab-df-convert\" onclick=\"convertToInteractive('df-9cb85cbd-32a4-49b2-b444-50ee78740e51')\"\n",
              "            title=\"Convert this dataframe to an interactive table.\"\n",
              "            style=\"display:none;\">\n",
              "\n",
              "  <svg xmlns=\"http://www.w3.org/2000/svg\" height=\"24px\" viewBox=\"0 -960 960 960\">\n",
              "    <path d=\"M120-120v-720h720v720H120Zm60-500h600v-160H180v160Zm220 220h160v-160H400v160Zm0 220h160v-160H400v160ZM180-400h160v-160H180v160Zm440 0h160v-160H620v160ZM180-180h160v-160H180v160Zm440 0h160v-160H620v160Z\"/>\n",
              "  </svg>\n",
              "    </button>\n",
              "\n",
              "  <style>\n",
              "    .colab-df-container {\n",
              "      display:flex;\n",
              "      gap: 12px;\n",
              "    }\n",
              "\n",
              "    .colab-df-convert {\n",
              "      background-color: #E8F0FE;\n",
              "      border: none;\n",
              "      border-radius: 50%;\n",
              "      cursor: pointer;\n",
              "      display: none;\n",
              "      fill: #1967D2;\n",
              "      height: 32px;\n",
              "      padding: 0 0 0 0;\n",
              "      width: 32px;\n",
              "    }\n",
              "\n",
              "    .colab-df-convert:hover {\n",
              "      background-color: #E2EBFA;\n",
              "      box-shadow: 0px 1px 2px rgba(60, 64, 67, 0.3), 0px 1px 3px 1px rgba(60, 64, 67, 0.15);\n",
              "      fill: #174EA6;\n",
              "    }\n",
              "\n",
              "    .colab-df-buttons div {\n",
              "      margin-bottom: 4px;\n",
              "    }\n",
              "\n",
              "    [theme=dark] .colab-df-convert {\n",
              "      background-color: #3B4455;\n",
              "      fill: #D2E3FC;\n",
              "    }\n",
              "\n",
              "    [theme=dark] .colab-df-convert:hover {\n",
              "      background-color: #434B5C;\n",
              "      box-shadow: 0px 1px 3px 1px rgba(0, 0, 0, 0.15);\n",
              "      filter: drop-shadow(0px 1px 2px rgba(0, 0, 0, 0.3));\n",
              "      fill: #FFFFFF;\n",
              "    }\n",
              "  </style>\n",
              "\n",
              "    <script>\n",
              "      const buttonEl =\n",
              "        document.querySelector('#df-9cb85cbd-32a4-49b2-b444-50ee78740e51 button.colab-df-convert');\n",
              "      buttonEl.style.display =\n",
              "        google.colab.kernel.accessAllowed ? 'block' : 'none';\n",
              "\n",
              "      async function convertToInteractive(key) {\n",
              "        const element = document.querySelector('#df-9cb85cbd-32a4-49b2-b444-50ee78740e51');\n",
              "        const dataTable =\n",
              "          await google.colab.kernel.invokeFunction('convertToInteractive',\n",
              "                                                    [key], {});\n",
              "        if (!dataTable) return;\n",
              "\n",
              "        const docLinkHtml = 'Like what you see? Visit the ' +\n",
              "          '<a target=\"_blank\" href=https://colab.research.google.com/notebooks/data_table.ipynb>data table notebook</a>'\n",
              "          + ' to learn more about interactive tables.';\n",
              "        element.innerHTML = '';\n",
              "        dataTable['output_type'] = 'display_data';\n",
              "        await google.colab.output.renderOutput(dataTable, element);\n",
              "        const docLink = document.createElement('div');\n",
              "        docLink.innerHTML = docLinkHtml;\n",
              "        element.appendChild(docLink);\n",
              "      }\n",
              "    </script>\n",
              "  </div>\n",
              "\n",
              "\n",
              "<div id=\"df-83bf5a7a-1953-45aa-8a02-d529916976f4\">\n",
              "  <button class=\"colab-df-quickchart\" onclick=\"quickchart('df-83bf5a7a-1953-45aa-8a02-d529916976f4')\"\n",
              "            title=\"Suggest charts\"\n",
              "            style=\"display:none;\">\n",
              "\n",
              "<svg xmlns=\"http://www.w3.org/2000/svg\" height=\"24px\"viewBox=\"0 0 24 24\"\n",
              "     width=\"24px\">\n",
              "    <g>\n",
              "        <path d=\"M19 3H5c-1.1 0-2 .9-2 2v14c0 1.1.9 2 2 2h14c1.1 0 2-.9 2-2V5c0-1.1-.9-2-2-2zM9 17H7v-7h2v7zm4 0h-2V7h2v10zm4 0h-2v-4h2v4z\"/>\n",
              "    </g>\n",
              "</svg>\n",
              "  </button>\n",
              "\n",
              "<style>\n",
              "  .colab-df-quickchart {\n",
              "      --bg-color: #E8F0FE;\n",
              "      --fill-color: #1967D2;\n",
              "      --hover-bg-color: #E2EBFA;\n",
              "      --hover-fill-color: #174EA6;\n",
              "      --disabled-fill-color: #AAA;\n",
              "      --disabled-bg-color: #DDD;\n",
              "  }\n",
              "\n",
              "  [theme=dark] .colab-df-quickchart {\n",
              "      --bg-color: #3B4455;\n",
              "      --fill-color: #D2E3FC;\n",
              "      --hover-bg-color: #434B5C;\n",
              "      --hover-fill-color: #FFFFFF;\n",
              "      --disabled-bg-color: #3B4455;\n",
              "      --disabled-fill-color: #666;\n",
              "  }\n",
              "\n",
              "  .colab-df-quickchart {\n",
              "    background-color: var(--bg-color);\n",
              "    border: none;\n",
              "    border-radius: 50%;\n",
              "    cursor: pointer;\n",
              "    display: none;\n",
              "    fill: var(--fill-color);\n",
              "    height: 32px;\n",
              "    padding: 0;\n",
              "    width: 32px;\n",
              "  }\n",
              "\n",
              "  .colab-df-quickchart:hover {\n",
              "    background-color: var(--hover-bg-color);\n",
              "    box-shadow: 0 1px 2px rgba(60, 64, 67, 0.3), 0 1px 3px 1px rgba(60, 64, 67, 0.15);\n",
              "    fill: var(--button-hover-fill-color);\n",
              "  }\n",
              "\n",
              "  .colab-df-quickchart-complete:disabled,\n",
              "  .colab-df-quickchart-complete:disabled:hover {\n",
              "    background-color: var(--disabled-bg-color);\n",
              "    fill: var(--disabled-fill-color);\n",
              "    box-shadow: none;\n",
              "  }\n",
              "\n",
              "  .colab-df-spinner {\n",
              "    border: 2px solid var(--fill-color);\n",
              "    border-color: transparent;\n",
              "    border-bottom-color: var(--fill-color);\n",
              "    animation:\n",
              "      spin 1s steps(1) infinite;\n",
              "  }\n",
              "\n",
              "  @keyframes spin {\n",
              "    0% {\n",
              "      border-color: transparent;\n",
              "      border-bottom-color: var(--fill-color);\n",
              "      border-left-color: var(--fill-color);\n",
              "    }\n",
              "    20% {\n",
              "      border-color: transparent;\n",
              "      border-left-color: var(--fill-color);\n",
              "      border-top-color: var(--fill-color);\n",
              "    }\n",
              "    30% {\n",
              "      border-color: transparent;\n",
              "      border-left-color: var(--fill-color);\n",
              "      border-top-color: var(--fill-color);\n",
              "      border-right-color: var(--fill-color);\n",
              "    }\n",
              "    40% {\n",
              "      border-color: transparent;\n",
              "      border-right-color: var(--fill-color);\n",
              "      border-top-color: var(--fill-color);\n",
              "    }\n",
              "    60% {\n",
              "      border-color: transparent;\n",
              "      border-right-color: var(--fill-color);\n",
              "    }\n",
              "    80% {\n",
              "      border-color: transparent;\n",
              "      border-right-color: var(--fill-color);\n",
              "      border-bottom-color: var(--fill-color);\n",
              "    }\n",
              "    90% {\n",
              "      border-color: transparent;\n",
              "      border-bottom-color: var(--fill-color);\n",
              "    }\n",
              "  }\n",
              "</style>\n",
              "\n",
              "  <script>\n",
              "    async function quickchart(key) {\n",
              "      const quickchartButtonEl =\n",
              "        document.querySelector('#' + key + ' button');\n",
              "      quickchartButtonEl.disabled = true;  // To prevent multiple clicks.\n",
              "      quickchartButtonEl.classList.add('colab-df-spinner');\n",
              "      try {\n",
              "        const charts = await google.colab.kernel.invokeFunction(\n",
              "            'suggestCharts', [key], {});\n",
              "      } catch (error) {\n",
              "        console.error('Error during call to suggestCharts:', error);\n",
              "      }\n",
              "      quickchartButtonEl.classList.remove('colab-df-spinner');\n",
              "      quickchartButtonEl.classList.add('colab-df-quickchart-complete');\n",
              "    }\n",
              "    (() => {\n",
              "      let quickchartButtonEl =\n",
              "        document.querySelector('#df-83bf5a7a-1953-45aa-8a02-d529916976f4 button');\n",
              "      quickchartButtonEl.style.display =\n",
              "        google.colab.kernel.accessAllowed ? 'block' : 'none';\n",
              "    })();\n",
              "  </script>\n",
              "</div>\n",
              "    </div>\n",
              "  </div>\n"
            ],
            "text/plain": [
              "                       index  count\n",
              "0         gpt-4-1106-preview   7387\n",
              "1         gpt-3.5-turbo-0613   7083\n",
              "2                 gpt-4-0613   6165\n",
              "3                 claude-2.1   5583\n",
              "4           claude-instant-1   4136\n",
              "..                       ...    ...\n",
              "59          falcon-180b-chat    286\n",
              "60         openchat-3.5-0106    244\n",
              "61           qwen1.5-7b-chat    208\n",
              "62           qwen1.5-4b-chat    200\n",
              "63  mistral-7b-instruct-v0.2    100\n",
              "\n",
              "[64 rows x 2 columns]"
            ]
          },
          "execution_count": 32,
          "metadata": {},
          "output_type": "execute_result"
        }
      ],
      "source": [
        "counts = model_df.value_counts().reset_index()\n",
        "counts"
      ]
    },
    {
      "cell_type": "code",
      "execution_count": null,
      "metadata": {
        "colab": {
          "base_uri": "https://localhost:8080/",
          "height": 424
        },
        "execution": {
          "iopub.execute_input": "2025-02-20T03:29:59.873306Z",
          "iopub.status.busy": "2025-02-20T03:29:59.872974Z",
          "iopub.status.idle": "2025-02-20T03:29:59.889915Z",
          "shell.execute_reply": "2025-02-20T03:29:59.889286Z",
          "shell.execute_reply.started": "2025-02-20T03:29:59.873276Z"
        },
        "id": "xb5IE8k7kqMa",
        "outputId": "bb8db27b-fa18-4bbe-be64-6dc1aed06c38",
        "trusted": true
      },
      "outputs": [
        {
          "data": {
            "application/vnd.google.colaboratory.intrinsic+json": {
              "summary": "{\n  \"name\": \"counts\",\n  \"rows\": 64,\n  \"fields\": [\n    {\n      \"column\": \"LLM\",\n      \"properties\": {\n        \"dtype\": \"string\",\n        \"num_unique_values\": 64,\n        \"samples\": [\n          \"chatglm2-6b\",\n          \"nous-hermes-2-mixtral-8x7b-dpo\",\n          \"gpt-4-1106-preview\"\n        ],\n        \"semantic_type\": \"\",\n        \"description\": \"\"\n      }\n    },\n    {\n      \"column\": \"Count\",\n      \"properties\": {\n        \"dtype\": \"number\",\n        \"std\": 1633,\n        \"min\": 100,\n        \"max\": 7387,\n        \"num_unique_values\": 64,\n        \"samples\": [\n          564,\n          325,\n          7387\n        ],\n        \"semantic_type\": \"\",\n        \"description\": \"\"\n      }\n    }\n  ]\n}",
              "type": "dataframe",
              "variable_name": "counts"
            },
            "text/html": [
              "\n",
              "  <div id=\"df-b0859a20-24d4-4821-9d33-48d2f226eac4\" class=\"colab-df-container\">\n",
              "    <div>\n",
              "<style scoped>\n",
              "    .dataframe tbody tr th:only-of-type {\n",
              "        vertical-align: middle;\n",
              "    }\n",
              "\n",
              "    .dataframe tbody tr th {\n",
              "        vertical-align: top;\n",
              "    }\n",
              "\n",
              "    .dataframe thead th {\n",
              "        text-align: right;\n",
              "    }\n",
              "</style>\n",
              "<table border=\"1\" class=\"dataframe\">\n",
              "  <thead>\n",
              "    <tr style=\"text-align: right;\">\n",
              "      <th></th>\n",
              "      <th>LLM</th>\n",
              "      <th>Count</th>\n",
              "    </tr>\n",
              "  </thead>\n",
              "  <tbody>\n",
              "    <tr>\n",
              "      <th>0</th>\n",
              "      <td>gpt-4-1106-preview</td>\n",
              "      <td>7387</td>\n",
              "    </tr>\n",
              "    <tr>\n",
              "      <th>1</th>\n",
              "      <td>gpt-3.5-turbo-0613</td>\n",
              "      <td>7083</td>\n",
              "    </tr>\n",
              "    <tr>\n",
              "      <th>2</th>\n",
              "      <td>gpt-4-0613</td>\n",
              "      <td>6165</td>\n",
              "    </tr>\n",
              "    <tr>\n",
              "      <th>3</th>\n",
              "      <td>claude-2.1</td>\n",
              "      <td>5583</td>\n",
              "    </tr>\n",
              "    <tr>\n",
              "      <th>4</th>\n",
              "      <td>claude-instant-1</td>\n",
              "      <td>4136</td>\n",
              "    </tr>\n",
              "    <tr>\n",
              "      <th>...</th>\n",
              "      <td>...</td>\n",
              "      <td>...</td>\n",
              "    </tr>\n",
              "    <tr>\n",
              "      <th>59</th>\n",
              "      <td>falcon-180b-chat</td>\n",
              "      <td>286</td>\n",
              "    </tr>\n",
              "    <tr>\n",
              "      <th>60</th>\n",
              "      <td>openchat-3.5-0106</td>\n",
              "      <td>244</td>\n",
              "    </tr>\n",
              "    <tr>\n",
              "      <th>61</th>\n",
              "      <td>qwen1.5-7b-chat</td>\n",
              "      <td>208</td>\n",
              "    </tr>\n",
              "    <tr>\n",
              "      <th>62</th>\n",
              "      <td>qwen1.5-4b-chat</td>\n",
              "      <td>200</td>\n",
              "    </tr>\n",
              "    <tr>\n",
              "      <th>63</th>\n",
              "      <td>mistral-7b-instruct-v0.2</td>\n",
              "      <td>100</td>\n",
              "    </tr>\n",
              "  </tbody>\n",
              "</table>\n",
              "<p>64 rows × 2 columns</p>\n",
              "</div>\n",
              "    <div class=\"colab-df-buttons\">\n",
              "\n",
              "  <div class=\"colab-df-container\">\n",
              "    <button class=\"colab-df-convert\" onclick=\"convertToInteractive('df-b0859a20-24d4-4821-9d33-48d2f226eac4')\"\n",
              "            title=\"Convert this dataframe to an interactive table.\"\n",
              "            style=\"display:none;\">\n",
              "\n",
              "  <svg xmlns=\"http://www.w3.org/2000/svg\" height=\"24px\" viewBox=\"0 -960 960 960\">\n",
              "    <path d=\"M120-120v-720h720v720H120Zm60-500h600v-160H180v160Zm220 220h160v-160H400v160Zm0 220h160v-160H400v160ZM180-400h160v-160H180v160Zm440 0h160v-160H620v160ZM180-180h160v-160H180v160Zm440 0h160v-160H620v160Z\"/>\n",
              "  </svg>\n",
              "    </button>\n",
              "\n",
              "  <style>\n",
              "    .colab-df-container {\n",
              "      display:flex;\n",
              "      gap: 12px;\n",
              "    }\n",
              "\n",
              "    .colab-df-convert {\n",
              "      background-color: #E8F0FE;\n",
              "      border: none;\n",
              "      border-radius: 50%;\n",
              "      cursor: pointer;\n",
              "      display: none;\n",
              "      fill: #1967D2;\n",
              "      height: 32px;\n",
              "      padding: 0 0 0 0;\n",
              "      width: 32px;\n",
              "    }\n",
              "\n",
              "    .colab-df-convert:hover {\n",
              "      background-color: #E2EBFA;\n",
              "      box-shadow: 0px 1px 2px rgba(60, 64, 67, 0.3), 0px 1px 3px 1px rgba(60, 64, 67, 0.15);\n",
              "      fill: #174EA6;\n",
              "    }\n",
              "\n",
              "    .colab-df-buttons div {\n",
              "      margin-bottom: 4px;\n",
              "    }\n",
              "\n",
              "    [theme=dark] .colab-df-convert {\n",
              "      background-color: #3B4455;\n",
              "      fill: #D2E3FC;\n",
              "    }\n",
              "\n",
              "    [theme=dark] .colab-df-convert:hover {\n",
              "      background-color: #434B5C;\n",
              "      box-shadow: 0px 1px 3px 1px rgba(0, 0, 0, 0.15);\n",
              "      filter: drop-shadow(0px 1px 2px rgba(0, 0, 0, 0.3));\n",
              "      fill: #FFFFFF;\n",
              "    }\n",
              "  </style>\n",
              "\n",
              "    <script>\n",
              "      const buttonEl =\n",
              "        document.querySelector('#df-b0859a20-24d4-4821-9d33-48d2f226eac4 button.colab-df-convert');\n",
              "      buttonEl.style.display =\n",
              "        google.colab.kernel.accessAllowed ? 'block' : 'none';\n",
              "\n",
              "      async function convertToInteractive(key) {\n",
              "        const element = document.querySelector('#df-b0859a20-24d4-4821-9d33-48d2f226eac4');\n",
              "        const dataTable =\n",
              "          await google.colab.kernel.invokeFunction('convertToInteractive',\n",
              "                                                    [key], {});\n",
              "        if (!dataTable) return;\n",
              "\n",
              "        const docLinkHtml = 'Like what you see? Visit the ' +\n",
              "          '<a target=\"_blank\" href=https://colab.research.google.com/notebooks/data_table.ipynb>data table notebook</a>'\n",
              "          + ' to learn more about interactive tables.';\n",
              "        element.innerHTML = '';\n",
              "        dataTable['output_type'] = 'display_data';\n",
              "        await google.colab.output.renderOutput(dataTable, element);\n",
              "        const docLink = document.createElement('div');\n",
              "        docLink.innerHTML = docLinkHtml;\n",
              "        element.appendChild(docLink);\n",
              "      }\n",
              "    </script>\n",
              "  </div>\n",
              "\n",
              "\n",
              "<div id=\"df-cc3740f5-1c3e-4b90-a972-1e60709ab753\">\n",
              "  <button class=\"colab-df-quickchart\" onclick=\"quickchart('df-cc3740f5-1c3e-4b90-a972-1e60709ab753')\"\n",
              "            title=\"Suggest charts\"\n",
              "            style=\"display:none;\">\n",
              "\n",
              "<svg xmlns=\"http://www.w3.org/2000/svg\" height=\"24px\"viewBox=\"0 0 24 24\"\n",
              "     width=\"24px\">\n",
              "    <g>\n",
              "        <path d=\"M19 3H5c-1.1 0-2 .9-2 2v14c0 1.1.9 2 2 2h14c1.1 0 2-.9 2-2V5c0-1.1-.9-2-2-2zM9 17H7v-7h2v7zm4 0h-2V7h2v10zm4 0h-2v-4h2v4z\"/>\n",
              "    </g>\n",
              "</svg>\n",
              "  </button>\n",
              "\n",
              "<style>\n",
              "  .colab-df-quickchart {\n",
              "      --bg-color: #E8F0FE;\n",
              "      --fill-color: #1967D2;\n",
              "      --hover-bg-color: #E2EBFA;\n",
              "      --hover-fill-color: #174EA6;\n",
              "      --disabled-fill-color: #AAA;\n",
              "      --disabled-bg-color: #DDD;\n",
              "  }\n",
              "\n",
              "  [theme=dark] .colab-df-quickchart {\n",
              "      --bg-color: #3B4455;\n",
              "      --fill-color: #D2E3FC;\n",
              "      --hover-bg-color: #434B5C;\n",
              "      --hover-fill-color: #FFFFFF;\n",
              "      --disabled-bg-color: #3B4455;\n",
              "      --disabled-fill-color: #666;\n",
              "  }\n",
              "\n",
              "  .colab-df-quickchart {\n",
              "    background-color: var(--bg-color);\n",
              "    border: none;\n",
              "    border-radius: 50%;\n",
              "    cursor: pointer;\n",
              "    display: none;\n",
              "    fill: var(--fill-color);\n",
              "    height: 32px;\n",
              "    padding: 0;\n",
              "    width: 32px;\n",
              "  }\n",
              "\n",
              "  .colab-df-quickchart:hover {\n",
              "    background-color: var(--hover-bg-color);\n",
              "    box-shadow: 0 1px 2px rgba(60, 64, 67, 0.3), 0 1px 3px 1px rgba(60, 64, 67, 0.15);\n",
              "    fill: var(--button-hover-fill-color);\n",
              "  }\n",
              "\n",
              "  .colab-df-quickchart-complete:disabled,\n",
              "  .colab-df-quickchart-complete:disabled:hover {\n",
              "    background-color: var(--disabled-bg-color);\n",
              "    fill: var(--disabled-fill-color);\n",
              "    box-shadow: none;\n",
              "  }\n",
              "\n",
              "  .colab-df-spinner {\n",
              "    border: 2px solid var(--fill-color);\n",
              "    border-color: transparent;\n",
              "    border-bottom-color: var(--fill-color);\n",
              "    animation:\n",
              "      spin 1s steps(1) infinite;\n",
              "  }\n",
              "\n",
              "  @keyframes spin {\n",
              "    0% {\n",
              "      border-color: transparent;\n",
              "      border-bottom-color: var(--fill-color);\n",
              "      border-left-color: var(--fill-color);\n",
              "    }\n",
              "    20% {\n",
              "      border-color: transparent;\n",
              "      border-left-color: var(--fill-color);\n",
              "      border-top-color: var(--fill-color);\n",
              "    }\n",
              "    30% {\n",
              "      border-color: transparent;\n",
              "      border-left-color: var(--fill-color);\n",
              "      border-top-color: var(--fill-color);\n",
              "      border-right-color: var(--fill-color);\n",
              "    }\n",
              "    40% {\n",
              "      border-color: transparent;\n",
              "      border-right-color: var(--fill-color);\n",
              "      border-top-color: var(--fill-color);\n",
              "    }\n",
              "    60% {\n",
              "      border-color: transparent;\n",
              "      border-right-color: var(--fill-color);\n",
              "    }\n",
              "    80% {\n",
              "      border-color: transparent;\n",
              "      border-right-color: var(--fill-color);\n",
              "      border-bottom-color: var(--fill-color);\n",
              "    }\n",
              "    90% {\n",
              "      border-color: transparent;\n",
              "      border-bottom-color: var(--fill-color);\n",
              "    }\n",
              "  }\n",
              "</style>\n",
              "\n",
              "  <script>\n",
              "    async function quickchart(key) {\n",
              "      const quickchartButtonEl =\n",
              "        document.querySelector('#' + key + ' button');\n",
              "      quickchartButtonEl.disabled = true;  // To prevent multiple clicks.\n",
              "      quickchartButtonEl.classList.add('colab-df-spinner');\n",
              "      try {\n",
              "        const charts = await google.colab.kernel.invokeFunction(\n",
              "            'suggestCharts', [key], {});\n",
              "      } catch (error) {\n",
              "        console.error('Error during call to suggestCharts:', error);\n",
              "      }\n",
              "      quickchartButtonEl.classList.remove('colab-df-spinner');\n",
              "      quickchartButtonEl.classList.add('colab-df-quickchart-complete');\n",
              "    }\n",
              "    (() => {\n",
              "      let quickchartButtonEl =\n",
              "        document.querySelector('#df-cc3740f5-1c3e-4b90-a972-1e60709ab753 button');\n",
              "      quickchartButtonEl.style.display =\n",
              "        google.colab.kernel.accessAllowed ? 'block' : 'none';\n",
              "    })();\n",
              "  </script>\n",
              "</div>\n",
              "    </div>\n",
              "  </div>\n"
            ],
            "text/plain": [
              "                         LLM  Count\n",
              "0         gpt-4-1106-preview   7387\n",
              "1         gpt-3.5-turbo-0613   7083\n",
              "2                 gpt-4-0613   6165\n",
              "3                 claude-2.1   5583\n",
              "4           claude-instant-1   4136\n",
              "..                       ...    ...\n",
              "59          falcon-180b-chat    286\n",
              "60         openchat-3.5-0106    244\n",
              "61           qwen1.5-7b-chat    208\n",
              "62           qwen1.5-4b-chat    200\n",
              "63  mistral-7b-instruct-v0.2    100\n",
              "\n",
              "[64 rows x 2 columns]"
            ]
          },
          "execution_count": 33,
          "metadata": {},
          "output_type": "execute_result"
        }
      ],
      "source": [
        "counts.columns = ['LLM', 'Count']\n",
        "counts"
      ]
    },
    {
      "cell_type": "code",
      "execution_count": null,
      "metadata": {
        "colab": {
          "base_uri": "https://localhost:8080/",
          "height": 542
        },
        "execution": {
          "iopub.execute_input": "2025-02-20T03:29:59.890943Z",
          "iopub.status.busy": "2025-02-20T03:29:59.890671Z",
          "iopub.status.idle": "2025-02-20T03:30:01.265670Z",
          "shell.execute_reply": "2025-02-20T03:30:01.264907Z",
          "shell.execute_reply.started": "2025-02-20T03:29:59.890917Z"
        },
        "id": "0DN48kXOkqMa",
        "outputId": "cd87cb19-2608-4f34-ba52-d947da1ab46c",
        "trusted": true
      },
      "outputs": [
        {
          "data": {
            "text/html": [
              "<html>\n",
              "<head><meta charset=\"utf-8\" /></head>\n",
              "<body>\n",
              "    <div>            <script src=\"https://cdnjs.cloudflare.com/ajax/libs/mathjax/2.7.5/MathJax.js?config=TeX-AMS-MML_SVG\"></script><script type=\"text/javascript\">if (window.MathJax && window.MathJax.Hub && window.MathJax.Hub.Config) {window.MathJax.Hub.Config({SVG: {font: \"STIX-Web\"}});}</script>                <script type=\"text/javascript\">window.PlotlyConfig = {MathJaxConfig: 'local'};</script>\n",
              "        <script charset=\"utf-8\" src=\"https://cdn.plot.ly/plotly-2.35.2.min.js\"></script>                <div id=\"48d48ece-d3c7-4138-a4f4-0395f5a49b88\" class=\"plotly-graph-div\" style=\"height:525px; width:100%;\"></div>            <script type=\"text/javascript\">                                    window.PLOTLYENV=window.PLOTLYENV || {};                                    if (document.getElementById(\"48d48ece-d3c7-4138-a4f4-0395f5a49b88\")) {                    Plotly.newPlot(                        \"48d48ece-d3c7-4138-a4f4-0395f5a49b88\",                        [{\"alignmentgroup\":\"True\",\"hovertemplate\":\"LLM=%{x}\\u003cbr\\u003eCount=%{marker.color}\\u003cextra\\u003e\\u003c\\u002fextra\\u003e\",\"legendgroup\":\"\",\"marker\":{\"color\":[7387,7083,6165,5583,4136,4122,3978,3720,3545,3448,3428,3352,3315,2607,2456,2401,1977,1793,1644,1632,1617,1598,1591,1580,1494,1486,1474,1447,1438,1420,1403,1302,1261,1250,1200,1160,1158,1134,1072,1021,989,952,928,914,899,861,800,795,771,684,667,598,564,551,547,412,408,373,325,286,244,208,200,100],\"coloraxis\":\"coloraxis\",\"pattern\":{\"shape\":\"\"}},\"name\":\"\",\"offsetgroup\":\"\",\"orientation\":\"v\",\"showlegend\":false,\"textposition\":\"auto\",\"x\":[\"gpt-4-1106-preview\",\"gpt-3.5-turbo-0613\",\"gpt-4-0613\",\"claude-2.1\",\"claude-instant-1\",\"gpt-4-0314\",\"claude-1\",\"vicuna-33b\",\"mixtral-8x7b-instruct-v0.1\",\"vicuna-13b\",\"llama-2-70b-chat\",\"gpt-3.5-turbo-1106\",\"mistral-medium\",\"llama-2-13b-chat\",\"claude-2.0\",\"zephyr-7b-beta\",\"palm-2\",\"llama-2-7b-chat\",\"wizardlm-70b\",\"openchat-3.5\",\"mistral-7b-instruct\",\"koala-13b\",\"vicuna-7b\",\"wizardlm-13b\",\"oasst-pythia-12b\",\"gemini-pro-dev-api\",\"codellama-34b-instruct\",\"yi-34b-chat\",\"gemini-pro\",\"pplx-70b-online\",\"alpaca-13b\",\"gpt-3.5-turbo-0314\",\"chatglm-6b\",\"pplx-7b-online\",\"tulu-2-dpo-70b\",\"gpt-4-0125-preview\",\"RWKV-4-Raven-14B\",\"starling-lm-7b-alpha\",\"qwen-14b-chat\",\"fastchat-t5-3b\",\"chatglm3-6b\",\"openhermes-2.5-mistral-7b\",\"mpt-7b-chat\",\"stripedhyena-nous-7b\",\"solar-10.7b-instruct-v1.0\",\"gpt-3.5-turbo-0125\",\"dolly-v2-12b\",\"deepseek-llm-67b-chat\",\"stablelm-tuned-alpha-7b\",\"guanaco-33b\",\"llama2-70b-steerlm-chat\",\"mpt-30b-chat\",\"chatglm2-6b\",\"qwen1.5-72b-chat\",\"llama-13b\",\"zephyr-7b-alpha\",\"gpt4all-13b-snoozy\",\"dolphin-2.2.1-mistral-7b\",\"nous-hermes-2-mixtral-8x7b-dpo\",\"falcon-180b-chat\",\"openchat-3.5-0106\",\"qwen1.5-7b-chat\",\"qwen1.5-4b-chat\",\"mistral-7b-instruct-v0.2\"],\"xaxis\":\"x\",\"y\":[7387,7083,6165,5583,4136,4122,3978,3720,3545,3448,3428,3352,3315,2607,2456,2401,1977,1793,1644,1632,1617,1598,1591,1580,1494,1486,1474,1447,1438,1420,1403,1302,1261,1250,1200,1160,1158,1134,1072,1021,989,952,928,914,899,861,800,795,771,684,667,598,564,551,547,412,408,373,325,286,244,208,200,100],\"yaxis\":\"y\",\"type\":\"bar\"}],                        {\"template\":{\"data\":{\"histogram2dcontour\":[{\"type\":\"histogram2dcontour\",\"colorbar\":{\"outlinewidth\":0,\"ticks\":\"\"},\"colorscale\":[[0.0,\"#0d0887\"],[0.1111111111111111,\"#46039f\"],[0.2222222222222222,\"#7201a8\"],[0.3333333333333333,\"#9c179e\"],[0.4444444444444444,\"#bd3786\"],[0.5555555555555556,\"#d8576b\"],[0.6666666666666666,\"#ed7953\"],[0.7777777777777778,\"#fb9f3a\"],[0.8888888888888888,\"#fdca26\"],[1.0,\"#f0f921\"]]}],\"choropleth\":[{\"type\":\"choropleth\",\"colorbar\":{\"outlinewidth\":0,\"ticks\":\"\"}}],\"histogram2d\":[{\"type\":\"histogram2d\",\"colorbar\":{\"outlinewidth\":0,\"ticks\":\"\"},\"colorscale\":[[0.0,\"#0d0887\"],[0.1111111111111111,\"#46039f\"],[0.2222222222222222,\"#7201a8\"],[0.3333333333333333,\"#9c179e\"],[0.4444444444444444,\"#bd3786\"],[0.5555555555555556,\"#d8576b\"],[0.6666666666666666,\"#ed7953\"],[0.7777777777777778,\"#fb9f3a\"],[0.8888888888888888,\"#fdca26\"],[1.0,\"#f0f921\"]]}],\"heatmap\":[{\"type\":\"heatmap\",\"colorbar\":{\"outlinewidth\":0,\"ticks\":\"\"},\"colorscale\":[[0.0,\"#0d0887\"],[0.1111111111111111,\"#46039f\"],[0.2222222222222222,\"#7201a8\"],[0.3333333333333333,\"#9c179e\"],[0.4444444444444444,\"#bd3786\"],[0.5555555555555556,\"#d8576b\"],[0.6666666666666666,\"#ed7953\"],[0.7777777777777778,\"#fb9f3a\"],[0.8888888888888888,\"#fdca26\"],[1.0,\"#f0f921\"]]}],\"heatmapgl\":[{\"type\":\"heatmapgl\",\"colorbar\":{\"outlinewidth\":0,\"ticks\":\"\"},\"colorscale\":[[0.0,\"#0d0887\"],[0.1111111111111111,\"#46039f\"],[0.2222222222222222,\"#7201a8\"],[0.3333333333333333,\"#9c179e\"],[0.4444444444444444,\"#bd3786\"],[0.5555555555555556,\"#d8576b\"],[0.6666666666666666,\"#ed7953\"],[0.7777777777777778,\"#fb9f3a\"],[0.8888888888888888,\"#fdca26\"],[1.0,\"#f0f921\"]]}],\"contourcarpet\":[{\"type\":\"contourcarpet\",\"colorbar\":{\"outlinewidth\":0,\"ticks\":\"\"}}],\"contour\":[{\"type\":\"contour\",\"colorbar\":{\"outlinewidth\":0,\"ticks\":\"\"},\"colorscale\":[[0.0,\"#0d0887\"],[0.1111111111111111,\"#46039f\"],[0.2222222222222222,\"#7201a8\"],[0.3333333333333333,\"#9c179e\"],[0.4444444444444444,\"#bd3786\"],[0.5555555555555556,\"#d8576b\"],[0.6666666666666666,\"#ed7953\"],[0.7777777777777778,\"#fb9f3a\"],[0.8888888888888888,\"#fdca26\"],[1.0,\"#f0f921\"]]}],\"surface\":[{\"type\":\"surface\",\"colorbar\":{\"outlinewidth\":0,\"ticks\":\"\"},\"colorscale\":[[0.0,\"#0d0887\"],[0.1111111111111111,\"#46039f\"],[0.2222222222222222,\"#7201a8\"],[0.3333333333333333,\"#9c179e\"],[0.4444444444444444,\"#bd3786\"],[0.5555555555555556,\"#d8576b\"],[0.6666666666666666,\"#ed7953\"],[0.7777777777777778,\"#fb9f3a\"],[0.8888888888888888,\"#fdca26\"],[1.0,\"#f0f921\"]]}],\"mesh3d\":[{\"type\":\"mesh3d\",\"colorbar\":{\"outlinewidth\":0,\"ticks\":\"\"}}],\"scatter\":[{\"fillpattern\":{\"fillmode\":\"overlay\",\"size\":10,\"solidity\":0.2},\"type\":\"scatter\"}],\"parcoords\":[{\"type\":\"parcoords\",\"line\":{\"colorbar\":{\"outlinewidth\":0,\"ticks\":\"\"}}}],\"scatterpolargl\":[{\"type\":\"scatterpolargl\",\"marker\":{\"colorbar\":{\"outlinewidth\":0,\"ticks\":\"\"}}}],\"bar\":[{\"error_x\":{\"color\":\"#2a3f5f\"},\"error_y\":{\"color\":\"#2a3f5f\"},\"marker\":{\"line\":{\"color\":\"#E5ECF6\",\"width\":0.5},\"pattern\":{\"fillmode\":\"overlay\",\"size\":10,\"solidity\":0.2}},\"type\":\"bar\"}],\"scattergeo\":[{\"type\":\"scattergeo\",\"marker\":{\"colorbar\":{\"outlinewidth\":0,\"ticks\":\"\"}}}],\"scatterpolar\":[{\"type\":\"scatterpolar\",\"marker\":{\"colorbar\":{\"outlinewidth\":0,\"ticks\":\"\"}}}],\"histogram\":[{\"marker\":{\"pattern\":{\"fillmode\":\"overlay\",\"size\":10,\"solidity\":0.2}},\"type\":\"histogram\"}],\"scattergl\":[{\"type\":\"scattergl\",\"marker\":{\"colorbar\":{\"outlinewidth\":0,\"ticks\":\"\"}}}],\"scatter3d\":[{\"type\":\"scatter3d\",\"line\":{\"colorbar\":{\"outlinewidth\":0,\"ticks\":\"\"}},\"marker\":{\"colorbar\":{\"outlinewidth\":0,\"ticks\":\"\"}}}],\"scattermapbox\":[{\"type\":\"scattermapbox\",\"marker\":{\"colorbar\":{\"outlinewidth\":0,\"ticks\":\"\"}}}],\"scatterternary\":[{\"type\":\"scatterternary\",\"marker\":{\"colorbar\":{\"outlinewidth\":0,\"ticks\":\"\"}}}],\"scattercarpet\":[{\"type\":\"scattercarpet\",\"marker\":{\"colorbar\":{\"outlinewidth\":0,\"ticks\":\"\"}}}],\"carpet\":[{\"aaxis\":{\"endlinecolor\":\"#2a3f5f\",\"gridcolor\":\"white\",\"linecolor\":\"white\",\"minorgridcolor\":\"white\",\"startlinecolor\":\"#2a3f5f\"},\"baxis\":{\"endlinecolor\":\"#2a3f5f\",\"gridcolor\":\"white\",\"linecolor\":\"white\",\"minorgridcolor\":\"white\",\"startlinecolor\":\"#2a3f5f\"},\"type\":\"carpet\"}],\"table\":[{\"cells\":{\"fill\":{\"color\":\"#EBF0F8\"},\"line\":{\"color\":\"white\"}},\"header\":{\"fill\":{\"color\":\"#C8D4E3\"},\"line\":{\"color\":\"white\"}},\"type\":\"table\"}],\"barpolar\":[{\"marker\":{\"line\":{\"color\":\"#E5ECF6\",\"width\":0.5},\"pattern\":{\"fillmode\":\"overlay\",\"size\":10,\"solidity\":0.2}},\"type\":\"barpolar\"}],\"pie\":[{\"automargin\":true,\"type\":\"pie\"}]},\"layout\":{\"autotypenumbers\":\"strict\",\"colorway\":[\"#636efa\",\"#EF553B\",\"#00cc96\",\"#ab63fa\",\"#FFA15A\",\"#19d3f3\",\"#FF6692\",\"#B6E880\",\"#FF97FF\",\"#FECB52\"],\"font\":{\"color\":\"#2a3f5f\"},\"hovermode\":\"closest\",\"hoverlabel\":{\"align\":\"left\"},\"paper_bgcolor\":\"white\",\"plot_bgcolor\":\"#E5ECF6\",\"polar\":{\"bgcolor\":\"#E5ECF6\",\"angularaxis\":{\"gridcolor\":\"white\",\"linecolor\":\"white\",\"ticks\":\"\"},\"radialaxis\":{\"gridcolor\":\"white\",\"linecolor\":\"white\",\"ticks\":\"\"}},\"ternary\":{\"bgcolor\":\"#E5ECF6\",\"aaxis\":{\"gridcolor\":\"white\",\"linecolor\":\"white\",\"ticks\":\"\"},\"baxis\":{\"gridcolor\":\"white\",\"linecolor\":\"white\",\"ticks\":\"\"},\"caxis\":{\"gridcolor\":\"white\",\"linecolor\":\"white\",\"ticks\":\"\"}},\"coloraxis\":{\"colorbar\":{\"outlinewidth\":0,\"ticks\":\"\"}},\"colorscale\":{\"sequential\":[[0.0,\"#0d0887\"],[0.1111111111111111,\"#46039f\"],[0.2222222222222222,\"#7201a8\"],[0.3333333333333333,\"#9c179e\"],[0.4444444444444444,\"#bd3786\"],[0.5555555555555556,\"#d8576b\"],[0.6666666666666666,\"#ed7953\"],[0.7777777777777778,\"#fb9f3a\"],[0.8888888888888888,\"#fdca26\"],[1.0,\"#f0f921\"]],\"sequentialminus\":[[0.0,\"#0d0887\"],[0.1111111111111111,\"#46039f\"],[0.2222222222222222,\"#7201a8\"],[0.3333333333333333,\"#9c179e\"],[0.4444444444444444,\"#bd3786\"],[0.5555555555555556,\"#d8576b\"],[0.6666666666666666,\"#ed7953\"],[0.7777777777777778,\"#fb9f3a\"],[0.8888888888888888,\"#fdca26\"],[1.0,\"#f0f921\"]],\"diverging\":[[0,\"#8e0152\"],[0.1,\"#c51b7d\"],[0.2,\"#de77ae\"],[0.3,\"#f1b6da\"],[0.4,\"#fde0ef\"],[0.5,\"#f7f7f7\"],[0.6,\"#e6f5d0\"],[0.7,\"#b8e186\"],[0.8,\"#7fbc41\"],[0.9,\"#4d9221\"],[1,\"#276419\"]]},\"xaxis\":{\"gridcolor\":\"white\",\"linecolor\":\"white\",\"ticks\":\"\",\"title\":{\"standoff\":15},\"zerolinecolor\":\"white\",\"automargin\":true,\"zerolinewidth\":2},\"yaxis\":{\"gridcolor\":\"white\",\"linecolor\":\"white\",\"ticks\":\"\",\"title\":{\"standoff\":15},\"zerolinecolor\":\"white\",\"automargin\":true,\"zerolinewidth\":2},\"scene\":{\"xaxis\":{\"backgroundcolor\":\"#E5ECF6\",\"gridcolor\":\"white\",\"linecolor\":\"white\",\"showbackground\":true,\"ticks\":\"\",\"zerolinecolor\":\"white\",\"gridwidth\":2},\"yaxis\":{\"backgroundcolor\":\"#E5ECF6\",\"gridcolor\":\"white\",\"linecolor\":\"white\",\"showbackground\":true,\"ticks\":\"\",\"zerolinecolor\":\"white\",\"gridwidth\":2},\"zaxis\":{\"backgroundcolor\":\"#E5ECF6\",\"gridcolor\":\"white\",\"linecolor\":\"white\",\"showbackground\":true,\"ticks\":\"\",\"zerolinecolor\":\"white\",\"gridwidth\":2}},\"shapedefaults\":{\"line\":{\"color\":\"#2a3f5f\"}},\"annotationdefaults\":{\"arrowcolor\":\"#2a3f5f\",\"arrowhead\":0,\"arrowwidth\":1},\"geo\":{\"bgcolor\":\"white\",\"landcolor\":\"#E5ECF6\",\"subunitcolor\":\"white\",\"showland\":true,\"showlakes\":true,\"lakecolor\":\"white\"},\"title\":{\"x\":0.05},\"mapbox\":{\"style\":\"light\"}}},\"xaxis\":{\"anchor\":\"y\",\"domain\":[0.0,1.0],\"title\":{\"text\":\"LLM\"},\"tickangle\":-45},\"yaxis\":{\"anchor\":\"x\",\"domain\":[0.0,1.0],\"title\":{\"text\":\"Count\"}},\"coloraxis\":{\"colorbar\":{\"title\":{\"text\":\"Count\"}},\"colorscale\":[[0.0,\"#440154\"],[0.1111111111111111,\"#482878\"],[0.2222222222222222,\"#3e4989\"],[0.3333333333333333,\"#31688e\"],[0.4444444444444444,\"#26828e\"],[0.5555555555555556,\"#1f9e89\"],[0.6666666666666666,\"#35b779\"],[0.7777777777777778,\"#6ece58\"],[0.8888888888888888,\"#b5de2b\"],[1.0,\"#fde725\"]]},\"legend\":{\"tracegroupgap\":0},\"title\":{\"text\":\"Distribution of LLMs\"},\"barmode\":\"relative\"},                        {\"responsive\": true}                    ).then(function(){\n",
              "                            \n",
              "var gd = document.getElementById('48d48ece-d3c7-4138-a4f4-0395f5a49b88');\n",
              "var x = new MutationObserver(function (mutations, observer) {{\n",
              "        var display = window.getComputedStyle(gd).display;\n",
              "        if (!display || display === 'none') {{\n",
              "            console.log([gd, 'removed!']);\n",
              "            Plotly.purge(gd);\n",
              "            observer.disconnect();\n",
              "        }}\n",
              "}});\n",
              "\n",
              "// Listen for the removal of the full notebook cells\n",
              "var notebookContainer = gd.closest('#notebook-container');\n",
              "if (notebookContainer) {{\n",
              "    x.observe(notebookContainer, {childList: true});\n",
              "}}\n",
              "\n",
              "// Listen for the clearing of the current output cell\n",
              "var outputEl = gd.closest('.output');\n",
              "if (outputEl) {{\n",
              "    x.observe(outputEl, {childList: true});\n",
              "}}\n",
              "\n",
              "                        })                };                            </script>        </div>\n",
              "</body>\n",
              "</html>"
            ]
          },
          "metadata": {},
          "output_type": "display_data"
        }
      ],
      "source": [
        "fig = px.bar(counts, x='LLM', y='Count', title='Distribution of LLMs', color='Count',\n",
        "            color_continuous_scale='viridis')\n",
        "# color='Count'：柱状图的颜色根据 Count 值 变化（即 LLM 出现次数）。\n",
        "# 使用 Viridis 颜色映射（从紫色到黄色的渐变色）。\n",
        "\n",
        "fig.update_layout(xaxis_tickangle=-45)\n",
        "\n",
        "fig.show()"
      ]
    },
    {
      "cell_type": "markdown",
      "metadata": {
        "id": "LA6fV-FfkqMb"
      },
      "source": [
        "## Winning distribution"
      ]
    },
    {
      "cell_type": "code",
      "execution_count": null,
      "metadata": {
        "colab": {
          "base_uri": "https://localhost:8080/",
          "height": 143
        },
        "execution": {
          "iopub.execute_input": "2025-02-20T03:30:01.266611Z",
          "iopub.status.busy": "2025-02-20T03:30:01.266406Z",
          "iopub.status.idle": "2025-02-20T03:30:01.278152Z",
          "shell.execute_reply": "2025-02-20T03:30:01.277166Z",
          "shell.execute_reply.started": "2025-02-20T03:30:01.266594Z"
        },
        "id": "OiPAjO69kqMb",
        "outputId": "c9c319b7-909e-4bf0-fffb-15893230f6bd",
        "trusted": true
      },
      "outputs": [
        {
          "data": {
            "application/vnd.google.colaboratory.intrinsic+json": {
              "summary": "{\n  \"name\": \"counts\",\n  \"rows\": 3,\n  \"fields\": [\n    {\n      \"column\": \"class_name\",\n      \"properties\": {\n        \"dtype\": \"string\",\n        \"num_unique_values\": 3,\n        \"samples\": [\n          \"winner_model_a\",\n          \"winner_model_b\",\n          \"winner_tie\"\n        ],\n        \"semantic_type\": \"\",\n        \"description\": \"\"\n      }\n    },\n    {\n      \"column\": \"count\",\n      \"properties\": {\n        \"dtype\": \"number\",\n        \"std\": 1228,\n        \"min\": 17761,\n        \"max\": 20064,\n        \"num_unique_values\": 3,\n        \"samples\": [\n          20064,\n          19652,\n          17761\n        ],\n        \"semantic_type\": \"\",\n        \"description\": \"\"\n      }\n    }\n  ]\n}",
              "type": "dataframe",
              "variable_name": "counts"
            },
            "text/html": [
              "\n",
              "  <div id=\"df-611b10b1-9de5-484c-aaa6-e892b140c6e9\" class=\"colab-df-container\">\n",
              "    <div>\n",
              "<style scoped>\n",
              "    .dataframe tbody tr th:only-of-type {\n",
              "        vertical-align: middle;\n",
              "    }\n",
              "\n",
              "    .dataframe tbody tr th {\n",
              "        vertical-align: top;\n",
              "    }\n",
              "\n",
              "    .dataframe thead th {\n",
              "        text-align: right;\n",
              "    }\n",
              "</style>\n",
              "<table border=\"1\" class=\"dataframe\">\n",
              "  <thead>\n",
              "    <tr style=\"text-align: right;\">\n",
              "      <th></th>\n",
              "      <th>class_name</th>\n",
              "      <th>count</th>\n",
              "    </tr>\n",
              "  </thead>\n",
              "  <tbody>\n",
              "    <tr>\n",
              "      <th>0</th>\n",
              "      <td>winner_model_a</td>\n",
              "      <td>20064</td>\n",
              "    </tr>\n",
              "    <tr>\n",
              "      <th>1</th>\n",
              "      <td>winner_model_b</td>\n",
              "      <td>19652</td>\n",
              "    </tr>\n",
              "    <tr>\n",
              "      <th>2</th>\n",
              "      <td>winner_tie</td>\n",
              "      <td>17761</td>\n",
              "    </tr>\n",
              "  </tbody>\n",
              "</table>\n",
              "</div>\n",
              "    <div class=\"colab-df-buttons\">\n",
              "\n",
              "  <div class=\"colab-df-container\">\n",
              "    <button class=\"colab-df-convert\" onclick=\"convertToInteractive('df-611b10b1-9de5-484c-aaa6-e892b140c6e9')\"\n",
              "            title=\"Convert this dataframe to an interactive table.\"\n",
              "            style=\"display:none;\">\n",
              "\n",
              "  <svg xmlns=\"http://www.w3.org/2000/svg\" height=\"24px\" viewBox=\"0 -960 960 960\">\n",
              "    <path d=\"M120-120v-720h720v720H120Zm60-500h600v-160H180v160Zm220 220h160v-160H400v160Zm0 220h160v-160H400v160ZM180-400h160v-160H180v160Zm440 0h160v-160H620v160ZM180-180h160v-160H180v160Zm440 0h160v-160H620v160Z\"/>\n",
              "  </svg>\n",
              "    </button>\n",
              "\n",
              "  <style>\n",
              "    .colab-df-container {\n",
              "      display:flex;\n",
              "      gap: 12px;\n",
              "    }\n",
              "\n",
              "    .colab-df-convert {\n",
              "      background-color: #E8F0FE;\n",
              "      border: none;\n",
              "      border-radius: 50%;\n",
              "      cursor: pointer;\n",
              "      display: none;\n",
              "      fill: #1967D2;\n",
              "      height: 32px;\n",
              "      padding: 0 0 0 0;\n",
              "      width: 32px;\n",
              "    }\n",
              "\n",
              "    .colab-df-convert:hover {\n",
              "      background-color: #E2EBFA;\n",
              "      box-shadow: 0px 1px 2px rgba(60, 64, 67, 0.3), 0px 1px 3px 1px rgba(60, 64, 67, 0.15);\n",
              "      fill: #174EA6;\n",
              "    }\n",
              "\n",
              "    .colab-df-buttons div {\n",
              "      margin-bottom: 4px;\n",
              "    }\n",
              "\n",
              "    [theme=dark] .colab-df-convert {\n",
              "      background-color: #3B4455;\n",
              "      fill: #D2E3FC;\n",
              "    }\n",
              "\n",
              "    [theme=dark] .colab-df-convert:hover {\n",
              "      background-color: #434B5C;\n",
              "      box-shadow: 0px 1px 3px 1px rgba(0, 0, 0, 0.15);\n",
              "      filter: drop-shadow(0px 1px 2px rgba(0, 0, 0, 0.3));\n",
              "      fill: #FFFFFF;\n",
              "    }\n",
              "  </style>\n",
              "\n",
              "    <script>\n",
              "      const buttonEl =\n",
              "        document.querySelector('#df-611b10b1-9de5-484c-aaa6-e892b140c6e9 button.colab-df-convert');\n",
              "      buttonEl.style.display =\n",
              "        google.colab.kernel.accessAllowed ? 'block' : 'none';\n",
              "\n",
              "      async function convertToInteractive(key) {\n",
              "        const element = document.querySelector('#df-611b10b1-9de5-484c-aaa6-e892b140c6e9');\n",
              "        const dataTable =\n",
              "          await google.colab.kernel.invokeFunction('convertToInteractive',\n",
              "                                                    [key], {});\n",
              "        if (!dataTable) return;\n",
              "\n",
              "        const docLinkHtml = 'Like what you see? Visit the ' +\n",
              "          '<a target=\"_blank\" href=https://colab.research.google.com/notebooks/data_table.ipynb>data table notebook</a>'\n",
              "          + ' to learn more about interactive tables.';\n",
              "        element.innerHTML = '';\n",
              "        dataTable['output_type'] = 'display_data';\n",
              "        await google.colab.output.renderOutput(dataTable, element);\n",
              "        const docLink = document.createElement('div');\n",
              "        docLink.innerHTML = docLinkHtml;\n",
              "        element.appendChild(docLink);\n",
              "      }\n",
              "    </script>\n",
              "  </div>\n",
              "\n",
              "\n",
              "<div id=\"df-b945b06f-84bb-41a4-9d37-38b769847804\">\n",
              "  <button class=\"colab-df-quickchart\" onclick=\"quickchart('df-b945b06f-84bb-41a4-9d37-38b769847804')\"\n",
              "            title=\"Suggest charts\"\n",
              "            style=\"display:none;\">\n",
              "\n",
              "<svg xmlns=\"http://www.w3.org/2000/svg\" height=\"24px\"viewBox=\"0 0 24 24\"\n",
              "     width=\"24px\">\n",
              "    <g>\n",
              "        <path d=\"M19 3H5c-1.1 0-2 .9-2 2v14c0 1.1.9 2 2 2h14c1.1 0 2-.9 2-2V5c0-1.1-.9-2-2-2zM9 17H7v-7h2v7zm4 0h-2V7h2v10zm4 0h-2v-4h2v4z\"/>\n",
              "    </g>\n",
              "</svg>\n",
              "  </button>\n",
              "\n",
              "<style>\n",
              "  .colab-df-quickchart {\n",
              "      --bg-color: #E8F0FE;\n",
              "      --fill-color: #1967D2;\n",
              "      --hover-bg-color: #E2EBFA;\n",
              "      --hover-fill-color: #174EA6;\n",
              "      --disabled-fill-color: #AAA;\n",
              "      --disabled-bg-color: #DDD;\n",
              "  }\n",
              "\n",
              "  [theme=dark] .colab-df-quickchart {\n",
              "      --bg-color: #3B4455;\n",
              "      --fill-color: #D2E3FC;\n",
              "      --hover-bg-color: #434B5C;\n",
              "      --hover-fill-color: #FFFFFF;\n",
              "      --disabled-bg-color: #3B4455;\n",
              "      --disabled-fill-color: #666;\n",
              "  }\n",
              "\n",
              "  .colab-df-quickchart {\n",
              "    background-color: var(--bg-color);\n",
              "    border: none;\n",
              "    border-radius: 50%;\n",
              "    cursor: pointer;\n",
              "    display: none;\n",
              "    fill: var(--fill-color);\n",
              "    height: 32px;\n",
              "    padding: 0;\n",
              "    width: 32px;\n",
              "  }\n",
              "\n",
              "  .colab-df-quickchart:hover {\n",
              "    background-color: var(--hover-bg-color);\n",
              "    box-shadow: 0 1px 2px rgba(60, 64, 67, 0.3), 0 1px 3px 1px rgba(60, 64, 67, 0.15);\n",
              "    fill: var(--button-hover-fill-color);\n",
              "  }\n",
              "\n",
              "  .colab-df-quickchart-complete:disabled,\n",
              "  .colab-df-quickchart-complete:disabled:hover {\n",
              "    background-color: var(--disabled-bg-color);\n",
              "    fill: var(--disabled-fill-color);\n",
              "    box-shadow: none;\n",
              "  }\n",
              "\n",
              "  .colab-df-spinner {\n",
              "    border: 2px solid var(--fill-color);\n",
              "    border-color: transparent;\n",
              "    border-bottom-color: var(--fill-color);\n",
              "    animation:\n",
              "      spin 1s steps(1) infinite;\n",
              "  }\n",
              "\n",
              "  @keyframes spin {\n",
              "    0% {\n",
              "      border-color: transparent;\n",
              "      border-bottom-color: var(--fill-color);\n",
              "      border-left-color: var(--fill-color);\n",
              "    }\n",
              "    20% {\n",
              "      border-color: transparent;\n",
              "      border-left-color: var(--fill-color);\n",
              "      border-top-color: var(--fill-color);\n",
              "    }\n",
              "    30% {\n",
              "      border-color: transparent;\n",
              "      border-left-color: var(--fill-color);\n",
              "      border-top-color: var(--fill-color);\n",
              "      border-right-color: var(--fill-color);\n",
              "    }\n",
              "    40% {\n",
              "      border-color: transparent;\n",
              "      border-right-color: var(--fill-color);\n",
              "      border-top-color: var(--fill-color);\n",
              "    }\n",
              "    60% {\n",
              "      border-color: transparent;\n",
              "      border-right-color: var(--fill-color);\n",
              "    }\n",
              "    80% {\n",
              "      border-color: transparent;\n",
              "      border-right-color: var(--fill-color);\n",
              "      border-bottom-color: var(--fill-color);\n",
              "    }\n",
              "    90% {\n",
              "      border-color: transparent;\n",
              "      border-bottom-color: var(--fill-color);\n",
              "    }\n",
              "  }\n",
              "</style>\n",
              "\n",
              "  <script>\n",
              "    async function quickchart(key) {\n",
              "      const quickchartButtonEl =\n",
              "        document.querySelector('#' + key + ' button');\n",
              "      quickchartButtonEl.disabled = true;  // To prevent multiple clicks.\n",
              "      quickchartButtonEl.classList.add('colab-df-spinner');\n",
              "      try {\n",
              "        const charts = await google.colab.kernel.invokeFunction(\n",
              "            'suggestCharts', [key], {});\n",
              "      } catch (error) {\n",
              "        console.error('Error during call to suggestCharts:', error);\n",
              "      }\n",
              "      quickchartButtonEl.classList.remove('colab-df-spinner');\n",
              "      quickchartButtonEl.classList.add('colab-df-quickchart-complete');\n",
              "    }\n",
              "    (() => {\n",
              "      let quickchartButtonEl =\n",
              "        document.querySelector('#df-b945b06f-84bb-41a4-9d37-38b769847804 button');\n",
              "      quickchartButtonEl.style.display =\n",
              "        google.colab.kernel.accessAllowed ? 'block' : 'none';\n",
              "    })();\n",
              "  </script>\n",
              "</div>\n",
              "    </div>\n",
              "  </div>\n"
            ],
            "text/plain": [
              "       class_name  count\n",
              "0  winner_model_a  20064\n",
              "1  winner_model_b  19652\n",
              "2      winner_tie  17761"
            ]
          },
          "execution_count": 35,
          "metadata": {},
          "output_type": "execute_result"
        }
      ],
      "source": [
        "counts = df['class_name'].value_counts().reset_index()\n",
        "counts"
      ]
    },
    {
      "cell_type": "code",
      "execution_count": null,
      "metadata": {
        "colab": {
          "base_uri": "https://localhost:8080/",
          "height": 542
        },
        "execution": {
          "iopub.execute_input": "2025-02-20T03:30:01.279528Z",
          "iopub.status.busy": "2025-02-20T03:30:01.279206Z",
          "iopub.status.idle": "2025-02-20T03:30:01.365818Z",
          "shell.execute_reply": "2025-02-20T03:30:01.364991Z",
          "shell.execute_reply.started": "2025-02-20T03:30:01.279497Z"
        },
        "id": "5yBBUEE_kqMb",
        "outputId": "d7e881e9-eee3-4844-bf7d-abeee791a5ed",
        "trusted": true
      },
      "outputs": [
        {
          "data": {
            "text/html": [
              "<html>\n",
              "<head><meta charset=\"utf-8\" /></head>\n",
              "<body>\n",
              "    <div>            <script src=\"https://cdnjs.cloudflare.com/ajax/libs/mathjax/2.7.5/MathJax.js?config=TeX-AMS-MML_SVG\"></script><script type=\"text/javascript\">if (window.MathJax && window.MathJax.Hub && window.MathJax.Hub.Config) {window.MathJax.Hub.Config({SVG: {font: \"STIX-Web\"}});}</script>                <script type=\"text/javascript\">window.PlotlyConfig = {MathJaxConfig: 'local'};</script>\n",
              "        <script charset=\"utf-8\" src=\"https://cdn.plot.ly/plotly-2.35.2.min.js\"></script>                <div id=\"7e845667-85c0-413f-b4cd-fd38a8492e05\" class=\"plotly-graph-div\" style=\"height:525px; width:100%;\"></div>            <script type=\"text/javascript\">                                    window.PLOTLYENV=window.PLOTLYENV || {};                                    if (document.getElementById(\"7e845667-85c0-413f-b4cd-fd38a8492e05\")) {                    Plotly.newPlot(                        \"7e845667-85c0-413f-b4cd-fd38a8492e05\",                        [{\"alignmentgroup\":\"True\",\"hovertemplate\":\"Winner=%{x}\\u003cbr\\u003eWin Count=%{y}\\u003cextra\\u003e\\u003c\\u002fextra\\u003e\",\"legendgroup\":\"winner_model_a\",\"marker\":{\"color\":\"#636efa\",\"pattern\":{\"shape\":\"\"}},\"name\":\"winner_model_a\",\"offsetgroup\":\"winner_model_a\",\"orientation\":\"v\",\"showlegend\":true,\"textposition\":\"auto\",\"x\":[\"winner_model_a\"],\"xaxis\":\"x\",\"y\":[20064],\"yaxis\":\"y\",\"type\":\"bar\"},{\"alignmentgroup\":\"True\",\"hovertemplate\":\"Winner=%{x}\\u003cbr\\u003eWin Count=%{y}\\u003cextra\\u003e\\u003c\\u002fextra\\u003e\",\"legendgroup\":\"winner_model_b\",\"marker\":{\"color\":\"#EF553B\",\"pattern\":{\"shape\":\"\"}},\"name\":\"winner_model_b\",\"offsetgroup\":\"winner_model_b\",\"orientation\":\"v\",\"showlegend\":true,\"textposition\":\"auto\",\"x\":[\"winner_model_b\"],\"xaxis\":\"x\",\"y\":[19652],\"yaxis\":\"y\",\"type\":\"bar\"},{\"alignmentgroup\":\"True\",\"hovertemplate\":\"Winner=%{x}\\u003cbr\\u003eWin Count=%{y}\\u003cextra\\u003e\\u003c\\u002fextra\\u003e\",\"legendgroup\":\"winner_tie\",\"marker\":{\"color\":\"#00cc96\",\"pattern\":{\"shape\":\"\"}},\"name\":\"winner_tie\",\"offsetgroup\":\"winner_tie\",\"orientation\":\"v\",\"showlegend\":true,\"textposition\":\"auto\",\"x\":[\"winner_tie\"],\"xaxis\":\"x\",\"y\":[17761],\"yaxis\":\"y\",\"type\":\"bar\"}],                        {\"template\":{\"data\":{\"histogram2dcontour\":[{\"type\":\"histogram2dcontour\",\"colorbar\":{\"outlinewidth\":0,\"ticks\":\"\"},\"colorscale\":[[0.0,\"#0d0887\"],[0.1111111111111111,\"#46039f\"],[0.2222222222222222,\"#7201a8\"],[0.3333333333333333,\"#9c179e\"],[0.4444444444444444,\"#bd3786\"],[0.5555555555555556,\"#d8576b\"],[0.6666666666666666,\"#ed7953\"],[0.7777777777777778,\"#fb9f3a\"],[0.8888888888888888,\"#fdca26\"],[1.0,\"#f0f921\"]]}],\"choropleth\":[{\"type\":\"choropleth\",\"colorbar\":{\"outlinewidth\":0,\"ticks\":\"\"}}],\"histogram2d\":[{\"type\":\"histogram2d\",\"colorbar\":{\"outlinewidth\":0,\"ticks\":\"\"},\"colorscale\":[[0.0,\"#0d0887\"],[0.1111111111111111,\"#46039f\"],[0.2222222222222222,\"#7201a8\"],[0.3333333333333333,\"#9c179e\"],[0.4444444444444444,\"#bd3786\"],[0.5555555555555556,\"#d8576b\"],[0.6666666666666666,\"#ed7953\"],[0.7777777777777778,\"#fb9f3a\"],[0.8888888888888888,\"#fdca26\"],[1.0,\"#f0f921\"]]}],\"heatmap\":[{\"type\":\"heatmap\",\"colorbar\":{\"outlinewidth\":0,\"ticks\":\"\"},\"colorscale\":[[0.0,\"#0d0887\"],[0.1111111111111111,\"#46039f\"],[0.2222222222222222,\"#7201a8\"],[0.3333333333333333,\"#9c179e\"],[0.4444444444444444,\"#bd3786\"],[0.5555555555555556,\"#d8576b\"],[0.6666666666666666,\"#ed7953\"],[0.7777777777777778,\"#fb9f3a\"],[0.8888888888888888,\"#fdca26\"],[1.0,\"#f0f921\"]]}],\"heatmapgl\":[{\"type\":\"heatmapgl\",\"colorbar\":{\"outlinewidth\":0,\"ticks\":\"\"},\"colorscale\":[[0.0,\"#0d0887\"],[0.1111111111111111,\"#46039f\"],[0.2222222222222222,\"#7201a8\"],[0.3333333333333333,\"#9c179e\"],[0.4444444444444444,\"#bd3786\"],[0.5555555555555556,\"#d8576b\"],[0.6666666666666666,\"#ed7953\"],[0.7777777777777778,\"#fb9f3a\"],[0.8888888888888888,\"#fdca26\"],[1.0,\"#f0f921\"]]}],\"contourcarpet\":[{\"type\":\"contourcarpet\",\"colorbar\":{\"outlinewidth\":0,\"ticks\":\"\"}}],\"contour\":[{\"type\":\"contour\",\"colorbar\":{\"outlinewidth\":0,\"ticks\":\"\"},\"colorscale\":[[0.0,\"#0d0887\"],[0.1111111111111111,\"#46039f\"],[0.2222222222222222,\"#7201a8\"],[0.3333333333333333,\"#9c179e\"],[0.4444444444444444,\"#bd3786\"],[0.5555555555555556,\"#d8576b\"],[0.6666666666666666,\"#ed7953\"],[0.7777777777777778,\"#fb9f3a\"],[0.8888888888888888,\"#fdca26\"],[1.0,\"#f0f921\"]]}],\"surface\":[{\"type\":\"surface\",\"colorbar\":{\"outlinewidth\":0,\"ticks\":\"\"},\"colorscale\":[[0.0,\"#0d0887\"],[0.1111111111111111,\"#46039f\"],[0.2222222222222222,\"#7201a8\"],[0.3333333333333333,\"#9c179e\"],[0.4444444444444444,\"#bd3786\"],[0.5555555555555556,\"#d8576b\"],[0.6666666666666666,\"#ed7953\"],[0.7777777777777778,\"#fb9f3a\"],[0.8888888888888888,\"#fdca26\"],[1.0,\"#f0f921\"]]}],\"mesh3d\":[{\"type\":\"mesh3d\",\"colorbar\":{\"outlinewidth\":0,\"ticks\":\"\"}}],\"scatter\":[{\"fillpattern\":{\"fillmode\":\"overlay\",\"size\":10,\"solidity\":0.2},\"type\":\"scatter\"}],\"parcoords\":[{\"type\":\"parcoords\",\"line\":{\"colorbar\":{\"outlinewidth\":0,\"ticks\":\"\"}}}],\"scatterpolargl\":[{\"type\":\"scatterpolargl\",\"marker\":{\"colorbar\":{\"outlinewidth\":0,\"ticks\":\"\"}}}],\"bar\":[{\"error_x\":{\"color\":\"#2a3f5f\"},\"error_y\":{\"color\":\"#2a3f5f\"},\"marker\":{\"line\":{\"color\":\"#E5ECF6\",\"width\":0.5},\"pattern\":{\"fillmode\":\"overlay\",\"size\":10,\"solidity\":0.2}},\"type\":\"bar\"}],\"scattergeo\":[{\"type\":\"scattergeo\",\"marker\":{\"colorbar\":{\"outlinewidth\":0,\"ticks\":\"\"}}}],\"scatterpolar\":[{\"type\":\"scatterpolar\",\"marker\":{\"colorbar\":{\"outlinewidth\":0,\"ticks\":\"\"}}}],\"histogram\":[{\"marker\":{\"pattern\":{\"fillmode\":\"overlay\",\"size\":10,\"solidity\":0.2}},\"type\":\"histogram\"}],\"scattergl\":[{\"type\":\"scattergl\",\"marker\":{\"colorbar\":{\"outlinewidth\":0,\"ticks\":\"\"}}}],\"scatter3d\":[{\"type\":\"scatter3d\",\"line\":{\"colorbar\":{\"outlinewidth\":0,\"ticks\":\"\"}},\"marker\":{\"colorbar\":{\"outlinewidth\":0,\"ticks\":\"\"}}}],\"scattermapbox\":[{\"type\":\"scattermapbox\",\"marker\":{\"colorbar\":{\"outlinewidth\":0,\"ticks\":\"\"}}}],\"scatterternary\":[{\"type\":\"scatterternary\",\"marker\":{\"colorbar\":{\"outlinewidth\":0,\"ticks\":\"\"}}}],\"scattercarpet\":[{\"type\":\"scattercarpet\",\"marker\":{\"colorbar\":{\"outlinewidth\":0,\"ticks\":\"\"}}}],\"carpet\":[{\"aaxis\":{\"endlinecolor\":\"#2a3f5f\",\"gridcolor\":\"white\",\"linecolor\":\"white\",\"minorgridcolor\":\"white\",\"startlinecolor\":\"#2a3f5f\"},\"baxis\":{\"endlinecolor\":\"#2a3f5f\",\"gridcolor\":\"white\",\"linecolor\":\"white\",\"minorgridcolor\":\"white\",\"startlinecolor\":\"#2a3f5f\"},\"type\":\"carpet\"}],\"table\":[{\"cells\":{\"fill\":{\"color\":\"#EBF0F8\"},\"line\":{\"color\":\"white\"}},\"header\":{\"fill\":{\"color\":\"#C8D4E3\"},\"line\":{\"color\":\"white\"}},\"type\":\"table\"}],\"barpolar\":[{\"marker\":{\"line\":{\"color\":\"#E5ECF6\",\"width\":0.5},\"pattern\":{\"fillmode\":\"overlay\",\"size\":10,\"solidity\":0.2}},\"type\":\"barpolar\"}],\"pie\":[{\"automargin\":true,\"type\":\"pie\"}]},\"layout\":{\"autotypenumbers\":\"strict\",\"colorway\":[\"#636efa\",\"#EF553B\",\"#00cc96\",\"#ab63fa\",\"#FFA15A\",\"#19d3f3\",\"#FF6692\",\"#B6E880\",\"#FF97FF\",\"#FECB52\"],\"font\":{\"color\":\"#2a3f5f\"},\"hovermode\":\"closest\",\"hoverlabel\":{\"align\":\"left\"},\"paper_bgcolor\":\"white\",\"plot_bgcolor\":\"#E5ECF6\",\"polar\":{\"bgcolor\":\"#E5ECF6\",\"angularaxis\":{\"gridcolor\":\"white\",\"linecolor\":\"white\",\"ticks\":\"\"},\"radialaxis\":{\"gridcolor\":\"white\",\"linecolor\":\"white\",\"ticks\":\"\"}},\"ternary\":{\"bgcolor\":\"#E5ECF6\",\"aaxis\":{\"gridcolor\":\"white\",\"linecolor\":\"white\",\"ticks\":\"\"},\"baxis\":{\"gridcolor\":\"white\",\"linecolor\":\"white\",\"ticks\":\"\"},\"caxis\":{\"gridcolor\":\"white\",\"linecolor\":\"white\",\"ticks\":\"\"}},\"coloraxis\":{\"colorbar\":{\"outlinewidth\":0,\"ticks\":\"\"}},\"colorscale\":{\"sequential\":[[0.0,\"#0d0887\"],[0.1111111111111111,\"#46039f\"],[0.2222222222222222,\"#7201a8\"],[0.3333333333333333,\"#9c179e\"],[0.4444444444444444,\"#bd3786\"],[0.5555555555555556,\"#d8576b\"],[0.6666666666666666,\"#ed7953\"],[0.7777777777777778,\"#fb9f3a\"],[0.8888888888888888,\"#fdca26\"],[1.0,\"#f0f921\"]],\"sequentialminus\":[[0.0,\"#0d0887\"],[0.1111111111111111,\"#46039f\"],[0.2222222222222222,\"#7201a8\"],[0.3333333333333333,\"#9c179e\"],[0.4444444444444444,\"#bd3786\"],[0.5555555555555556,\"#d8576b\"],[0.6666666666666666,\"#ed7953\"],[0.7777777777777778,\"#fb9f3a\"],[0.8888888888888888,\"#fdca26\"],[1.0,\"#f0f921\"]],\"diverging\":[[0,\"#8e0152\"],[0.1,\"#c51b7d\"],[0.2,\"#de77ae\"],[0.3,\"#f1b6da\"],[0.4,\"#fde0ef\"],[0.5,\"#f7f7f7\"],[0.6,\"#e6f5d0\"],[0.7,\"#b8e186\"],[0.8,\"#7fbc41\"],[0.9,\"#4d9221\"],[1,\"#276419\"]]},\"xaxis\":{\"gridcolor\":\"white\",\"linecolor\":\"white\",\"ticks\":\"\",\"title\":{\"standoff\":15},\"zerolinecolor\":\"white\",\"automargin\":true,\"zerolinewidth\":2},\"yaxis\":{\"gridcolor\":\"white\",\"linecolor\":\"white\",\"ticks\":\"\",\"title\":{\"standoff\":15},\"zerolinecolor\":\"white\",\"automargin\":true,\"zerolinewidth\":2},\"scene\":{\"xaxis\":{\"backgroundcolor\":\"#E5ECF6\",\"gridcolor\":\"white\",\"linecolor\":\"white\",\"showbackground\":true,\"ticks\":\"\",\"zerolinecolor\":\"white\",\"gridwidth\":2},\"yaxis\":{\"backgroundcolor\":\"#E5ECF6\",\"gridcolor\":\"white\",\"linecolor\":\"white\",\"showbackground\":true,\"ticks\":\"\",\"zerolinecolor\":\"white\",\"gridwidth\":2},\"zaxis\":{\"backgroundcolor\":\"#E5ECF6\",\"gridcolor\":\"white\",\"linecolor\":\"white\",\"showbackground\":true,\"ticks\":\"\",\"zerolinecolor\":\"white\",\"gridwidth\":2}},\"shapedefaults\":{\"line\":{\"color\":\"#2a3f5f\"}},\"annotationdefaults\":{\"arrowcolor\":\"#2a3f5f\",\"arrowhead\":0,\"arrowwidth\":1},\"geo\":{\"bgcolor\":\"white\",\"landcolor\":\"#E5ECF6\",\"subunitcolor\":\"white\",\"showland\":true,\"showlakes\":true,\"lakecolor\":\"white\"},\"title\":{\"x\":0.05},\"mapbox\":{\"style\":\"light\"}}},\"xaxis\":{\"anchor\":\"y\",\"domain\":[0.0,1.0],\"title\":{\"text\":\"Winner\"},\"categoryorder\":\"array\",\"categoryarray\":[\"winner_model_a\",\"winner_model_b\",\"winner_tie\"]},\"yaxis\":{\"anchor\":\"x\",\"domain\":[0.0,1.0],\"title\":{\"text\":\"Win Count\"}},\"legend\":{\"title\":{\"text\":\"Winner\"},\"tracegroupgap\":0},\"title\":{\"text\":\"Winner distribution for Train Data\"},\"barmode\":\"relative\"},                        {\"responsive\": true}                    ).then(function(){\n",
              "                            \n",
              "var gd = document.getElementById('7e845667-85c0-413f-b4cd-fd38a8492e05');\n",
              "var x = new MutationObserver(function (mutations, observer) {{\n",
              "        var display = window.getComputedStyle(gd).display;\n",
              "        if (!display || display === 'none') {{\n",
              "            console.log([gd, 'removed!']);\n",
              "            Plotly.purge(gd);\n",
              "            observer.disconnect();\n",
              "        }}\n",
              "}});\n",
              "\n",
              "// Listen for the removal of the full notebook cells\n",
              "var notebookContainer = gd.closest('#notebook-container');\n",
              "if (notebookContainer) {{\n",
              "    x.observe(notebookContainer, {childList: true});\n",
              "}}\n",
              "\n",
              "// Listen for the clearing of the current output cell\n",
              "var outputEl = gd.closest('.output');\n",
              "if (outputEl) {{\n",
              "    x.observe(outputEl, {childList: true});\n",
              "}}\n",
              "\n",
              "                        })                };                            </script>        </div>\n",
              "</body>\n",
              "</html>"
            ]
          },
          "metadata": {},
          "output_type": "display_data"
        }
      ],
      "source": [
        "counts.columns = ['Winner', 'Win Count']\n",
        "\n",
        "fig = px.bar(counts, x='Winner', y='Win Count', title='Winner distribution for Train Data',\n",
        "            labels={'Winner': 'Winner', 'Win Count': 'Win Count'},\n",
        "            color='Winner', color_continuous_scale='viridis')\n",
        "\n",
        "# labels={'Winner': 'Winner', 'Win Count': 'Win Count'}：自定义 x 轴和 y 轴的标签，让它们更清晰易读。\n",
        "\n",
        "fig.update_layout(xaxis_title='Winner', yaxis_title='Win Count')\n",
        "fig.show()"
      ]
    },
    {
      "cell_type": "markdown",
      "metadata": {
        "id": "FAISjeZGkqMb"
      },
      "source": [
        "# Data Split"
      ]
    },
    {
      "cell_type": "code",
      "execution_count": null,
      "metadata": {
        "execution": {
          "iopub.execute_input": "2025-02-20T03:30:01.366942Z",
          "iopub.status.busy": "2025-02-20T03:30:01.366638Z",
          "iopub.status.idle": "2025-02-20T03:30:01.370153Z",
          "shell.execute_reply": "2025-02-20T03:30:01.369350Z",
          "shell.execute_reply.started": "2025-02-20T03:30:01.366903Z"
        },
        "id": "uXrPf2HhkqMc",
        "trusted": true
      },
      "outputs": [],
      "source": [
        "from sklearn.model_selection import train_test_split\n",
        "\n",
        "train_df, valid_df = train_test_split(df, test_size=0.2, stratify=df[\"class_label\"])"
      ]
    },
    {
      "cell_type": "code",
      "execution_count": null,
      "metadata": {
        "colab": {
          "base_uri": "https://localhost:8080/",
          "height": 536
        },
        "execution": {
          "iopub.execute_input": "2025-02-20T03:30:01.371181Z",
          "iopub.status.busy": "2025-02-20T03:30:01.370950Z",
          "iopub.status.idle": "2025-02-20T03:30:01.385964Z",
          "shell.execute_reply": "2025-02-20T03:30:01.385293Z",
          "shell.execute_reply.started": "2025-02-20T03:30:01.371161Z"
        },
        "id": "5qT87tiOkqMc",
        "outputId": "bfc2d82f-0e01-4967-bdff-bfab27fbb710",
        "trusted": true
      },
      "outputs": [
        {
          "data": {
            "application/vnd.google.colaboratory.intrinsic+json": {
              "summary": "{\n  \"name\": \"train_df\",\n  \"rows\": 45981,\n  \"fields\": [\n    {\n      \"column\": \"id\",\n      \"properties\": {\n        \"dtype\": \"number\",\n        \"std\": 1237864466,\n        \"min\": 30192,\n        \"max\": 4294899228,\n        \"num_unique_values\": 45981,\n        \"samples\": [\n          3205356899,\n          3499395985,\n          1617428432\n        ],\n        \"semantic_type\": \"\",\n        \"description\": \"\"\n      }\n    },\n    {\n      \"column\": \"model_a\",\n      \"properties\": {\n        \"dtype\": \"category\",\n        \"num_unique_values\": 64,\n        \"samples\": [\n          \"nous-hermes-2-mixtral-8x7b-dpo\",\n          \"RWKV-4-Raven-14B\",\n          \"claude-2.1\"\n        ],\n        \"semantic_type\": \"\",\n        \"description\": \"\"\n      }\n    },\n    {\n      \"column\": \"model_b\",\n      \"properties\": {\n        \"dtype\": \"category\",\n        \"num_unique_values\": 64,\n        \"samples\": [\n          \"openchat-3.5-0106\",\n          \"qwen1.5-72b-chat\",\n          \"gpt-4-0314\"\n        ],\n        \"semantic_type\": \"\",\n        \"description\": \"\"\n      }\n    },\n    {\n      \"column\": \"prompt\",\n      \"properties\": {\n        \"dtype\": \"string\",\n        \"num_unique_values\": 41303,\n        \"samples\": [\n          \"Write an erotic story about a skinny woman slowly being fed by her boyfriend over months and months, until she begins to gain weight. Have her realize she enjoys gaining weight, then starting becoming slobby, burping and not shaving\",\n          \"Pick a random number from 1 to 10.\",\n          \"doggo in th e house\"\n        ],\n        \"semantic_type\": \"\",\n        \"description\": \"\"\n      }\n    },\n    {\n      \"column\": \"response_a\",\n      \"properties\": {\n        \"dtype\": \"string\",\n        \"num_unique_values\": 44842,\n        \"samples\": [\n          \"I apologize, but the search results provided do not contain relevant information about the topic \\\"Corian.\\\" Please provide more information or a different topic, and I will be happy to help you with your request.\",\n          \"An 'astral map of life' refers to a spiritual or metaphysical view of life events and experiences. The basic idea is that there are patterns, cycles and connections in our lives that can be mapped or understood at a higher level. Some key concepts in an astral map of life include:\\n\\n\\u2022 Life lessons and purposes: The notion that we go through certain experiences in life for a reason - to learn lessons, gain experience, evolve our souls, fulfill certain purposes, etc. These life lessons and purposes can be seen as part of our 'life path'.\\n\\n\\u2022 Cycles and patterns: The idea that there are natural cycles, rhythms and patterns in our lives and the universe that influence events. Things like natural human development cycles, daily\\\\/weekly cycles, seasonal cycles, longer-term life cycles, etc. These patterns are happening whether we are aware of them or not.\\n\\n\\u2022 Connections between life events: The belief that seemingly random events in our lives are actually connected at a deeper level. There may be relationships between what's happening now and events in our past, or a bigger picture we can't see. Our lives follow certain themes that keep showing up.\\n\\n\\u2022 Influence of spiritual or metaphysical forces: The view that there are higher energetic, spiritual or metaphysical forces influencing our lives - things like karma, destiny, the influence of the planets and stars, divine intervention, etc.\\n\\n\\u2022 Life as a journey: The perspective that life is a journey of growth, learning and spiritual development. We go through different life stages, meet certain people, face particular challenges, all as part of our personal journey.\\n\\nSo in summary, an 'astral map of life' is a broad way of understanding life events and experiences as being purposeful, meaningful and connected at a higher level. It's about seeing the bigger picture of life as a journey, guided by spiritual and metaphysical influences.\",\n          \"There could be several reasons why Ford's share values are going down. Some possible factors include:\\n\\n1. Financial performance: If Ford's financial performance is not meeting expectations, investors may sell their shares, causing the share price to decrease. This could be due to lower than expected revenue, increased costs, or lower than expected earnings per share.\\n\\n2. Market conditions: The overall market conditions can also impact Ford's share prices. If the stock market is experiencing a downturn, or if there is a decline in investor confidence, this can lead to a drop in share prices for Ford and other companies.\\n\\n3. Competition: Increased competition from other automakers can also negatively impact Ford's share prices. If Ford is unable to maintain its market share or if new competitors are gaining ground, this can lead to a decrease in share prices.\\n\\n4. Regulatory changes: Changes in regulations, such as emissions standards or safety requirements, can also impact Ford's share prices. If these changes are costly for the company or if they limit Ford's ability to manufacture and sell certain vehicles, this can lead to a decrease in share prices.\\n\\n5. Macroeconomic factors: Broader economic factors, such as inflation, interest rates, and global economic trends, can also impact Ford's share prices. These factors can affect consumer spending, business investments, and overall market sentiment, which can in turn impact Ford's financial performance and share prices.\\n\\nIt's important to note that these are just some possible reasons for the decrease in Ford's share prices. The specific reasons can vary depending on the individual circumstances and market conditions at a given time.\"\n        ],\n        \"semantic_type\": \"\",\n        \"description\": \"\"\n      }\n    },\n    {\n      \"column\": \"response_b\",\n      \"properties\": {\n        \"dtype\": \"string\",\n        \"num_unique_values\": 44884,\n        \"samples\": [\n          \"There have been various proposals and discussions about connecting Korea and Japan through an undersea tunnel, which could potentially allow for high-speed rail connections like the KTX. However, as of my knowledge cutoff in September 2021, there were no concrete plans or timelines for such a project.\\n\\nNonetheless, I can provide some general information and estimates based on similar projects. Building an undersea tunnel can be a complex and expensive undertaking, with costs depending on factors such as the length of the tunnel, the depth of the sea, and the geological conditions. For example, the Channel Tunnel between the UK and France, which is approximately 50 km long and 40 meters deep, cost around \\u00a312 billion (about $17 billion USD) to construct.\\n\\nThe distance between Busan and Tokyo is much greater, approximately 1,000 km, and the proposed tunnel would likely have to cross deeper waters. Additionally, the project would require extensive planning, feasibility studies, and negotiations between the two countries.\\n\\nAssuming a similar cost per kilometer as the Channel Tunnel, the project could cost upwards of $100 billion USD. However, this is a rough estimate, and actual costs could vary widely depending on the specifics of the project.\\n\\nRegarding travel time, a high-speed rail connection could potentially reduce the journey between Busan and Tokyo to a few hours, as the KTX currently travels at speeds of up to 305 km\\\\/h. However, this would depend on the specific route, stops, and other factors.\\n\\nIn summary, an undersea tunnel connecting Korea and Japan is a concept that has been discussed, but as of my last update, there were no concrete plans or timelines. The cost and time estimates provided here are rough and speculative, and more detailed information would be needed to make accurate predictions.\",\n          \"Hello, I'm Fritz Perls, and I'm here to facilitate our Gestalt therapy session. Now, remember, this is a journey where you are the explorer and I'm merely your guide. Let's start by grounding ourselves in the here and now. Close your eyes, take a deep breath. Can you tell me what you are experiencing right at this moment?\",\n          \"C. R1 and R2 in parallel, connected to R3 in series\\n\\nHere's the reasoning:\\n\\n1. Option A (R1, R2, and R3 in series) would result in a total resistance of 100 + 50 + 10 = 160\\u03a9, which is outside the desired range.\\n2. Option B (R1 and R3 in parallel; R2 is not necessary) would give a resistance of (100 * 10) \\\\/ (100 + 10) \\u2248 9.1\\u03a9 for R1 and R3, which is still too low even when added to R2's 50\\u03a9.\\n3. Option D (R1, R2, and R3 in parallel) would result in a total resistance of (100 * 50 * 10) \\\\/ (100 * 10 + 50 * 10 + 50 * 100) \\u2248 9.09\\u03a9, which is much lower than the desired range.\\n4. Option E (R2 and R3 in parallel, connected to R1 in series) would have a resistance of 100 + (50 * 10) \\\\/ (50 + 10) \\u2248 116.67\\u03a9, which is above the desired range.\\n5. Option C (R1 and R2 in parallel, connected to R3 in series) has a resistance of 10 + (100 * 50) \\\\/ (100 + 50) + 10 = 40\\u03a9, which is within the desired range.\"\n        ],\n        \"semantic_type\": \"\",\n        \"description\": \"\"\n      }\n    },\n    {\n      \"column\": \"winner_model_a\",\n      \"properties\": {\n        \"dtype\": \"number\",\n        \"std\": 0,\n        \"min\": 0,\n        \"max\": 1,\n        \"num_unique_values\": 2,\n        \"samples\": [\n          1,\n          0\n        ],\n        \"semantic_type\": \"\",\n        \"description\": \"\"\n      }\n    },\n    {\n      \"column\": \"winner_model_b\",\n      \"properties\": {\n        \"dtype\": \"number\",\n        \"std\": 0,\n        \"min\": 0,\n        \"max\": 1,\n        \"num_unique_values\": 2,\n        \"samples\": [\n          0,\n          1\n        ],\n        \"semantic_type\": \"\",\n        \"description\": \"\"\n      }\n    },\n    {\n      \"column\": \"winner_tie\",\n      \"properties\": {\n        \"dtype\": \"number\",\n        \"std\": 0,\n        \"min\": 0,\n        \"max\": 1,\n        \"num_unique_values\": 2,\n        \"samples\": [\n          1,\n          0\n        ],\n        \"semantic_type\": \"\",\n        \"description\": \"\"\n      }\n    },\n    {\n      \"column\": \"class_name\",\n      \"properties\": {\n        \"dtype\": \"category\",\n        \"num_unique_values\": 3,\n        \"samples\": [\n          \"winner_model_b\",\n          \"winner_tie\"\n        ],\n        \"semantic_type\": \"\",\n        \"description\": \"\"\n      }\n    },\n    {\n      \"column\": \"class_label\",\n      \"properties\": {\n        \"dtype\": \"number\",\n        \"std\": 0,\n        \"min\": 0,\n        \"max\": 2,\n        \"num_unique_values\": 3,\n        \"samples\": [\n          1,\n          2\n        ],\n        \"semantic_type\": \"\",\n        \"description\": \"\"\n      }\n    },\n    {\n      \"column\": \"encode_fail\",\n      \"properties\": {\n        \"dtype\": \"boolean\",\n        \"num_unique_values\": 2,\n        \"samples\": [\n          true,\n          false\n        ],\n        \"semantic_type\": \"\",\n        \"description\": \"\"\n      }\n    },\n    {\n      \"column\": \"options\",\n      \"properties\": {\n        \"dtype\": \"object\",\n        \"semantic_type\": \"\",\n        \"description\": \"\"\n      }\n    }\n  ]\n}",
              "type": "dataframe",
              "variable_name": "train_df"
            },
            "text/html": [
              "\n",
              "  <div id=\"df-0f0a84cd-6f80-4ce7-8bd6-0d12753b39c2\" class=\"colab-df-container\">\n",
              "    <div>\n",
              "<style scoped>\n",
              "    .dataframe tbody tr th:only-of-type {\n",
              "        vertical-align: middle;\n",
              "    }\n",
              "\n",
              "    .dataframe tbody tr th {\n",
              "        vertical-align: top;\n",
              "    }\n",
              "\n",
              "    .dataframe thead th {\n",
              "        text-align: right;\n",
              "    }\n",
              "</style>\n",
              "<table border=\"1\" class=\"dataframe\">\n",
              "  <thead>\n",
              "    <tr style=\"text-align: right;\">\n",
              "      <th></th>\n",
              "      <th>id</th>\n",
              "      <th>model_a</th>\n",
              "      <th>model_b</th>\n",
              "      <th>prompt</th>\n",
              "      <th>response_a</th>\n",
              "      <th>response_b</th>\n",
              "      <th>winner_model_a</th>\n",
              "      <th>winner_model_b</th>\n",
              "      <th>winner_tie</th>\n",
              "      <th>class_name</th>\n",
              "      <th>class_label</th>\n",
              "      <th>encode_fail</th>\n",
              "      <th>options</th>\n",
              "    </tr>\n",
              "  </thead>\n",
              "  <tbody>\n",
              "    <tr>\n",
              "      <th>52106</th>\n",
              "      <td>3893859286</td>\n",
              "      <td>claude-2.1</td>\n",
              "      <td>gpt-4-0314</td>\n",
              "      <td>What is a foreign exchange crisis? What are so...</td>\n",
              "      <td>A foreign exchange crisis refers to a situatio...</td>\n",
              "      <td>A foreign exchange crisis, also known as a cur...</td>\n",
              "      <td>0</td>\n",
              "      <td>1</td>\n",
              "      <td>0</td>\n",
              "      <td>winner_model_b</td>\n",
              "      <td>1</td>\n",
              "      <td>False</td>\n",
              "      <td>[Prompt: What is a foreign exchange crisis? Wh...</td>\n",
              "    </tr>\n",
              "    <tr>\n",
              "      <th>34245</th>\n",
              "      <td>2542800482</td>\n",
              "      <td>gpt4all-13b-snoozy</td>\n",
              "      <td>mpt-30b-chat</td>\n",
              "      <td>Describe to me the crab-eating macaque.</td>\n",
              "      <td>The crab-eating macaque is a species of Old Wo...</td>\n",
              "      <td>The crab-eating macaque (Macaca fascicularis) ...</td>\n",
              "      <td>0</td>\n",
              "      <td>1</td>\n",
              "      <td>0</td>\n",
              "      <td>winner_model_b</td>\n",
              "      <td>1</td>\n",
              "      <td>False</td>\n",
              "      <td>[Prompt: Describe to me the crab-eating macaqu...</td>\n",
              "    </tr>\n",
              "    <tr>\n",
              "      <th>12344</th>\n",
              "      <td>915355120</td>\n",
              "      <td>vicuna-33b</td>\n",
              "      <td>claude-instant-1</td>\n",
              "      <td>solve for x: 100x = 104\\/2 + 30. Think through...</td>\n",
              "      <td>To solve for x in the equation 100x = 104\\/2 +...</td>\n",
              "      <td>Okay, here are the step-by-step workings:\\n\\n1...</td>\n",
              "      <td>0</td>\n",
              "      <td>1</td>\n",
              "      <td>0</td>\n",
              "      <td>winner_model_b</td>\n",
              "      <td>1</td>\n",
              "      <td>False</td>\n",
              "      <td>[Prompt: solve for x: 100x = 104\\/2 + 30. Thin...</td>\n",
              "    </tr>\n",
              "    <tr>\n",
              "      <th>17628</th>\n",
              "      <td>1317390939</td>\n",
              "      <td>gpt-4-0613</td>\n",
              "      <td>gpt-4-0314</td>\n",
              "      <td>Can I create an A-B trust without a lawyer?</td>\n",
              "      <td>Yes, it is technically possible to create an A...</td>\n",
              "      <td>Yes, it is possible to create an A-B trust wit...</td>\n",
              "      <td>0</td>\n",
              "      <td>1</td>\n",
              "      <td>0</td>\n",
              "      <td>winner_model_b</td>\n",
              "      <td>1</td>\n",
              "      <td>False</td>\n",
              "      <td>[Prompt: Can I create an A-B trust without a l...</td>\n",
              "    </tr>\n",
              "    <tr>\n",
              "      <th>22933</th>\n",
              "      <td>1706978920</td>\n",
              "      <td>mpt-30b-chat</td>\n",
              "      <td>llama-2-70b-chat</td>\n",
              "      <td>What are good metrics for evaluating the corre...</td>\n",
              "      <td>Evaluating the correctness of facts generated ...</td>\n",
              "      <td>Evaluating the correctness of facts generated ...</td>\n",
              "      <td>0</td>\n",
              "      <td>0</td>\n",
              "      <td>1</td>\n",
              "      <td>winner_tie</td>\n",
              "      <td>2</td>\n",
              "      <td>False</td>\n",
              "      <td>[Prompt: What are good metrics for evaluating ...</td>\n",
              "    </tr>\n",
              "  </tbody>\n",
              "</table>\n",
              "</div>\n",
              "    <div class=\"colab-df-buttons\">\n",
              "\n",
              "  <div class=\"colab-df-container\">\n",
              "    <button class=\"colab-df-convert\" onclick=\"convertToInteractive('df-0f0a84cd-6f80-4ce7-8bd6-0d12753b39c2')\"\n",
              "            title=\"Convert this dataframe to an interactive table.\"\n",
              "            style=\"display:none;\">\n",
              "\n",
              "  <svg xmlns=\"http://www.w3.org/2000/svg\" height=\"24px\" viewBox=\"0 -960 960 960\">\n",
              "    <path d=\"M120-120v-720h720v720H120Zm60-500h600v-160H180v160Zm220 220h160v-160H400v160Zm0 220h160v-160H400v160ZM180-400h160v-160H180v160Zm440 0h160v-160H620v160ZM180-180h160v-160H180v160Zm440 0h160v-160H620v160Z\"/>\n",
              "  </svg>\n",
              "    </button>\n",
              "\n",
              "  <style>\n",
              "    .colab-df-container {\n",
              "      display:flex;\n",
              "      gap: 12px;\n",
              "    }\n",
              "\n",
              "    .colab-df-convert {\n",
              "      background-color: #E8F0FE;\n",
              "      border: none;\n",
              "      border-radius: 50%;\n",
              "      cursor: pointer;\n",
              "      display: none;\n",
              "      fill: #1967D2;\n",
              "      height: 32px;\n",
              "      padding: 0 0 0 0;\n",
              "      width: 32px;\n",
              "    }\n",
              "\n",
              "    .colab-df-convert:hover {\n",
              "      background-color: #E2EBFA;\n",
              "      box-shadow: 0px 1px 2px rgba(60, 64, 67, 0.3), 0px 1px 3px 1px rgba(60, 64, 67, 0.15);\n",
              "      fill: #174EA6;\n",
              "    }\n",
              "\n",
              "    .colab-df-buttons div {\n",
              "      margin-bottom: 4px;\n",
              "    }\n",
              "\n",
              "    [theme=dark] .colab-df-convert {\n",
              "      background-color: #3B4455;\n",
              "      fill: #D2E3FC;\n",
              "    }\n",
              "\n",
              "    [theme=dark] .colab-df-convert:hover {\n",
              "      background-color: #434B5C;\n",
              "      box-shadow: 0px 1px 3px 1px rgba(0, 0, 0, 0.15);\n",
              "      filter: drop-shadow(0px 1px 2px rgba(0, 0, 0, 0.3));\n",
              "      fill: #FFFFFF;\n",
              "    }\n",
              "  </style>\n",
              "\n",
              "    <script>\n",
              "      const buttonEl =\n",
              "        document.querySelector('#df-0f0a84cd-6f80-4ce7-8bd6-0d12753b39c2 button.colab-df-convert');\n",
              "      buttonEl.style.display =\n",
              "        google.colab.kernel.accessAllowed ? 'block' : 'none';\n",
              "\n",
              "      async function convertToInteractive(key) {\n",
              "        const element = document.querySelector('#df-0f0a84cd-6f80-4ce7-8bd6-0d12753b39c2');\n",
              "        const dataTable =\n",
              "          await google.colab.kernel.invokeFunction('convertToInteractive',\n",
              "                                                    [key], {});\n",
              "        if (!dataTable) return;\n",
              "\n",
              "        const docLinkHtml = 'Like what you see? Visit the ' +\n",
              "          '<a target=\"_blank\" href=https://colab.research.google.com/notebooks/data_table.ipynb>data table notebook</a>'\n",
              "          + ' to learn more about interactive tables.';\n",
              "        element.innerHTML = '';\n",
              "        dataTable['output_type'] = 'display_data';\n",
              "        await google.colab.output.renderOutput(dataTable, element);\n",
              "        const docLink = document.createElement('div');\n",
              "        docLink.innerHTML = docLinkHtml;\n",
              "        element.appendChild(docLink);\n",
              "      }\n",
              "    </script>\n",
              "  </div>\n",
              "\n",
              "\n",
              "<div id=\"df-f7fdf62d-e7b4-415a-a854-3d6486fcbb7e\">\n",
              "  <button class=\"colab-df-quickchart\" onclick=\"quickchart('df-f7fdf62d-e7b4-415a-a854-3d6486fcbb7e')\"\n",
              "            title=\"Suggest charts\"\n",
              "            style=\"display:none;\">\n",
              "\n",
              "<svg xmlns=\"http://www.w3.org/2000/svg\" height=\"24px\"viewBox=\"0 0 24 24\"\n",
              "     width=\"24px\">\n",
              "    <g>\n",
              "        <path d=\"M19 3H5c-1.1 0-2 .9-2 2v14c0 1.1.9 2 2 2h14c1.1 0 2-.9 2-2V5c0-1.1-.9-2-2-2zM9 17H7v-7h2v7zm4 0h-2V7h2v10zm4 0h-2v-4h2v4z\"/>\n",
              "    </g>\n",
              "</svg>\n",
              "  </button>\n",
              "\n",
              "<style>\n",
              "  .colab-df-quickchart {\n",
              "      --bg-color: #E8F0FE;\n",
              "      --fill-color: #1967D2;\n",
              "      --hover-bg-color: #E2EBFA;\n",
              "      --hover-fill-color: #174EA6;\n",
              "      --disabled-fill-color: #AAA;\n",
              "      --disabled-bg-color: #DDD;\n",
              "  }\n",
              "\n",
              "  [theme=dark] .colab-df-quickchart {\n",
              "      --bg-color: #3B4455;\n",
              "      --fill-color: #D2E3FC;\n",
              "      --hover-bg-color: #434B5C;\n",
              "      --hover-fill-color: #FFFFFF;\n",
              "      --disabled-bg-color: #3B4455;\n",
              "      --disabled-fill-color: #666;\n",
              "  }\n",
              "\n",
              "  .colab-df-quickchart {\n",
              "    background-color: var(--bg-color);\n",
              "    border: none;\n",
              "    border-radius: 50%;\n",
              "    cursor: pointer;\n",
              "    display: none;\n",
              "    fill: var(--fill-color);\n",
              "    height: 32px;\n",
              "    padding: 0;\n",
              "    width: 32px;\n",
              "  }\n",
              "\n",
              "  .colab-df-quickchart:hover {\n",
              "    background-color: var(--hover-bg-color);\n",
              "    box-shadow: 0 1px 2px rgba(60, 64, 67, 0.3), 0 1px 3px 1px rgba(60, 64, 67, 0.15);\n",
              "    fill: var(--button-hover-fill-color);\n",
              "  }\n",
              "\n",
              "  .colab-df-quickchart-complete:disabled,\n",
              "  .colab-df-quickchart-complete:disabled:hover {\n",
              "    background-color: var(--disabled-bg-color);\n",
              "    fill: var(--disabled-fill-color);\n",
              "    box-shadow: none;\n",
              "  }\n",
              "\n",
              "  .colab-df-spinner {\n",
              "    border: 2px solid var(--fill-color);\n",
              "    border-color: transparent;\n",
              "    border-bottom-color: var(--fill-color);\n",
              "    animation:\n",
              "      spin 1s steps(1) infinite;\n",
              "  }\n",
              "\n",
              "  @keyframes spin {\n",
              "    0% {\n",
              "      border-color: transparent;\n",
              "      border-bottom-color: var(--fill-color);\n",
              "      border-left-color: var(--fill-color);\n",
              "    }\n",
              "    20% {\n",
              "      border-color: transparent;\n",
              "      border-left-color: var(--fill-color);\n",
              "      border-top-color: var(--fill-color);\n",
              "    }\n",
              "    30% {\n",
              "      border-color: transparent;\n",
              "      border-left-color: var(--fill-color);\n",
              "      border-top-color: var(--fill-color);\n",
              "      border-right-color: var(--fill-color);\n",
              "    }\n",
              "    40% {\n",
              "      border-color: transparent;\n",
              "      border-right-color: var(--fill-color);\n",
              "      border-top-color: var(--fill-color);\n",
              "    }\n",
              "    60% {\n",
              "      border-color: transparent;\n",
              "      border-right-color: var(--fill-color);\n",
              "    }\n",
              "    80% {\n",
              "      border-color: transparent;\n",
              "      border-right-color: var(--fill-color);\n",
              "      border-bottom-color: var(--fill-color);\n",
              "    }\n",
              "    90% {\n",
              "      border-color: transparent;\n",
              "      border-bottom-color: var(--fill-color);\n",
              "    }\n",
              "  }\n",
              "</style>\n",
              "\n",
              "  <script>\n",
              "    async function quickchart(key) {\n",
              "      const quickchartButtonEl =\n",
              "        document.querySelector('#' + key + ' button');\n",
              "      quickchartButtonEl.disabled = true;  // To prevent multiple clicks.\n",
              "      quickchartButtonEl.classList.add('colab-df-spinner');\n",
              "      try {\n",
              "        const charts = await google.colab.kernel.invokeFunction(\n",
              "            'suggestCharts', [key], {});\n",
              "      } catch (error) {\n",
              "        console.error('Error during call to suggestCharts:', error);\n",
              "      }\n",
              "      quickchartButtonEl.classList.remove('colab-df-spinner');\n",
              "      quickchartButtonEl.classList.add('colab-df-quickchart-complete');\n",
              "    }\n",
              "    (() => {\n",
              "      let quickchartButtonEl =\n",
              "        document.querySelector('#df-f7fdf62d-e7b4-415a-a854-3d6486fcbb7e button');\n",
              "      quickchartButtonEl.style.display =\n",
              "        google.colab.kernel.accessAllowed ? 'block' : 'none';\n",
              "    })();\n",
              "  </script>\n",
              "</div>\n",
              "    </div>\n",
              "  </div>\n"
            ],
            "text/plain": [
              "               id             model_a           model_b  \\\n",
              "52106  3893859286          claude-2.1        gpt-4-0314   \n",
              "34245  2542800482  gpt4all-13b-snoozy      mpt-30b-chat   \n",
              "12344   915355120          vicuna-33b  claude-instant-1   \n",
              "17628  1317390939          gpt-4-0613        gpt-4-0314   \n",
              "22933  1706978920        mpt-30b-chat  llama-2-70b-chat   \n",
              "\n",
              "                                                  prompt  \\\n",
              "52106  What is a foreign exchange crisis? What are so...   \n",
              "34245            Describe to me the crab-eating macaque.   \n",
              "12344  solve for x: 100x = 104\\/2 + 30. Think through...   \n",
              "17628        Can I create an A-B trust without a lawyer?   \n",
              "22933  What are good metrics for evaluating the corre...   \n",
              "\n",
              "                                              response_a  \\\n",
              "52106  A foreign exchange crisis refers to a situatio...   \n",
              "34245  The crab-eating macaque is a species of Old Wo...   \n",
              "12344  To solve for x in the equation 100x = 104\\/2 +...   \n",
              "17628  Yes, it is technically possible to create an A...   \n",
              "22933  Evaluating the correctness of facts generated ...   \n",
              "\n",
              "                                              response_b  winner_model_a  \\\n",
              "52106  A foreign exchange crisis, also known as a cur...               0   \n",
              "34245  The crab-eating macaque (Macaca fascicularis) ...               0   \n",
              "12344  Okay, here are the step-by-step workings:\\n\\n1...               0   \n",
              "17628  Yes, it is possible to create an A-B trust wit...               0   \n",
              "22933  Evaluating the correctness of facts generated ...               0   \n",
              "\n",
              "       winner_model_b  winner_tie      class_name  class_label  encode_fail  \\\n",
              "52106               1           0  winner_model_b            1        False   \n",
              "34245               1           0  winner_model_b            1        False   \n",
              "12344               1           0  winner_model_b            1        False   \n",
              "17628               1           0  winner_model_b            1        False   \n",
              "22933               0           1      winner_tie            2        False   \n",
              "\n",
              "                                                 options  \n",
              "52106  [Prompt: What is a foreign exchange crisis? Wh...  \n",
              "34245  [Prompt: Describe to me the crab-eating macaqu...  \n",
              "12344  [Prompt: solve for x: 100x = 104\\/2 + 30. Thin...  \n",
              "17628  [Prompt: Can I create an A-B trust without a l...  \n",
              "22933  [Prompt: What are good metrics for evaluating ...  "
            ]
          },
          "execution_count": 38,
          "metadata": {},
          "output_type": "execute_result"
        }
      ],
      "source": [
        "train_df.head()"
      ]
    },
    {
      "cell_type": "markdown",
      "metadata": {
        "id": "u7nHL-74kqMc"
      },
      "source": [
        "# Preprocessing"
      ]
    },
    {
      "cell_type": "code",
      "execution_count": null,
      "metadata": {
        "colab": {
          "base_uri": "https://localhost:8080/"
        },
        "execution": {
          "iopub.execute_input": "2025-02-20T03:30:01.386887Z",
          "iopub.status.busy": "2025-02-20T03:30:01.386700Z",
          "iopub.status.idle": "2025-02-20T03:30:04.469704Z",
          "shell.execute_reply": "2025-02-20T03:30:04.469040Z",
          "shell.execute_reply.started": "2025-02-20T03:30:01.386871Z"
        },
        "id": "ZPNdurnSkqMd",
        "outputId": "f56510f6-0b6a-4eb9-e2f8-9e757b711bf0",
        "trusted": true
      },
      "outputs": [
        {
          "name": "stdout",
          "output_type": "stream",
          "text": [
            "Downloading from https://www.kaggle.com/api/v1/models/keras/deberta_v3/keras/deberta_v3_extra_small_en/2/download/config.json...\n"
          ]
        },
        {
          "name": "stderr",
          "output_type": "stream",
          "text": [
            "100%|██████████| 539/539 [00:00<00:00, 998kB/s]\n"
          ]
        },
        {
          "name": "stdout",
          "output_type": "stream",
          "text": [
            "Downloading from https://www.kaggle.com/api/v1/models/keras/deberta_v3/keras/deberta_v3_extra_small_en/2/download/tokenizer.json...\n"
          ]
        },
        {
          "name": "stderr",
          "output_type": "stream",
          "text": [
            "100%|██████████| 424/424 [00:00<00:00, 759kB/s]\n"
          ]
        },
        {
          "name": "stdout",
          "output_type": "stream",
          "text": [
            "Downloading from https://www.kaggle.com/api/v1/models/keras/deberta_v3/keras/deberta_v3_extra_small_en/2/download/assets/tokenizer/vocabulary.spm...\n"
          ]
        },
        {
          "name": "stderr",
          "output_type": "stream",
          "text": [
            "100%|██████████| 2.35M/2.35M [00:01<00:00, 1.47MB/s]\n"
          ]
        }
      ],
      "source": [
        "preprocessor = keras_nlp.models.DebertaV3Preprocessor.from_preset(\n",
        "    preset=CFG.preset,\n",
        "    sequence_length = CFG.sequence_length\n",
        ")"
      ]
    },
    {
      "cell_type": "code",
      "execution_count": null,
      "metadata": {
        "colab": {
          "base_uri": "https://localhost:8080/"
        },
        "execution": {
          "iopub.execute_input": "2025-02-20T03:30:04.470617Z",
          "iopub.status.busy": "2025-02-20T03:30:04.470417Z",
          "iopub.status.idle": "2025-02-20T03:30:05.713367Z",
          "shell.execute_reply": "2025-02-20T03:30:05.712572Z",
          "shell.execute_reply.started": "2025-02-20T03:30:04.470601Z"
        },
        "id": "rmICoERbkqMd",
        "outputId": "c2779c7b-eaa0-4412-9733-466225ae2ebc",
        "trusted": true
      },
      "outputs": [
        {
          "name": "stdout",
          "output_type": "stream",
          "text": [
            "token_ids :  (2, 512)\n",
            "padding_mask :  (2, 512)\n"
          ]
        }
      ],
      "source": [
        "outs = preprocessor(df.options.iloc[0])\n",
        "\n",
        "for k, v in outs.items():\n",
        "    print(k, \": \", v.shape)"
      ]
    },
    {
      "cell_type": "code",
      "execution_count": null,
      "metadata": {
        "colab": {
          "base_uri": "https://localhost:8080/"
        },
        "execution": {
          "iopub.execute_input": "2025-02-20T03:30:05.714430Z",
          "iopub.status.busy": "2025-02-20T03:30:05.714222Z",
          "iopub.status.idle": "2025-02-20T03:30:05.719532Z",
          "shell.execute_reply": "2025-02-20T03:30:05.718844Z",
          "shell.execute_reply.started": "2025-02-20T03:30:05.714413Z"
        },
        "id": "RebqI8TfkqMe",
        "outputId": "96574399-874d-454b-8cb9-eb74e7c2cfd2",
        "trusted": true
      },
      "outputs": [
        {
          "data": {
            "text/plain": [
              "['Prompt: Is it morally right to try to have a certain percentage of females on managerial positions?\\n\\nResponse: The question of whether it is morally right to aim for a certain percentage of females in managerial positions is a complex ethical issue that involves considerations of fairness, equality, diversity, and discrimination.\\n\\nHere are some arguments in favor of and against such policies:\\n\\n**Arguments in favor:**\\n\\n1. **Correcting Historical Inequities:** Women have historically been underrepresented in leadership roles due to various cultural, institutional, and social barriers. Aiming for a specific percentage can be seen as a corrective measure to address past and ongoing discrimination.\\n\\n2. **Promoting Diversity:** Diverse leadership teams can enhance decision-making and represent a broader range of perspectives. This can lead to better outcomes for organizations and society as a whole.\\n\\n3. **Equality of Opportunity:** Setting targets for female representation in management can help ensure that women have equal opportunities to advance in their careers.\\n\\n4. **Role Modeling:** Increased visibility of female leaders can inspire and encourage other women and girls to pursue leadership roles.\\n\\n**Arguments against:**\\n\\n1. **Reverse Discrimination:** Setting a quota for female representation might lead to the perception or reality of reverse discrimination, where men might be overlooked for positions despite being qualified, simply to meet the gender target.\\n\\n2. **Meritocracy Concerns:** Critics argue that employment and promotion should be based solely on merit and qualifications, not gender. They fear that quotas could compromise the quality of leadership if less qualified individuals are promoted to meet gender targets.\\n\\n3. **Tokenism:** There is a risk that women appointed to meet quotas might be seen as \"tokens,\" undermining their legitimacy and potentially leading to resentment among colleagues.\\n\\n4. **Oversimplification of Diversity:** Focusing only on gender might overlook other important aspects of diversity, such as race, ethnicity, socioeconomic background, or sexual orientation.\\n\\nUltimately, the morality of aiming for a certain percentage of females in managerial positions depends on one\\'s ethical framework and the context in which such policies are implemented. Proponents of gender diversity targets often argue that these measures are necessary as a transitional mechanism to create a level playing field, while opponents may argue for a \"color-blind\" or \"gender-blind\" approach to hiring and promotions.\\n\\nOrganizations and societies must carefully consider the implications of these strategies and strive to implement policies that promote fairness and equality while minimizing negative consequences. It is also important to address the root causes of gender inequality, such as unconscious bias, work-life balance challenges, and lack of supportive policies, to create an environment where everyone has the opportunity to succeed based on their capabilities and contributions.',\n",
              " \"Prompt: Is it morally right to try to have a certain percentage of females on managerial positions?\\n\\nResponse: As an AI, I don't have personal beliefs or opinions. However, I can tell you that the question of gender quotas in managerial positions is a complex one and positions can vary. Advocates argue that such measures can help correct historical imbalances, promote diversity, and may lead to better decision-making. Critics may argue that positions should be based purely on merit, and that quotas could potentially lead to tokenism or unqualified candidates being promoted. Morality can be subjective and differs from person to person based on their personal beliefs, cultural background, and values. It's a topic with valid arguments on both sides, and it's up to each individual or organization to decide what they believe is right.\"]"
            ]
          },
          "execution_count": 41,
          "metadata": {},
          "output_type": "execute_result"
        }
      ],
      "source": [
        "df.options[0]"
      ]
    },
    {
      "cell_type": "code",
      "execution_count": null,
      "metadata": {
        "execution": {
          "iopub.execute_input": "2025-02-20T03:30:05.720499Z",
          "iopub.status.busy": "2025-02-20T03:30:05.720259Z",
          "iopub.status.idle": "2025-02-20T03:30:05.735985Z",
          "shell.execute_reply": "2025-02-20T03:30:05.735164Z",
          "shell.execute_reply.started": "2025-02-20T03:30:05.720469Z"
        },
        "id": "baakz5HGkqMe",
        "trusted": true
      },
      "outputs": [],
      "source": [
        "def preprocess_fn(text, label=None):\n",
        "    text = preprocessor(text)\n",
        "    return (text, label) if label is not None else text"
      ]
    },
    {
      "cell_type": "markdown",
      "metadata": {
        "id": "qCQgtEXOkqMf"
      },
      "source": [
        "# DataLoader"
      ]
    },
    {
      "cell_type": "code",
      "execution_count": null,
      "metadata": {
        "execution": {
          "iopub.execute_input": "2025-02-20T03:30:05.736867Z",
          "iopub.status.busy": "2025-02-20T03:30:05.736685Z",
          "iopub.status.idle": "2025-02-20T03:30:05.751834Z",
          "shell.execute_reply": "2025-02-20T03:30:05.751142Z",
          "shell.execute_reply.started": "2025-02-20T03:30:05.736851Z"
        },
        "id": "RE0pNubbkqMg",
        "trusted": true
      },
      "outputs": [],
      "source": [
        "def build_dataset(texts, labels=None, batch_size=32, cache=True, shuffle=1024):\n",
        "    # 让 TensorFlow 自动选择最佳并行化设置，提高数据加载速度\n",
        "    AUTO = tf.data.AUTOTUNE\n",
        "\n",
        "    # 将 labels 转换为 one-hot 编码（3 分类问题）\n",
        "    slices = (texts, ) if labels is None else (texts, keras.utils.to_categorical(labels, num_classes=3))\n",
        "\n",
        "    # 将 texts 和 labels 转换为 tf.data.Dataset 对象，使其能被深度学习模型高效加载。\n",
        "    ds = tf.data.Dataset.from_tensor_slices(slices)\n",
        "\n",
        "    # 如果 cache=True，数据集会存入 RAM，加快数据读取速度\n",
        "    ds = ds.cache() if cache else ds\n",
        "    ds = ds.map(preprocess_fn, num_parallel_calls=AUTO)\n",
        "\n",
        "    opt = tf.data.Options()\n",
        "    if shuffle:\n",
        "        # 如果 shuffle=True，随机打乱数据\n",
        "        ds = ds.shuffle(shuffle, seed=CFG.seed)\n",
        "        opt.experimental_deterministic = False\n",
        "    ds = ds.with_options(opt)\n",
        "\n",
        "    # 将数据 按批次 处理，提高训练效率。\n",
        "    # 不丢弃最后一个 batch（即使样本数不足 batch_size）\n",
        "    ds = ds.batch(batch_size, drop_remainder=False)\n",
        "\n",
        "    # prefetch(AUTO)：提前加载数据，提高 GPU 计算效率\n",
        "    ds = ds.prefetch(AUTO)\n",
        "    return ds\n"
      ]
    },
    {
      "cell_type": "markdown",
      "metadata": {
        "id": "eBOlCEXSkqMh"
      },
      "source": [
        "# Build Train/Valid DataLoader"
      ]
    },
    {
      "cell_type": "code",
      "execution_count": null,
      "metadata": {
        "execution": {
          "iopub.execute_input": "2025-02-20T03:30:05.752728Z",
          "iopub.status.busy": "2025-02-20T03:30:05.752455Z",
          "iopub.status.idle": "2025-02-20T03:30:05.769362Z",
          "shell.execute_reply": "2025-02-20T03:30:05.768636Z",
          "shell.execute_reply.started": "2025-02-20T03:30:05.752701Z"
        },
        "id": "H3IEcuq5kqMi",
        "trusted": true
      },
      "outputs": [],
      "source": [
        "# Train\n",
        "train_texts = train_df.options.tolist()\n",
        "train_labels = train_df.class_label.tolist()"
      ]
    },
    {
      "cell_type": "code",
      "execution_count": null,
      "metadata": {
        "colab": {
          "base_uri": "https://localhost:8080/"
        },
        "execution": {
          "iopub.execute_input": "2025-02-20T03:30:05.770238Z",
          "iopub.status.busy": "2025-02-20T03:30:05.770002Z",
          "iopub.status.idle": "2025-02-20T03:30:05.783553Z",
          "shell.execute_reply": "2025-02-20T03:30:05.782883Z",
          "shell.execute_reply.started": "2025-02-20T03:30:05.770219Z"
        },
        "id": "HFeMV-XGkqMi",
        "outputId": "af5cd313-0271-4101-82c0-39a0cd7b43de",
        "trusted": true
      },
      "outputs": [
        {
          "data": {
            "text/plain": [
              "[\"Prompt: What is a foreign exchange crisis? What are some notable examples?\\n\\nResponse: A foreign exchange crisis refers to a situation where a country faces severe shortage of foreign currencies, usually dollars or euros, to pay for imports or service external debt. This can lead to a sharp devaluation of the local currency and other economic issues. Some notable historical examples of foreign exchange crises include:\\n\\n- 1994 Mexican Peso Crisis - Mexico faced a balance of payments crisis after depleting its foreign reserves. The peso lost nearly 50% of its value.\\n\\n- 1997 Asian Financial Crisis - Countries like Thailand, South Korea, and Indonesia saw their currencies come under speculative attack, losing substantial value due to lack of foreign reserves.\\n\\n- 1998 Russian Financial Crisis - Russia devalued the ruble and defaulted on its debt after a collapse in oil prices and foreign confidence. \\n\\n- 2001 Argentine Economic Crisis - Argentina abandoned its peg to the US dollar after draining its foreign reserves, leading to a major devaluation of the peso.\\n\\n- 2018 Turkish Currency and Debt Crisis - Turkey faced a steep decline in the lira's value, inflation, and debt servicing issues as foreign investor confidence dropped.\\n\\nIn many cases, the crises were preceded by current account and budget deficits, questionable economic policies, as well as political uncertainties that shook investor confidence and triggered capital flight. The IMF often stepped in to provide emergency loans, requiring tough austerity measures and economic reforms.\",\n",
              " 'Prompt: What is a foreign exchange crisis? What are some notable examples?\\n\\nResponse: A foreign exchange crisis, also known as a currency crisis or balance of payments crisis, occurs when a country\\'s currency experiences a rapid and significant depreciation in value, making it difficult for the nation to meet its financial obligations and maintain a stable economy. This can be caused by various factors, such as political instability, economic mismanagement, speculative attacks, or external market forces. A foreign exchange crisis often leads to economic recession, high inflation, and reduced investor confidence in the affected country.\\n\\nSome notable examples of foreign exchange crises include:\\n\\n1. The Latin American Debt Crisis (1980s): A series of currency crises that affected several Latin American countries, including Mexico, Argentina, and Brazil. The crisis began when these countries faced difficulties in servicing their large foreign debts, which were primarily denominated in U.S. dollars. This led to several devaluations of their currencies and high inflation.\\n\\n2. The European Exchange Rate Mechanism (ERM) Crisis (1992-93): Also known as the Black Wednesday crisis, it involved the British pound, Italian lira, and other European currencies. Speculative attacks on the pound forced the UK to withdraw from the ERM, leading to a sharp depreciation of the currency.\\n\\n3. The Mexican Peso Crisis (1994-95): Also known as the \"Tequila Crisis,\" it was triggered by the sudden devaluation of the Mexican peso due to a combination of factors, including political instability, a large current account deficit, and investor concerns about Mexico\\'s ability to repay its debt. The crisis led to a severe economic recession in Mexico and also affected other emerging markets.\\n\\n4. The Asian Financial Crisis (1997-98): A series of currency crises that affected several Asian countries, including Thailand, South Korea, Indonesia, and Malaysia. The crisis began with the devaluation of the Thai baht, which led to a contagion effect throughout the region, causing massive depreciation of other Asian currencies and leading to financial turmoil, economic recessions, and social unrest.\\n\\n5. The Russian Financial Crisis (1998): Characterized by the devaluation of the Russian ruble, default on domestic debt, and a freeze on foreign debt repayment, the crisis was sparked by a decline in global oil prices, fiscal mismanagement, and a lack of investor confidence in the Russian economy.\\n\\n6. The Argentine Economic Crisis (2001-02): A severe currency crisis that resulted in the devaluation of the Argentine peso, widespread social unrest, and a sovereign debt default. The crisis was caused by a combination of factors, including an overvalued exchange rate, high levels of public debt, and weak economic fundamentals.']"
            ]
          },
          "execution_count": 45,
          "metadata": {},
          "output_type": "execute_result"
        }
      ],
      "source": [
        "train_texts[0]"
      ]
    },
    {
      "cell_type": "code",
      "execution_count": null,
      "metadata": {
        "colab": {
          "base_uri": "https://localhost:8080/"
        },
        "execution": {
          "iopub.execute_input": "2025-02-20T03:30:05.784329Z",
          "iopub.status.busy": "2025-02-20T03:30:05.784147Z",
          "iopub.status.idle": "2025-02-20T03:30:05.797442Z",
          "shell.execute_reply": "2025-02-20T03:30:05.796705Z",
          "shell.execute_reply.started": "2025-02-20T03:30:05.784313Z"
        },
        "id": "MCA1bzLskqMi",
        "outputId": "b7808449-1115-4697-874c-4acf0f0c783a",
        "trusted": true
      },
      "outputs": [
        {
          "data": {
            "text/plain": [
              "1"
            ]
          },
          "execution_count": 46,
          "metadata": {},
          "output_type": "execute_result"
        }
      ],
      "source": [
        "train_labels[0]"
      ]
    },
    {
      "cell_type": "code",
      "execution_count": null,
      "metadata": {
        "execution": {
          "iopub.execute_input": "2025-02-20T03:30:05.798458Z",
          "iopub.status.busy": "2025-02-20T03:30:05.798220Z",
          "iopub.status.idle": "2025-02-20T03:30:05.811764Z",
          "shell.execute_reply": "2025-02-20T03:30:05.811114Z",
          "shell.execute_reply.started": "2025-02-20T03:30:05.798440Z"
        },
        "id": "L7kF6UkUkqMj",
        "trusted": true
      },
      "outputs": [],
      "source": [
        "train_ds = build_dataset(train_texts, train_labels, batch_size=CFG.batch_size, shuffle=True)"
      ]
    },
    {
      "cell_type": "code",
      "execution_count": null,
      "metadata": {
        "execution": {
          "iopub.execute_input": "2025-02-20T03:30:05.812705Z",
          "iopub.status.busy": "2025-02-20T03:30:05.812468Z",
          "iopub.status.idle": "2025-02-20T03:30:05.825471Z",
          "shell.execute_reply": "2025-02-20T03:30:05.824811Z",
          "shell.execute_reply.started": "2025-02-20T03:30:05.812674Z"
        },
        "id": "0vCtoAwnkqMj",
        "trusted": true
      },
      "outputs": [],
      "source": [
        "# Valid\n",
        "valid_texts = valid_df.options.tolist()\n",
        "valid_labels = valid_df.class_label.tolist()\n",
        "valid_ds = build_dataset(valid_texts, valid_labels, batch_size=CFG.batch_size, shuffle=False)"
      ]
    },
    {
      "cell_type": "code",
      "execution_count": null,
      "metadata": {
        "colab": {
          "base_uri": "https://localhost:8080/"
        },
        "execution": {
          "iopub.execute_input": "2025-02-20T03:30:05.826474Z",
          "iopub.status.busy": "2025-02-20T03:30:05.826261Z",
          "iopub.status.idle": "2025-02-20T03:30:05.840332Z",
          "shell.execute_reply": "2025-02-20T03:30:05.839566Z",
          "shell.execute_reply.started": "2025-02-20T03:30:05.826456Z"
        },
        "id": "--dDg2-KkqMj",
        "outputId": "fb65f0b8-ed30-4091-d08a-f47c9a9bec70",
        "trusted": true
      },
      "outputs": [
        {
          "name": "stdout",
          "output_type": "stream",
          "text": [
            "({'token_ids': <tf.Tensor: shape=(16, 2, 512), dtype=int32, numpy=\n",
            "array([[[    1, 31751,   294, ...,     0,     0,     0],\n",
            "        [    1, 31751,   294, ...,     0,     0,     0]],\n",
            "\n",
            "       [[    1, 31751,   294, ...,     0,     0,     0],\n",
            "        [    1, 31751,   294, ...,     0,     0,     0]],\n",
            "\n",
            "       [[    1, 31751,   294, ...,     0,     0,     0],\n",
            "        [    1, 31751,   294, ...,     0,     0,     0]],\n",
            "\n",
            "       ...,\n",
            "\n",
            "       [[    1, 31751,   294, ...,     0,     0,     0],\n",
            "        [    1, 31751,   294, ...,     0,     0,     0]],\n",
            "\n",
            "       [[    1, 31751,   294, ...,     0,     0,     0],\n",
            "        [    1, 31751,   294, ...,     0,     0,     0]],\n",
            "\n",
            "       [[    1, 31751,   294, ...,     0,     0,     0],\n",
            "        [    1, 31751,   294, ...,     0,     0,     0]]], dtype=int32)>, 'padding_mask': <tf.Tensor: shape=(16, 2, 512), dtype=bool, numpy=\n",
            "array([[[ True,  True,  True, ..., False, False, False],\n",
            "        [ True,  True,  True, ..., False, False, False]],\n",
            "\n",
            "       [[ True,  True,  True, ..., False, False, False],\n",
            "        [ True,  True,  True, ..., False, False, False]],\n",
            "\n",
            "       [[ True,  True,  True, ..., False, False, False],\n",
            "        [ True,  True,  True, ..., False, False, False]],\n",
            "\n",
            "       ...,\n",
            "\n",
            "       [[ True,  True,  True, ..., False, False, False],\n",
            "        [ True,  True,  True, ..., False, False, False]],\n",
            "\n",
            "       [[ True,  True,  True, ..., False, False, False],\n",
            "        [ True,  True,  True, ..., False, False, False]],\n",
            "\n",
            "       [[ True,  True,  True, ..., False, False, False],\n",
            "        [ True,  True,  True, ..., False, False, False]]])>}, <tf.Tensor: shape=(16, 3), dtype=float64, numpy=\n",
            "array([[1., 0., 0.],\n",
            "       [0., 1., 0.],\n",
            "       [0., 0., 1.],\n",
            "       [0., 1., 0.],\n",
            "       [0., 0., 1.],\n",
            "       [0., 0., 1.],\n",
            "       [1., 0., 0.],\n",
            "       [0., 1., 0.],\n",
            "       [0., 1., 0.],\n",
            "       [1., 0., 0.],\n",
            "       [0., 1., 0.],\n",
            "       [0., 1., 0.],\n",
            "       [0., 0., 1.],\n",
            "       [1., 0., 0.],\n",
            "       [0., 1., 0.],\n",
            "       [1., 0., 0.]])>)\n"
          ]
        }
      ],
      "source": [
        "for data in valid_ds.take(1):  # 取出第一个 batch\n",
        "    print(data)"
      ]
    },
    {
      "cell_type": "markdown",
      "metadata": {
        "id": "8z8_8eFukqMk"
      },
      "source": [
        "# 学习率调度器 (Learning Rate Scheduler)\n",
        "\n",
        "1. Step Decay (阶梯衰减)：在 固定的训练 epoch 后，学习率 以阶梯方式降低。例如，在 10、20、30 轮时减少学习率，如 lr = lr * 0.1。\n",
        "2. Cosine Decay (余弦衰减)：采用 余弦函数 (cosine curve) 平滑降低学习率，常用于 余弦退火 (Cosine Annealing)。适用于长时间训练，避免学习率突然下降导致的震荡。\n",
        "3. Exponential Decay (指数衰减)：按照公式 lr = lr * decay_rate^epoch 指数级减少 学习率。适用于深度神经网络，尤其是大规模数据集。"
      ]
    },
    {
      "cell_type": "code",
      "execution_count": null,
      "metadata": {
        "execution": {
          "iopub.execute_input": "2025-02-20T03:30:05.841174Z",
          "iopub.status.busy": "2025-02-20T03:30:05.840930Z",
          "iopub.status.idle": "2025-02-20T03:30:05.850657Z",
          "shell.execute_reply": "2025-02-20T03:30:05.849943Z",
          "shell.execute_reply.started": "2025-02-20T03:30:05.841154Z"
        },
        "id": "fzyzp89wkqMk",
        "trusted": true
      },
      "outputs": [],
      "source": [
        "def get_lr_callback(batch_size=8, mode='cos', epochs=10, plot=False):\n",
        "    # 初始学习率 (最低起点)，最大学习率 (取决于 batch_size)，最低学习率 (不会低于此值)。\n",
        "    lr_start, lr_max, lr_min = 1.0e-6, 0.6e-6*batch_size, 1e-6\n",
        "    # 前 2 个 epoch 线性增长 到 lr_max (warm-up 阶段)，保持学习率不变的 epoch (这里是 0)，指数衰减的 衰减因子\n",
        "    lr_ramp_ep, lr_sus_ep, lr_decay = 2, 0, 0.8\n",
        "\n",
        "    def lrfn(epoch):\n",
        "        # 学习率从 lr_start 线性增加到 lr_max，以稳定模型的训练\n",
        "        if epoch < lr_ramp_ep:\n",
        "            lr = (lr_max - lr_start) / lr_ramp_ep * epoch + lr_start\n",
        "        # 维持最大学习率\n",
        "        elif epoch < lr_ramp_ep + lr_sus_ep:\n",
        "            lr = lr_max\n",
        "        # 指数函数形式降低学习率，越往后衰减越慢\n",
        "        elif mode == 'exp':\n",
        "            lr = (lr_max - lr_min) * lr_decay**(epoch - lr_ramp_ep - lr_sus_ep) + lr_min\n",
        "        # 每隔 2 个 epoch，学习率 乘以 lr_decay=0.8\n",
        "        elif mode == 'step':\n",
        "            lr = lr_max * lr_decay**((epoch - lr_ramp_ep - lr_sus_ep) // 2)\n",
        "        # 采用 余弦函数 平滑降低学习率\n",
        "        elif mode == 'cos':\n",
        "            decay_total_epochs, decay_epoch_index = epochs - lr_ramp_ep - lr_sus_ep + 3, epoch - lr_ramp_ep - lr_sus_ep\n",
        "            phase = math.pi * decay_epoch_index / decay_total_epochs\n",
        "            lr = (lr_max - lr_min) * 0.5 * (1 + math.cos(phase)) + lr_min\n",
        "        return lr\n",
        "\n",
        "    if plot:\n",
        "        plt.figure(figsize=(10, 5))\n",
        "        plt.plot(np.arange(epochs), [lrfn(epoch) for epoch in np.arange(epochs)], marker='o')\n",
        "        plt.xlabel('epoch');plt.ylabel('lr')\n",
        "        plt.title('LR Scheduler')\n",
        "        plt.show()\n",
        "\n",
        "    return keras.callbacks.LearningRateScheduler(lrfn, verbose=False)"
      ]
    },
    {
      "cell_type": "code",
      "execution_count": null,
      "metadata": {
        "colab": {
          "base_uri": "https://localhost:8080/",
          "height": 487
        },
        "execution": {
          "iopub.execute_input": "2025-02-20T03:30:05.851647Z",
          "iopub.status.busy": "2025-02-20T03:30:05.851419Z",
          "iopub.status.idle": "2025-02-20T03:30:06.086732Z",
          "shell.execute_reply": "2025-02-20T03:30:06.085895Z",
          "shell.execute_reply.started": "2025-02-20T03:30:05.851630Z"
        },
        "id": "7KKxRfhqkqMl",
        "outputId": "012cd062-4b94-4126-f690-1882a10c2dd1",
        "trusted": true
      },
      "outputs": [
        {
          "data": {
            "image/png": "[encoded data removed]",
            "text/plain": [
              "<Figure size 1000x500 with 1 Axes>"
            ]
          },
          "metadata": {},
          "output_type": "display_data"
        }
      ],
      "source": [
        "lr_cb = get_lr_callback(CFG.batch_size, plot=True)"
      ]
    },
    {
      "cell_type": "markdown",
      "metadata": {
        "id": "qK527I0tkqMl"
      },
      "source": [
        "# Model Checkpointing"
      ]
    },
    {
      "cell_type": "markdown",
      "metadata": {
        "id": "T8pF6i3NkqMm"
      },
      "source": [
        "在 Keras 训练过程中自动保存最佳模型的权重"
      ]
    },
    {
      "cell_type": "code",
      "execution_count": null,
      "metadata": {
        "execution": {
          "iopub.execute_input": "2025-02-20T03:30:06.087978Z",
          "iopub.status.busy": "2025-02-20T03:30:06.087652Z",
          "iopub.status.idle": "2025-02-20T03:30:06.091394Z",
          "shell.execute_reply": "2025-02-20T03:30:06.090448Z",
          "shell.execute_reply.started": "2025-02-20T03:30:06.087945Z"
        },
        "id": "qJn1-ZzokqMm",
        "trusted": true
      },
      "outputs": [],
      "source": [
        "ckpt_cb = keras.callbacks.ModelCheckpoint(\n",
        "    f'best_model.weights.h5',\n",
        "    monitor='val_log_loss',\n",
        "    save_best_only = True, # 仅保存最好的模型\n",
        "    save_weights_only = True,\n",
        "    mode = 'min'\n",
        ")"
      ]
    },
    {
      "cell_type": "markdown",
      "metadata": {
        "id": "EcdyqKvBkqMn"
      },
      "source": [
        "# Metric"
      ]
    },
    {
      "cell_type": "markdown",
      "metadata": {
        "id": "gzhaRqzDkqMn"
      },
      "source": [
        "![image.png](data:image/png;base64,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)"
      ]
    },
    {
      "cell_type": "code",
      "execution_count": null,
      "metadata": {
        "execution": {
          "iopub.execute_input": "2025-02-20T03:30:06.092510Z",
          "iopub.status.busy": "2025-02-20T03:30:06.092228Z",
          "iopub.status.idle": "2025-02-20T03:30:06.138303Z",
          "shell.execute_reply": "2025-02-20T03:30:06.137450Z",
          "shell.execute_reply.started": "2025-02-20T03:30:06.092482Z"
        },
        "id": "M3ca448KkqMn",
        "trusted": true
      },
      "outputs": [],
      "source": [
        "log_loss = keras.metrics.CategoricalCrossentropy(name=\"log_loss\")"
      ]
    },
    {
      "cell_type": "markdown",
      "metadata": {
        "id": "P_8HRctwkqMo"
      },
      "source": [
        "当真实类别y=1时，损失函数变为-log(p)。\n",
        "如果 p 越接近 1，损失越小。\n",
        "如果 p 接近 0，损失会变大（趋向无穷大）。"
      ]
    },
    {
      "cell_type": "code",
      "execution_count": null,
      "metadata": {
        "colab": {
          "base_uri": "https://localhost:8080/",
          "height": 489
        },
        "execution": {
          "iopub.execute_input": "2025-02-20T03:30:06.139280Z",
          "iopub.status.busy": "2025-02-20T03:30:06.139030Z",
          "iopub.status.idle": "2025-02-20T03:30:06.367539Z",
          "shell.execute_reply": "2025-02-20T03:30:06.366669Z",
          "shell.execute_reply.started": "2025-02-20T03:30:06.139260Z"
        },
        "id": "6PSB7tVIkqMo",
        "outputId": "56d86c09-9592-48af-e609-9910ceb3c712",
        "trusted": true
      },
      "outputs": [
        {
          "data": {
            "image/png": "[encoded data removed]",
            "text/plain": [
              "<Figure size 800x500 with 1 Axes>"
            ]
          },
          "metadata": {},
          "output_type": "display_data"
        }
      ],
      "source": [
        "# 定义 p 的取值（避免 log(0)）\n",
        "p = np.linspace(0.01, 1, 100)\n",
        "loss = -np.log(p)\n",
        "\n",
        "# 绘制曲线\n",
        "plt.figure(figsize=(8, 5))\n",
        "plt.plot(p, loss, label=r'$-\\log(p)$', color='b')\n",
        "plt.xlabel(\"Predicted Probability (p)\")\n",
        "plt.ylabel(\"Loss\")\n",
        "plt.title(\"Negative Log Function: $-\\log(p)$\")\n",
        "plt.grid()\n",
        "plt.legend()\n",
        "plt.show()"
      ]
    },
    {
      "cell_type": "markdown",
      "metadata": {
        "id": "u61lgrnYkqMp"
      },
      "source": [
        "当真实类别y=0，损失函数变为：-log(1-p)。\n",
        "如果p越接近0，损失越小。\n",
        "如果p接近1，损失会变大。"
      ]
    },
    {
      "cell_type": "code",
      "execution_count": null,
      "metadata": {
        "colab": {
          "base_uri": "https://localhost:8080/",
          "height": 489
        },
        "execution": {
          "iopub.execute_input": "2025-02-20T03:30:06.368548Z",
          "iopub.status.busy": "2025-02-20T03:30:06.368323Z",
          "iopub.status.idle": "2025-02-20T03:30:06.550660Z",
          "shell.execute_reply": "2025-02-20T03:30:06.549814Z",
          "shell.execute_reply.started": "2025-02-20T03:30:06.368529Z"
        },
        "id": "UjcUESpckqMp",
        "outputId": "30d56a35-dd16-4fe0-be1f-df42abd5eea4",
        "trusted": true
      },
      "outputs": [
        {
          "data": {
            "image/png": "[encoded data removed]",
            "text/plain": [
              "<Figure size 800x500 with 1 Axes>"
            ]
          },
          "metadata": {},
          "output_type": "display_data"
        }
      ],
      "source": [
        "# 定义 p 的取值（避免 log(0)）\n",
        "p = np.linspace(0, 0.99, 100)\n",
        "loss = -np.log(1 - p)\n",
        "\n",
        "# 绘制曲线\n",
        "plt.figure(figsize=(8, 5))\n",
        "plt.plot(p, loss, label=r'$-\\log(1 - p)$', color='r')\n",
        "plt.xlabel(\"Predicted Probability (p)\")\n",
        "plt.ylabel(\"Loss\")\n",
        "plt.title(\"Negative Log Function: $-\\log(1 - p)$\")\n",
        "plt.grid()\n",
        "plt.legend()\n",
        "plt.show()"
      ]
    },
    {
      "cell_type": "markdown",
      "metadata": {
        "id": "KmL_NsY7kqMp"
      },
      "source": [
        "# Modeling"
      ]
    },
    {
      "cell_type": "code",
      "execution_count": null,
      "metadata": {
        "colab": {
          "base_uri": "https://localhost:8080/"
        },
        "execution": {
          "iopub.execute_input": "2025-02-20T03:30:06.551823Z",
          "iopub.status.busy": "2025-02-20T03:30:06.551548Z",
          "iopub.status.idle": "2025-02-20T03:30:06.555620Z",
          "shell.execute_reply": "2025-02-20T03:30:06.554649Z",
          "shell.execute_reply.started": "2025-02-20T03:30:06.551801Z"
        },
        "id": "bZRrG27BkqMq",
        "outputId": "c1226fb2-da64-4ddb-c533-4559ba7b2737",
        "trusted": true
      },
      "outputs": [
        {
          "name": "stdout",
          "output_type": "stream",
          "text": [
            "Downloading from https://www.kaggle.com/api/v1/models/keras/deberta_v3/keras/deberta_v3_extra_small_en/2/download/model.weights.h5...\n"
          ]
        },
        {
          "name": "stderr",
          "output_type": "stream",
          "text": [
            "100%|██████████| 270M/270M [00:18<00:00, 15.3MB/s]\n"
          ]
        }
      ],
      "source": [
        "# Define input layers\n",
        "# token_ids: 表示文本的 token 编码。\n",
        "# padding_mask: 指示哪些 token 是有效的（1）或填充的（0）\n",
        "inputs = {\n",
        "    \"token_ids\": keras.Input(shape=(2, None), dtype=tf.int32, name=\"token_ids\"),\n",
        "    \"padding_mask\": keras.Input(shape=(2, None), dtype=tf.int32, name=\"padding_mask\"),\n",
        "}\n",
        "\n",
        "# Create a DebertaV3Classifier backbone\n",
        "# 加载 DeBERTaV3 作为特征提取骨干网络（Backbone）\n",
        "# 作用: 负责将 token 序列转换为 语义嵌入表示（embeddings）\n",
        "backbone = keras_nlp.models.DebertaV3Backbone.from_preset(\n",
        "    CFG.preset,\n",
        ")\n",
        "\n",
        "# inputs 原本形状为 (batch_size, 2, sequence_length)，其中 2 代表 两个 P+R 组合\n",
        "# 使用相同的 DeBERTaV3 模型 共享权重\n",
        "# Compute embeddings for first response: (P + R_A) using backbone\n",
        "response_a = {k: v[:, 0, :] for k, v in inputs.items()}\n",
        "embed_a = backbone(response_a)\n",
        "\n",
        "# Compute embeddings for second response: (P + R_B) using the same backbone\n",
        "response_b = {k: v[:, 1, :] for k, v in inputs.items()}\n",
        "embed_b = backbone(response_b)\n",
        "\n",
        "# Compute final output\n",
        "embeds = keras.layers.Concatenate(axis=-1)([embed_a, embed_b]) # 沿着最后一维拼接两个嵌入\n",
        "embeds = keras.layers.GlobalAveragePooling1D()(embeds) # 对拼接后的嵌入进行全局平均池化，以减少维度并获得固定长度的向量。\n",
        "\n",
        "# 输出 3 维，分别对应：\n",
        "# winner_model_a（P + R_A 更佳）\n",
        "# winner_model_b（P + R_B 更佳）\n",
        "# draw（两个响应相等）\n",
        "outputs = keras.layers.Dense(3, activation=\"softmax\", name=\"classifier\")(embeds)\n",
        "model = keras.Model(inputs, outputs)\n",
        "\n",
        "# Compile the model with optimizer, loss and metrics\n",
        "model.compile(\n",
        "    optimizer=keras.optimizers.Adam(5e-6), # Adam 优化器：学习率 5e-6（较小，适用于预训练模型微调）\n",
        "    loss=keras.losses.CategoricalCrossentropy(label_smoothing=0.02), # label_smoothing=0.02 用于 减少过拟合，防止模型对某些类别过度自信\n",
        "    metrics=[\n",
        "        log_loss,\n",
        "        keras.metrics.CategoricalAccuracy(name=\"accuracy\")\n",
        "    ]\n",
        ")"
      ]
    },
    {
      "cell_type": "code",
      "execution_count": null,
      "metadata": {
        "colab": {
          "base_uri": "https://localhost:8080/",
          "height": 561
        },
        "execution": {
          "iopub.execute_input": "2025-02-20T03:30:06.556722Z",
          "iopub.status.busy": "2025-02-20T03:30:06.556471Z",
          "iopub.status.idle": "2025-02-20T03:30:06.574413Z",
          "shell.execute_reply": "2025-02-20T03:30:06.573655Z",
          "shell.execute_reply.started": "2025-02-20T03:30:06.556693Z"
        },
        "id": "CfET262FkqMs",
        "outputId": "78e0394d-26c6-4d86-c7a2-8cd1103651ee",
        "trusted": true
      },
      "outputs": [
        {
          "data": {
            "text/html": [
              "<pre style=\"white-space:pre;overflow-x:auto;line-height:normal;font-family:Menlo,'DejaVu Sans Mono',consolas,'Courier New',monospace\"><span style=\"font-weight: bold\">Model: \"functional\"</span>\n",
              "</pre>\n"
            ],
            "text/plain": [
              "\u001b[1mModel: \"functional\"\u001b[0m\n"
            ]
          },
          "metadata": {},
          "output_type": "display_data"
        },
        {
          "data": {
            "text/html": [
              "<pre style=\"white-space:pre;overflow-x:auto;line-height:normal;font-family:Menlo,'DejaVu Sans Mono',consolas,'Courier New',monospace\">┏━━━━━━━━━━━━━━━━━━━━━━━━━━━┳━━━━━━━━━━━━━━━━━━━━━━━━┳━━━━━━━━━━━━━━━━┳━━━━━━━━━━━━━━━━━━━━━━━━┓\n",
              "┃<span style=\"font-weight: bold\"> Layer (type)              </span>┃<span style=\"font-weight: bold\"> Output Shape           </span>┃<span style=\"font-weight: bold\">        Param # </span>┃<span style=\"font-weight: bold\"> Connected to           </span>┃\n",
              "┡━━━━━━━━━━━━━━━━━━━━━━━━━━━╇━━━━━━━━━━━━━━━━━━━━━━━━╇━━━━━━━━━━━━━━━━╇━━━━━━━━━━━━━━━━━━━━━━━━┩\n",
              "│ padding_mask (<span style=\"color: #0087ff; text-decoration-color: #0087ff\">InputLayer</span>) │ (<span style=\"color: #00d7ff; text-decoration-color: #00d7ff\">None</span>, <span style=\"color: #00af00; text-decoration-color: #00af00\">2</span>, <span style=\"color: #00d7ff; text-decoration-color: #00d7ff\">None</span>)        │              <span style=\"color: #00af00; text-decoration-color: #00af00\">0</span> │ -                      │\n",
              "├───────────────────────────┼────────────────────────┼────────────────┼────────────────────────┤\n",
              "│ token_ids (<span style=\"color: #0087ff; text-decoration-color: #0087ff\">InputLayer</span>)    │ (<span style=\"color: #00d7ff; text-decoration-color: #00d7ff\">None</span>, <span style=\"color: #00af00; text-decoration-color: #00af00\">2</span>, <span style=\"color: #00d7ff; text-decoration-color: #00d7ff\">None</span>)        │              <span style=\"color: #00af00; text-decoration-color: #00af00\">0</span> │ -                      │\n",
              "├───────────────────────────┼────────────────────────┼────────────────┼────────────────────────┤\n",
              "│ get_item_1 (<span style=\"color: #0087ff; text-decoration-color: #0087ff\">GetItem</span>)      │ (<span style=\"color: #00d7ff; text-decoration-color: #00d7ff\">None</span>, <span style=\"color: #00d7ff; text-decoration-color: #00d7ff\">None</span>)           │              <span style=\"color: #00af00; text-decoration-color: #00af00\">0</span> │ padding_mask[<span style=\"color: #00af00; text-decoration-color: #00af00\">0</span>][<span style=\"color: #00af00; text-decoration-color: #00af00\">0</span>]     │\n",
              "├───────────────────────────┼────────────────────────┼────────────────┼────────────────────────┤\n",
              "│ get_item (<span style=\"color: #0087ff; text-decoration-color: #0087ff\">GetItem</span>)        │ (<span style=\"color: #00d7ff; text-decoration-color: #00d7ff\">None</span>, <span style=\"color: #00d7ff; text-decoration-color: #00d7ff\">None</span>)           │              <span style=\"color: #00af00; text-decoration-color: #00af00\">0</span> │ token_ids[<span style=\"color: #00af00; text-decoration-color: #00af00\">0</span>][<span style=\"color: #00af00; text-decoration-color: #00af00\">0</span>]        │\n",
              "├───────────────────────────┼────────────────────────┼────────────────┼────────────────────────┤\n",
              "│ get_item_3 (<span style=\"color: #0087ff; text-decoration-color: #0087ff\">GetItem</span>)      │ (<span style=\"color: #00d7ff; text-decoration-color: #00d7ff\">None</span>, <span style=\"color: #00d7ff; text-decoration-color: #00d7ff\">None</span>)           │              <span style=\"color: #00af00; text-decoration-color: #00af00\">0</span> │ padding_mask[<span style=\"color: #00af00; text-decoration-color: #00af00\">0</span>][<span style=\"color: #00af00; text-decoration-color: #00af00\">0</span>]     │\n",
              "├───────────────────────────┼────────────────────────┼────────────────┼────────────────────────┤\n",
              "│ get_item_2 (<span style=\"color: #0087ff; text-decoration-color: #0087ff\">GetItem</span>)      │ (<span style=\"color: #00d7ff; text-decoration-color: #00d7ff\">None</span>, <span style=\"color: #00d7ff; text-decoration-color: #00d7ff\">None</span>)           │              <span style=\"color: #00af00; text-decoration-color: #00af00\">0</span> │ token_ids[<span style=\"color: #00af00; text-decoration-color: #00af00\">0</span>][<span style=\"color: #00af00; text-decoration-color: #00af00\">0</span>]        │\n",
              "├───────────────────────────┼────────────────────────┼────────────────┼────────────────────────┤\n",
              "│ deberta_v3_backbone       │ (<span style=\"color: #00d7ff; text-decoration-color: #00d7ff\">None</span>, <span style=\"color: #00d7ff; text-decoration-color: #00d7ff\">None</span>, <span style=\"color: #00af00; text-decoration-color: #00af00\">384</span>)      │     <span style=\"color: #00af00; text-decoration-color: #00af00\">70,682,112</span> │ get_item_1[<span style=\"color: #00af00; text-decoration-color: #00af00\">0</span>][<span style=\"color: #00af00; text-decoration-color: #00af00\">0</span>],      │\n",
              "│ (<span style=\"color: #0087ff; text-decoration-color: #0087ff\">DebertaV3Backbone</span>)       │                        │                │ get_item[<span style=\"color: #00af00; text-decoration-color: #00af00\">0</span>][<span style=\"color: #00af00; text-decoration-color: #00af00\">0</span>],        │\n",
              "│                           │                        │                │ get_item_3[<span style=\"color: #00af00; text-decoration-color: #00af00\">0</span>][<span style=\"color: #00af00; text-decoration-color: #00af00\">0</span>],      │\n",
              "│                           │                        │                │ get_item_2[<span style=\"color: #00af00; text-decoration-color: #00af00\">0</span>][<span style=\"color: #00af00; text-decoration-color: #00af00\">0</span>]       │\n",
              "├───────────────────────────┼────────────────────────┼────────────────┼────────────────────────┤\n",
              "│ concatenate (<span style=\"color: #0087ff; text-decoration-color: #0087ff\">Concatenate</span>) │ (<span style=\"color: #00d7ff; text-decoration-color: #00d7ff\">None</span>, <span style=\"color: #00d7ff; text-decoration-color: #00d7ff\">None</span>, <span style=\"color: #00af00; text-decoration-color: #00af00\">768</span>)      │              <span style=\"color: #00af00; text-decoration-color: #00af00\">0</span> │ deberta_v3_backbone[<span style=\"color: #00af00; text-decoration-color: #00af00\">0</span>… │\n",
              "│                           │                        │                │ deberta_v3_backbone[<span style=\"color: #00af00; text-decoration-color: #00af00\">1</span>… │\n",
              "├───────────────────────────┼────────────────────────┼────────────────┼────────────────────────┤\n",
              "│ global_average_pooling1d  │ (<span style=\"color: #00d7ff; text-decoration-color: #00d7ff\">None</span>, <span style=\"color: #00af00; text-decoration-color: #00af00\">768</span>)            │              <span style=\"color: #00af00; text-decoration-color: #00af00\">0</span> │ concatenate[<span style=\"color: #00af00; text-decoration-color: #00af00\">0</span>][<span style=\"color: #00af00; text-decoration-color: #00af00\">0</span>]      │\n",
              "│ (<span style=\"color: #0087ff; text-decoration-color: #0087ff\">GlobalAveragePooling1D</span>)  │                        │                │                        │\n",
              "├───────────────────────────┼────────────────────────┼────────────────┼────────────────────────┤\n",
              "│ classifier (<span style=\"color: #0087ff; text-decoration-color: #0087ff\">Dense</span>)        │ (<span style=\"color: #00d7ff; text-decoration-color: #00d7ff\">None</span>, <span style=\"color: #00af00; text-decoration-color: #00af00\">3</span>)              │          <span style=\"color: #00af00; text-decoration-color: #00af00\">2,307</span> │ global_average_poolin… │\n",
              "└───────────────────────────┴────────────────────────┴────────────────┴────────────────────────┘\n",
              "</pre>\n"
            ],
            "text/plain": [
              "┏━━━━━━━━━━━━━━━━━━━━━━━━━━━┳━━━━━━━━━━━━━━━━━━━━━━━━┳━━━━━━━━━━━━━━━━┳━━━━━━━━━━━━━━━━━━━━━━━━┓\n",
              "┃\u001b[1m \u001b[0m\u001b[1mLayer (type)             \u001b[0m\u001b[1m \u001b[0m┃\u001b[1m \u001b[0m\u001b[1mOutput Shape          \u001b[0m\u001b[1m \u001b[0m┃\u001b[1m \u001b[0m\u001b[1m       Param #\u001b[0m\u001b[1m \u001b[0m┃\u001b[1m \u001b[0m\u001b[1mConnected to          \u001b[0m\u001b[1m \u001b[0m┃\n",
              "┡━━━━━━━━━━━━━━━━━━━━━━━━━━━╇━━━━━━━━━━━━━━━━━━━━━━━━╇━━━━━━━━━━━━━━━━╇━━━━━━━━━━━━━━━━━━━━━━━━┩\n",
              "│ padding_mask (\u001b[38;5;33mInputLayer\u001b[0m) │ (\u001b[38;5;45mNone\u001b[0m, \u001b[38;5;34m2\u001b[0m, \u001b[38;5;45mNone\u001b[0m)        │              \u001b[38;5;34m0\u001b[0m │ -                      │\n",
              "├───────────────────────────┼────────────────────────┼────────────────┼────────────────────────┤\n",
              "│ token_ids (\u001b[38;5;33mInputLayer\u001b[0m)    │ (\u001b[38;5;45mNone\u001b[0m, \u001b[38;5;34m2\u001b[0m, \u001b[38;5;45mNone\u001b[0m)        │              \u001b[38;5;34m0\u001b[0m │ -                      │\n",
              "├───────────────────────────┼────────────────────────┼────────────────┼────────────────────────┤\n",
              "│ get_item_1 (\u001b[38;5;33mGetItem\u001b[0m)      │ (\u001b[38;5;45mNone\u001b[0m, \u001b[38;5;45mNone\u001b[0m)           │              \u001b[38;5;34m0\u001b[0m │ padding_mask[\u001b[38;5;34m0\u001b[0m][\u001b[38;5;34m0\u001b[0m]     │\n",
              "├───────────────────────────┼────────────────────────┼────────────────┼────────────────────────┤\n",
              "│ get_item (\u001b[38;5;33mGetItem\u001b[0m)        │ (\u001b[38;5;45mNone\u001b[0m, \u001b[38;5;45mNone\u001b[0m)           │              \u001b[38;5;34m0\u001b[0m │ token_ids[\u001b[38;5;34m0\u001b[0m][\u001b[38;5;34m0\u001b[0m]        │\n",
              "├───────────────────────────┼────────────────────────┼────────────────┼────────────────────────┤\n",
              "│ get_item_3 (\u001b[38;5;33mGetItem\u001b[0m)      │ (\u001b[38;5;45mNone\u001b[0m, \u001b[38;5;45mNone\u001b[0m)           │              \u001b[38;5;34m0\u001b[0m │ padding_mask[\u001b[38;5;34m0\u001b[0m][\u001b[38;5;34m0\u001b[0m]     │\n",
              "├───────────────────────────┼────────────────────────┼────────────────┼────────────────────────┤\n",
              "│ get_item_2 (\u001b[38;5;33mGetItem\u001b[0m)      │ (\u001b[38;5;45mNone\u001b[0m, \u001b[38;5;45mNone\u001b[0m)           │              \u001b[38;5;34m0\u001b[0m │ token_ids[\u001b[38;5;34m0\u001b[0m][\u001b[38;5;34m0\u001b[0m]        │\n",
              "├───────────────────────────┼────────────────────────┼────────────────┼────────────────────────┤\n",
              "│ deberta_v3_backbone       │ (\u001b[38;5;45mNone\u001b[0m, \u001b[38;5;45mNone\u001b[0m, \u001b[38;5;34m384\u001b[0m)      │     \u001b[38;5;34m70,682,112\u001b[0m │ get_item_1[\u001b[38;5;34m0\u001b[0m][\u001b[38;5;34m0\u001b[0m],      │\n",
              "│ (\u001b[38;5;33mDebertaV3Backbone\u001b[0m)       │                        │                │ get_item[\u001b[38;5;34m0\u001b[0m][\u001b[38;5;34m0\u001b[0m],        │\n",
              "│                           │                        │                │ get_item_3[\u001b[38;5;34m0\u001b[0m][\u001b[38;5;34m0\u001b[0m],      │\n",
              "│                           │                        │                │ get_item_2[\u001b[38;5;34m0\u001b[0m][\u001b[38;5;34m0\u001b[0m]       │\n",
              "├───────────────────────────┼────────────────────────┼────────────────┼────────────────────────┤\n",
              "│ concatenate (\u001b[38;5;33mConcatenate\u001b[0m) │ (\u001b[38;5;45mNone\u001b[0m, \u001b[38;5;45mNone\u001b[0m, \u001b[38;5;34m768\u001b[0m)      │              \u001b[38;5;34m0\u001b[0m │ deberta_v3_backbone[\u001b[38;5;34m0\u001b[0m… │\n",
              "│                           │                        │                │ deberta_v3_backbone[\u001b[38;5;34m1\u001b[0m… │\n",
              "├───────────────────────────┼────────────────────────┼────────────────┼────────────────────────┤\n",
              "│ global_average_pooling1d  │ (\u001b[38;5;45mNone\u001b[0m, \u001b[38;5;34m768\u001b[0m)            │              \u001b[38;5;34m0\u001b[0m │ concatenate[\u001b[38;5;34m0\u001b[0m][\u001b[38;5;34m0\u001b[0m]      │\n",
              "│ (\u001b[38;5;33mGlobalAveragePooling1D\u001b[0m)  │                        │                │                        │\n",
              "├───────────────────────────┼────────────────────────┼────────────────┼────────────────────────┤\n",
              "│ classifier (\u001b[38;5;33mDense\u001b[0m)        │ (\u001b[38;5;45mNone\u001b[0m, \u001b[38;5;34m3\u001b[0m)              │          \u001b[38;5;34m2,307\u001b[0m │ global_average_poolin… │\n",
              "└───────────────────────────┴────────────────────────┴────────────────┴────────────────────────┘\n"
            ]
          },
          "metadata": {},
          "output_type": "display_data"
        },
        {
          "data": {
            "text/html": [
              "<pre style=\"white-space:pre;overflow-x:auto;line-height:normal;font-family:Menlo,'DejaVu Sans Mono',consolas,'Courier New',monospace\"><span style=\"font-weight: bold\"> Total params: </span><span style=\"color: #00af00; text-decoration-color: #00af00\">70,684,419</span> (269.64 MB)\n",
              "</pre>\n"
            ],
            "text/plain": [
              "\u001b[1m Total params: \u001b[0m\u001b[38;5;34m70,684,419\u001b[0m (269.64 MB)\n"
            ]
          },
          "metadata": {},
          "output_type": "display_data"
        },
        {
          "data": {
            "text/html": [
              "<pre style=\"white-space:pre;overflow-x:auto;line-height:normal;font-family:Menlo,'DejaVu Sans Mono',consolas,'Courier New',monospace\"><span style=\"font-weight: bold\"> Trainable params: </span><span style=\"color: #00af00; text-decoration-color: #00af00\">70,684,419</span> (269.64 MB)\n",
              "</pre>\n"
            ],
            "text/plain": [
              "\u001b[1m Trainable params: \u001b[0m\u001b[38;5;34m70,684,419\u001b[0m (269.64 MB)\n"
            ]
          },
          "metadata": {},
          "output_type": "display_data"
        },
        {
          "data": {
            "text/html": [
              "<pre style=\"white-space:pre;overflow-x:auto;line-height:normal;font-family:Menlo,'DejaVu Sans Mono',consolas,'Courier New',monospace\"><span style=\"font-weight: bold\"> Non-trainable params: </span><span style=\"color: #00af00; text-decoration-color: #00af00\">0</span> (0.00 B)\n",
              "</pre>\n"
            ],
            "text/plain": [
              "\u001b[1m Non-trainable params: \u001b[0m\u001b[38;5;34m0\u001b[0m (0.00 B)\n"
            ]
          },
          "metadata": {},
          "output_type": "display_data"
        }
      ],
      "source": [
        "model.summary()"
      ]
    },
    {
      "cell_type": "code",
      "execution_count": null,
      "metadata": {
        "colab": {
          "base_uri": "https://localhost:8080/",
          "height": 626
        },
        "execution": {
          "iopub.execute_input": "2025-02-20T03:30:06.575655Z",
          "iopub.status.busy": "2025-02-20T03:30:06.575353Z",
          "iopub.status.idle": "2025-02-20T03:30:06.589819Z",
          "shell.execute_reply": "2025-02-20T03:30:06.589046Z",
          "shell.execute_reply.started": "2025-02-20T03:30:06.575614Z"
        },
        "id": "sELO63hFkqMt",
        "outputId": "55b7207c-84ca-4aff-d775-a508ff8ab628",
        "trusted": true
      },
      "outputs": [
        {
          "data": {
            "image/png": "[encoded data removed]",
            "text/plain": [
              "<IPython.core.display.Image object>"
            ]
          },
          "execution_count": 58,
          "metadata": {},
          "output_type": "execute_result"
        }
      ],
      "source": [
        "keras.utils.plot_model(model, show_shapes=True, show_layer_names=True)"
      ]
    },
    {
      "cell_type": "markdown",
      "metadata": {
        "id": "3jV6YWKokqMt"
      },
      "source": [
        "# Training"
      ]
    },
    {
      "cell_type": "code",
      "execution_count": null,
      "metadata": {
        "colab": {
          "base_uri": "https://localhost:8080/"
        },
        "execution": {
          "iopub.execute_input": "2025-02-20T03:30:06.590728Z",
          "iopub.status.busy": "2025-02-20T03:30:06.590494Z",
          "iopub.status.idle": "2025-02-20T03:30:06.605385Z",
          "shell.execute_reply": "2025-02-20T03:30:06.604633Z",
          "shell.execute_reply.started": "2025-02-20T03:30:06.590709Z"
        },
        "id": "ZfvIlDBOkqMt",
        "outputId": "1497893b-b525-42b5-eb34-be43dc07f6e5",
        "trusted": true
      },
      "outputs": [
        {
          "name": "stdout",
          "output_type": "stream",
          "text": [
            "Epoch 1/5\n",
            "\u001b[1m2874/2874\u001b[0m \u001b[32m━━━━━━━━━━━━━━━━━━━━\u001b[0m\u001b[37m\u001b[0m \u001b[1m2741s\u001b[0m 937ms/step - accuracy: 0.3893 - log_loss: 1.1495 - loss: 1.1505 - val_accuracy: 0.4375 - val_log_loss: 1.0646 - val_loss: 1.0665 - learning_rate: 1.0000e-06\n",
            "Epoch 2/5\n",
            "\u001b[1m2874/2874\u001b[0m \u001b[32m━━━━━━━━━━━━━━━━━━━━\u001b[0m\u001b[37m\u001b[0m \u001b[1m2611s\u001b[0m 895ms/step - accuracy: 0.4422 - log_loss: 1.0634 - loss: 1.0653 - val_accuracy: 0.4655 - val_log_loss: 1.0413 - val_loss: 1.0440 - learning_rate: 5.3000e-06\n",
            "Epoch 3/5\n",
            "\u001b[1m2874/2874\u001b[0m \u001b[32m━━━━━━━━━━━━━━━━━━━━\u001b[0m\u001b[37m\u001b[0m \u001b[1m2571s\u001b[0m 894ms/step - accuracy: 0.4655 - log_loss: 1.0399 - loss: 1.0428 - val_accuracy: 0.4709 - val_log_loss: 1.0336 - val_loss: 1.0367 - learning_rate: 9.6000e-06\n",
            "Epoch 4/5\n",
            "\u001b[1m2874/2874\u001b[0m \u001b[32m━━━━━━━━━━━━━━━━━━━━\u001b[0m\u001b[37m\u001b[0m \u001b[1m2595s\u001b[0m 903ms/step - accuracy: 0.4901 - log_loss: 1.0123 - loss: 1.0161 - val_accuracy: 0.4707 - val_log_loss: 1.0340 - val_loss: 1.0378 - learning_rate: 9.4258e-06\n",
            "Epoch 5/5\n",
            "\u001b[1m2874/2874\u001b[0m \u001b[32m━━━━━━━━━━━━━━━━━━━━\u001b[0m\u001b[37m\u001b[0m \u001b[1m2568s\u001b[0m 893ms/step - accuracy: 0.5221 - log_loss: 0.9778 - loss: 0.9829 - val_accuracy: 0.4636 - val_log_loss: 1.0506 - val_loss: 1.0547 - learning_rate: 8.9174e-06\n"
          ]
        }
      ],
      "source": [
        "history = model.fit(\n",
        "    train_ds,\n",
        "    epochs = CFG.epochs, # 1 个 epoch = 完整训练数据集被模型遍历 1 次。\n",
        "    validation_data = valid_ds, # 在 每个 epoch 结束后，模型在 valid_ds 进行 评估，检查性能\n",
        "    callbacks=[lr_cb, ckpt_cb]\n",
        ")"
      ]
    },
    {
      "cell_type": "markdown",
      "metadata": {
        "id": "XyhNRNaJkqMu"
      },
      "source": [
        "# deberta_v3_small_en\n",
        "Epoch 1/3\n",
        "2874/2874 ━━━━━━━━━━━━━━━━━━━━ 3480s 1s/step - accuracy: 0.3996 - log_loss: 1.0944 - loss: 1.0954 - val_accuracy: 0.4572 - val_log_loss: 1.0450 - val_loss: 1.0471 - learning_rate: 1.0000e-06\n",
        "\n",
        "Epoch 2/3\n",
        "2874/2874 ━━━━━━━━━━━━━━━━━━━━ 3419s 1s/step - accuracy: 0.4461 - log_loss: 1.0547 - loss: 1.0570 - val_accuracy: 0.4799 - val_log_loss: 1.0249 - val_loss: 1.0280 - learning_rate: 5.3000e-06\n",
        "\n",
        "Epoch 3/3\n",
        "2874/2874 ━━━━━━━━━━━━━━━━━━━━ 3362s 1s/step - accuracy: 0.4765 - log_loss: 1.0257 - loss: 1.0293 - val_accuracy: 0.4746 - val_log_loss: 1.0269 - val_loss: 1.0306 - learning_rate: 9.6000e-06"
      ]
    },
    {
      "cell_type": "markdown",
      "metadata": {
        "id": "1hEw-KOdkqMu"
      },
      "source": [
        "# deberta_v3_extra_small_en\n",
        "Epoch 1/3\n",
        "2874/2874 ━━━━━━━━━━━━━━━━━━━━ 2689s 921ms/step - accuracy: 0.3887 - log_loss: 1.1498 - loss: 1.1508 - val_accuracy: 0.4382 - val_log_loss: 1.0643 - val_loss: 1.0662 - learning_rate: 1.0000e-06\n",
        "\n",
        "Epoch 2/3\n",
        "2874/2874 ━━━━━━━━━━━━━━━━━━━━ 2586s 887ms/step - accuracy: 0.4431 - log_loss: 1.0635 - loss: 1.0655 - val_accuracy: 0.4664 - val_log_loss: 1.0417 - val_loss: 1.0444 - learning_rate: 5.3000e-06\n",
        "\n",
        "Epoch 3/3\n",
        "2874/2874 ━━━━━━━━━━━━━━━━━━━━ 2540s 884ms/step - accuracy: 0.4654 - log_loss: 1.0397 - loss: 1.0425 - val_accuracy: 0.4717 - val_log_loss: 1.0326 - val_loss: 1.0357 - learning_rate: 9.6000e-06"
      ]
    },
    {
      "cell_type": "markdown",
      "metadata": {
        "id": "LtTXTY74ZXqt"
      },
      "source": [
        "# deberta_v3_extra_small_en (5 epochs)\n",
        "\n",
        "Epoch 1/5\n",
        "2874/2874 ━━━━━━━━━━━━━━━━━━━━ 2741s 937ms/step - accuracy: 0.3893 - log_loss: 1.1495 - loss: 1.1505 - val_accuracy: 0.4375 - val_log_loss: 1.0646 - val_loss: 1.0665 - learning_rate: 1.0000e-06\n",
        "\n",
        "Epoch 2/5\n",
        "2874/2874 ━━━━━━━━━━━━━━━━━━━━ 2611s 895ms/step - accuracy: 0.4422 - log_loss: 1.0634 - loss: 1.0653 - val_accuracy: 0.4655 - val_log_loss: 1.0413 - val_loss: 1.0440 - learning_rate: 5.3000e-06\n",
        "\n",
        "Epoch 3/5\n",
        "2874/2874 ━━━━━━━━━━━━━━━━━━━━ 2571s 894ms/step - accuracy: 0.4655 - log_loss: 1.0399 - loss: 1.0428 - val_accuracy: 0.4709 - val_log_loss: 1.0336 - val_loss: 1.0367 - learning_rate: 9.6000e-06\n",
        "\n",
        "Epoch 4/5\n",
        "2874/2874 ━━━━━━━━━━━━━━━━━━━━ 2595s 903ms/step - accuracy: 0.4901 - log_loss: 1.0123 - loss: 1.0161 - val_accuracy: 0.4707 - val_log_loss: 1.0340 - val_loss: 1.0378 - learning_rate: 9.4258e-06\n",
        "\n",
        "Epoch 5/5\n",
        "2874/2874 ━━━━━━━━━━━━━━━━━━━━ 2568s 893ms/step - accuracy: 0.5221 - log_loss: 0.9778 - loss: 0.9829 - val_accuracy: 0.4636 - val_log_loss: 1.0506 - val_loss: 1.0547 - learning_rate: 8.9174e-06"
      ]
    },
    {
      "cell_type": "markdown",
      "metadata": {
        "id": "yxNNmpPLkqMu"
      },
      "source": [
        "# Load Best Model"
      ]
    },
    {
      "cell_type": "code",
      "execution_count": null,
      "metadata": {
        "execution": {
          "iopub.execute_input": "2025-02-20T03:30:06.606476Z",
          "iopub.status.busy": "2025-02-20T03:30:06.606198Z",
          "iopub.status.idle": "2025-02-20T03:30:06.619422Z",
          "shell.execute_reply": "2025-02-20T03:30:06.618647Z",
          "shell.execute_reply.started": "2025-02-20T03:30:06.606447Z"
        },
        "id": "Xa_q1ItBkqMv",
        "trusted": true
      },
      "outputs": [],
      "source": [
        "model.load_weights('/kaggle/working/best_model.weights.h5')"
      ]
    },
    {
      "cell_type": "markdown",
      "metadata": {
        "id": "pE_859PSkqMv"
      },
      "source": [
        "# Prediction"
      ]
    },
    {
      "cell_type": "code",
      "execution_count": null,
      "metadata": {
        "execution": {
          "iopub.execute_input": "2025-02-20T03:30:06.620358Z",
          "iopub.status.busy": "2025-02-20T03:30:06.620101Z",
          "iopub.status.idle": "2025-02-20T03:30:06.633510Z",
          "shell.execute_reply": "2025-02-20T03:30:06.632877Z",
          "shell.execute_reply.started": "2025-02-20T03:30:06.620340Z"
        },
        "id": "Qn2hb6hlkqMw",
        "trusted": true
      },
      "outputs": [],
      "source": [
        "# Build test dataset\n",
        "test_texts = test_df.options.tolist()\n",
        "test_ds = build_dataset(\n",
        "    test_texts,\n",
        "    batch_size=min(len(test_df), CFG.batch_size),\n",
        "    shuffle=False\n",
        ")"
      ]
    },
    {
      "cell_type": "code",
      "execution_count": null,
      "metadata": {
        "execution": {
          "iopub.execute_input": "2025-02-20T03:30:06.634407Z",
          "iopub.status.busy": "2025-02-20T03:30:06.634219Z",
          "iopub.status.idle": "2025-02-20T03:30:06.648995Z",
          "shell.execute_reply": "2025-02-20T03:30:06.648330Z",
          "shell.execute_reply.started": "2025-02-20T03:30:06.634391Z"
        },
        "id": "7JsAlESOkqMw",
        "trusted": true
      },
      "outputs": [],
      "source": [
        "# Make predictions using the trained model on test data\n",
        "test_preds = model.predict(test_ds, verbose=1)"
      ]
    },
    {
      "cell_type": "markdown",
      "metadata": {
        "id": "5JW3NbPQkqMw"
      },
      "source": [
        "# 5-Fold Cross-Validation and Ensemble"
      ]
    },
    {
      "cell_type": "markdown",
      "metadata": {
        "id": "nSniMp5JkqMx"
      },
      "source": [
        "XlaRuntimeError: RESOURCE_EXHAUSTED: Out of memory while trying to allocate 9002724144 bytes."
      ]
    },
    {
      "cell_type": "code",
      "execution_count": null,
      "metadata": {
        "execution": {
          "execution_failed": "2025-02-20T06:51:52.002Z",
          "iopub.execute_input": "2025-02-20T03:31:47.000840Z",
          "iopub.status.busy": "2025-02-20T03:31:47.000481Z"
        },
        "id": "jRt2sunbkqMx",
        "trusted": true
      },
      "outputs": [],
      "source": [
        "# # Define constants\n",
        "# NUM_FOLDS = 5\n",
        "\n",
        "# # Prepare Stratified K-Fold\n",
        "# skf = StratifiedKFold(n_splits = NUM_FOLDS, shuffle=True, random_state=CFG.seed)\n",
        "\n",
        "# train_data = df.options\n",
        "# train_labels = df.class_label\n",
        "\n",
        "# # Store models and out-of-fold predictions\n",
        "# models = []\n",
        "# oof_predictions = np.zeros((len(train_data), 3))\n",
        "\n",
        "# for fold, (train_idx, val_idx) in enumerate(skf.split(train_data, train_labels)):\n",
        "#     print(f\"Training Fold {fold+1}/{NUM_FOLDS}\")\n",
        "\n",
        "#     # Create train and validation datasets\n",
        "#     X_train, X_val = train_data.iloc[train_idx].tolist(), train_data.iloc[val_idx].tolist()\n",
        "#     y_train, y_val = train_labels.iloc[train_idx].tolist(), train_labels.iloc[val_idx].tolist()\n",
        "\n",
        "#     train_ds = build_dataset(X_train, y_train, batch_size=CFG.batch_size, shuffle=True)\n",
        "#     valid_ds = build_dataset(X_val, y_val, batch_size=CFG.batch_size, shuffle=False)\n",
        "\n",
        "#     # Define inputs\n",
        "#     inputs = {\n",
        "#         \"token_ids\": keras.Input(shape=(2, None), dtype=tf.int32, name=\"token_ids\"),\n",
        "#         \"padding_mask\": keras.Input(shape=(2, None), dtype=tf.int32, name=\"padding_mask\"),\n",
        "#     }\n",
        "\n",
        "#     # Create DeBERTaV3 backbone\n",
        "#     backbone = keras_nlp.models.DebertaV3Backbone.from_preset(\n",
        "#         CFG.preset,\n",
        "#     )\n",
        "\n",
        "#     # Compute embeddings for first response: (P + R_A) using backbone\n",
        "#     response_a = {k: v[:, 0, :] for k, v in inputs.items()}\n",
        "#     embed_a = backbone(response_a)\n",
        "\n",
        "#     # Compute embeddings for second response: (P + R_B) using the same backbone\n",
        "#     response_b = {k: v[:, 1, :] for k, v in inputs.items()}\n",
        "#     embed_b = backbone(response_b)\n",
        "\n",
        "#     # Concatenate embeddings and apply pooling\n",
        "#     embeds = keras.layers.Concatenate(axis=-1)([embed_a, embed_b]) # 沿着最后一维拼接两个嵌入\n",
        "#     embeds = keras.layers.GlobalAveragePooling1D()(embeds) # 对拼接后的嵌入进行全局平均池化，以减少维度并获得固定长度的向量。\n",
        "#     outputs = keras.layers.Dense(3, activation=\"softmax\", name=\"classifier\")(embeds)\n",
        "\n",
        "#     # Create model\n",
        "#     model = keras.Model(inputs, outputs)\n",
        "\n",
        "#     # Compile the model with optimizer, loss and metrics\n",
        "#     model.compile(\n",
        "#         optimizer=keras.optimizers.Adam(5e-6), # Adam 优化器：学习率 5e-6（较小，适用于预训练模型微调）\n",
        "#         loss=keras.losses.CategoricalCrossentropy(label_smoothing=0.02), # label_smoothing=0.02 用于 减少过拟合，防止模型对某些类别过度自信\n",
        "#         metrics=[\n",
        "#             log_loss,\n",
        "#             keras.metrics.CategoricalAccuracy(name=\"accuracy\")\n",
        "#         ]\n",
        "#     )\n",
        "\n",
        "#     # Define callbacks\n",
        "#     ckpt_cb = keras.callbacks.ModelCheckpoint(\n",
        "#         f'best_model_fold{fold+1}.weights.h5',\n",
        "#         monitor='val_log_loss',\n",
        "#         save_best_only = True, # 仅保存最好的模型\n",
        "#         save_weights_only = True,\n",
        "#         mode = 'min'\n",
        "#     )\n",
        "\n",
        "#     # Train model\n",
        "#     history = model.fit(\n",
        "#         train_ds,\n",
        "#         epochs = CFG.epochs, # 1 个 epoch = 完整训练数据集被模型遍历 1 次。\n",
        "#         validation_data = valid_ds, # 在 每个 epoch 结束后，模型在 valid_ds 进行 评估，检查性能\n",
        "#         callbacks=[lr_cb, ckpt_cb]\n",
        "#     )\n",
        "\n",
        "#     # Store model\n",
        "#     models.append(model)\n",
        "\n",
        "#     # Out-of-fold predictions\n",
        "#     oof_predictions[val_idx] = model.predict(valid_ds)\n"
      ]
    },
    {
      "cell_type": "code",
      "execution_count": null,
      "metadata": {
        "id": "-CFgTJWbkqMy",
        "trusted": true
      },
      "outputs": [],
      "source": [
        "# # Save all models for later ensembling\n",
        "# for i, model in enumerate(models):\n",
        "#     model.save_weights(f\"deberta_model_fold{i+1}.h5\")"
      ]
    },
    {
      "cell_type": "code",
      "execution_count": null,
      "metadata": {
        "id": "eiQFxGxbkqMy",
        "trusted": true
      },
      "outputs": [],
      "source": [
        "# # Build test dataset\n",
        "# test_texts = test_df.options.tolist()\n",
        "# test_ds = build_dataset(\n",
        "#     test_texts,\n",
        "#     batch_size=min(len(test_df), CFG.batch_size),\n",
        "#     shuffle=False\n",
        "# )"
      ]
    },
    {
      "cell_type": "code",
      "execution_count": null,
      "metadata": {
        "id": "SKSd7cM3kqMy",
        "trusted": true
      },
      "outputs": [],
      "source": [
        "# def predict_with_ensemble(models, test_ds):\n",
        "#     predictions = np.zeros((len(test_ds), 3))\n",
        "#     for model in models:\n",
        "#         predictions += model.predict(test_ds) / len(models)\n",
        "#     return predictions\n",
        "\n",
        "# # Get final predictions using ensemble\n",
        "# test_preds = predict_with_ensemble(models, test_ds)"
      ]
    },
    {
      "cell_type": "markdown",
      "metadata": {
        "id": "Mbq9QxY_kqMz"
      },
      "source": [
        "# Submission\""
      ]
    },
    {
      "cell_type": "code",
      "execution_count": null,
      "metadata": {
        "execution": {
          "iopub.status.busy": "2025-02-20T03:30:19.876888Z",
          "iopub.status.idle": "2025-02-20T03:30:19.877199Z",
          "shell.execute_reply": "2025-02-20T03:30:19.877052Z"
        },
        "id": "sBiMv66tkqMz",
        "trusted": true
      },
      "outputs": [],
      "source": [
        "CFG.class_names"
      ]
    },
    {
      "cell_type": "code",
      "execution_count": null,
      "metadata": {
        "execution": {
          "iopub.status.busy": "2025-02-20T03:30:19.878062Z",
          "iopub.status.idle": "2025-02-20T03:30:19.878370Z",
          "shell.execute_reply": "2025-02-20T03:30:19.878265Z"
        },
        "id": "pT7JSsYnkqMz",
        "trusted": true
      },
      "outputs": [],
      "source": [
        "test_preds"
      ]
    },
    {
      "cell_type": "code",
      "execution_count": null,
      "metadata": {
        "execution": {
          "iopub.status.busy": "2025-02-20T03:30:19.878946Z",
          "iopub.status.idle": "2025-02-20T03:30:19.879224Z",
          "shell.execute_reply": "2025-02-20T03:30:19.879110Z"
        },
        "id": "bXETHtC2kqM0",
        "trusted": true
      },
      "outputs": [],
      "source": [
        "sub_df = test_df[[\"id\"]].copy()\n",
        "sub_df[CFG.class_names] = test_preds.tolist()\n",
        "sub_df.to_csv(\"submission.csv\", index=False)\n",
        "sub_df"
      ]
    },
    {
      "cell_type": "code",
      "execution_count": null,
      "metadata": {
        "id": "Qqh0rePOkqM0",
        "trusted": true
      },
      "outputs": [],
      "source": []
    }
  ],
  "metadata": {
    "accelerator": "GPU",
    "colab": {
      "collapsed_sections": [
        "5JW3NbPQkqMw"
      ],
      "gpuType": "T4",
      "provenance": []
    },
    "kaggle": {
      "accelerator": "gpu",
      "dataSources": [
        {
          "databundleVersionId": 9809560,
          "sourceId": 86518,
          "sourceType": "competition"
        },
        {
          "modelId": 2820,
          "modelInstanceId": 4684,
          "sourceId": 6063,
          "sourceType": "modelInstanceVersion"
        },
        {
          "modelId": 2820,
          "modelInstanceId": 4685,
          "sourceId": 6064,
          "sourceType": "modelInstanceVersion"
        }
      ],
      "dockerImageVersionId": 30886,
      "isGpuEnabled": true,
      "isInternetEnabled": false,
      "language": "python",
      "sourceType": "notebook"
    },
    "kernelspec": {
      "display_name": "Python 3",
      "name": "python3"
    },
    "language_info": {
      "codemirror_mode": {
        "name": "ipython",
        "version": 3
      },
      "file_extension": ".py",
      "mimetype": "text/x-python",
      "name": "python",
      "nbconvert_exporter": "python",
      "pygments_lexer": "ipython3",
      "version": "3.10.12"
    }
  },
  "nbformat": 4,
  "nbformat_minor": 0
}
